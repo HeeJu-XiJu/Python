{
 "cells": [
  {
   "cell_type": "markdown",
   "id": "115a793d-a983-49ca-90df-e816d6c4a82e",
   "metadata": {},
   "source": [
    "# 모듈"
   ]
  },
  {
   "cell_type": "code",
   "execution_count": 7,
   "id": "415d4855-e7d5-44ae-90b4-2990924f22dc",
   "metadata": {},
   "outputs": [],
   "source": [
    "import fibo"
   ]
  },
  {
   "cell_type": "code",
   "execution_count": 2,
   "id": "d2d7e4da-8830-4e78-a63a-297dfaadef62",
   "metadata": {},
   "outputs": [
    {
     "name": "stdout",
     "output_type": "stream",
     "text": [
      "<module 'fibo' from '/Users/heeju/Desktop/camp31/python/fibo.py'>\n"
     ]
    }
   ],
   "source": [
    "print(fibo)"
   ]
  },
  {
   "cell_type": "code",
   "execution_count": 3,
   "id": "075678cf-f7f6-4da1-b65d-2b14b4fc632c",
   "metadata": {},
   "outputs": [
    {
     "data": {
      "text/plain": [
       "89"
      ]
     },
     "execution_count": 3,
     "metadata": {},
     "output_type": "execute_result"
    }
   ],
   "source": [
    "fibo.fib_loop(10)"
   ]
  },
  {
   "cell_type": "code",
   "execution_count": 4,
   "id": "b291088c-56a1-42a3-b001-bf395d003b83",
   "metadata": {},
   "outputs": [
    {
     "data": {
      "text/plain": [
       "8"
      ]
     },
     "execution_count": 4,
     "metadata": {},
     "output_type": "execute_result"
    }
   ],
   "source": [
    "fibo.fib_rec(5)"
   ]
  },
  {
   "cell_type": "code",
   "execution_count": 5,
   "id": "4f9cb565-8bf0-448b-ba82-b253980ba6b3",
   "metadata": {},
   "outputs": [
    {
     "ename": "AttributeError",
     "evalue": "module 'fibo' has no attribute 'asdf'",
     "output_type": "error",
     "traceback": [
      "\u001b[0;31m---------------------------------------------------------------------------\u001b[0m",
      "\u001b[0;31mAttributeError\u001b[0m                            Traceback (most recent call last)",
      "Cell \u001b[0;32mIn[5], line 1\u001b[0m\n\u001b[0;32m----> 1\u001b[0m \u001b[43mfibo\u001b[49m\u001b[38;5;241;43m.\u001b[39;49m\u001b[43masdf\u001b[49m()\n",
      "\u001b[0;31mAttributeError\u001b[0m: module 'fibo' has no attribute 'asdf'"
     ]
    }
   ],
   "source": [
    "fibo.asdf()"
   ]
  },
  {
   "cell_type": "code",
   "execution_count": 8,
   "id": "c5499036-1bd9-4a6b-a09b-f38fa8fc407d",
   "metadata": {},
   "outputs": [
    {
     "ename": "AttributeError",
     "evalue": "module 'fibo' has no attribute 'a'",
     "output_type": "error",
     "traceback": [
      "\u001b[0;31m---------------------------------------------------------------------------\u001b[0m",
      "\u001b[0;31mAttributeError\u001b[0m                            Traceback (most recent call last)",
      "Cell \u001b[0;32mIn[8], line 1\u001b[0m\n\u001b[0;32m----> 1\u001b[0m \u001b[43mfibo\u001b[49m\u001b[38;5;241;43m.\u001b[39;49m\u001b[43ma\u001b[49m\n",
      "\u001b[0;31mAttributeError\u001b[0m: module 'fibo' has no attribute 'a'"
     ]
    }
   ],
   "source": [
    "fibo.a # fibo가 변경됐을 때 import를 재실행해줘야 함"
   ]
  },
  {
   "cell_type": "markdown",
   "id": "323cea11-0df0-45cb-9ec3-11ccc31bbb77",
   "metadata": {},
   "source": [
    "# 패키지\n",
    "```python\n",
    "myPackage/\n",
    "    __init__.py\n",
    "    math/\n",
    "        __init__.py\n",
    "        fibo.py\n",
    "        foula.py\n",
    "```\n",
    "- 모듈들의 집합인 폴더\n",
    "- 패키지 안에 __init__.py 파일이 있어야 패키지로 인식"
   ]
  },
  {
   "cell_type": "code",
   "execution_count": 11,
   "id": "f78f5c14-cf56-4fad-99ab-496688692eb0",
   "metadata": {},
   "outputs": [],
   "source": [
    "import myPackage"
   ]
  },
  {
   "cell_type": "code",
   "execution_count": 12,
   "id": "232fd0a2-4f37-4351-a1d8-70e0bda0c95b",
   "metadata": {},
   "outputs": [],
   "source": [
    "from myPackage.math import fomula"
   ]
  },
  {
   "cell_type": "code",
   "execution_count": 13,
   "id": "28963b48-f336-45bd-8197-183dbd5bf99a",
   "metadata": {},
   "outputs": [
    {
     "data": {
      "text/plain": [
       "3.14"
      ]
     },
     "execution_count": 13,
     "metadata": {},
     "output_type": "execute_result"
    }
   ],
   "source": [
    "fomula.pi"
   ]
  },
  {
   "cell_type": "code",
   "execution_count": 14,
   "id": "40722129-1889-49f6-aa12-3887c9c803bc",
   "metadata": {},
   "outputs": [
    {
     "data": {
      "text/plain": [
       "2"
      ]
     },
     "execution_count": 14,
     "metadata": {},
     "output_type": "execute_result"
    }
   ],
   "source": [
    "fomula.my_max(1, 2)"
   ]
  },
  {
   "cell_type": "code",
   "execution_count": 18,
   "id": "0e1bb628-ccb1-4d55-9caa-21111b0f2152",
   "metadata": {},
   "outputs": [
    {
     "name": "stdout",
     "output_type": "stream",
     "text": [
      "2\n",
      "3.14\n"
     ]
    }
   ],
   "source": [
    "import myPackage\n",
    "\n",
    "print(myPackage.math.fomula.my_max(1, 2))\n",
    "print(myPackage.math.fomula.pi)\n",
    "# 매번 코드가 길어지기 때문에 위와 같이 import로 열어주는 것이 일반적인 방법"
   ]
  },
  {
   "cell_type": "code",
   "execution_count": 22,
   "id": "a84485cb-a3ff-49b0-818b-4f6b404a4c4c",
   "metadata": {},
   "outputs": [],
   "source": [
    "from myPackage.math.fibo import fib_loop"
   ]
  },
  {
   "cell_type": "code",
   "execution_count": 23,
   "id": "92cd469a-f343-4d77-a139-ed30a635a172",
   "metadata": {},
   "outputs": [
    {
     "data": {
      "text/plain": [
       "8"
      ]
     },
     "execution_count": 23,
     "metadata": {},
     "output_type": "execute_result"
    }
   ],
   "source": [
    "fib_loop(5)"
   ]
  },
  {
   "cell_type": "code",
   "execution_count": 25,
   "id": "6c13a964-e4b8-49ba-97c5-9520a069e42a",
   "metadata": {},
   "outputs": [],
   "source": [
    "from myPackage.math.fibo import *\n",
    "# *를 사용하면 모든 함수를 불러옴\n",
    "# 메모리에 부하가 오기 때문에 사용할 함수만 들고 오는 것이 일반적"
   ]
  },
  {
   "cell_type": "code",
   "execution_count": 27,
   "id": "31d96ef0-27a5-43ce-ae10-a528fbb13800",
   "metadata": {},
   "outputs": [
    {
     "name": "stdout",
     "output_type": "stream",
     "text": [
      "<module 'myPackage.math.fomula' from '/Users/heeju/Desktop/camp31/python/myPackage/math/fomula.py'>\n"
     ]
    }
   ],
   "source": [
    "fomula = 1234\n",
    "from myPackage.math import fomula\n",
    "\n",
    "print(fomula)\n",
    "# fomula가 중복되면 마지막 fomula를 들고옴"
   ]
  },
  {
   "cell_type": "code",
   "execution_count": 30,
   "id": "a5ebcff8-7193-4557-bd4a-a76c9b5785fb",
   "metadata": {},
   "outputs": [
    {
     "name": "stdout",
     "output_type": "stream",
     "text": [
      "1234\n",
      "<module 'myPackage.math.fomula' from '/Users/heeju/Desktop/camp31/python/myPackage/math/fomula.py'>\n"
     ]
    }
   ],
   "source": [
    "# 해결방안\n",
    "fomula = 1234\n",
    "from myPackage.math import fomula as f\n",
    "\n",
    "print(fomula)\n",
    "print(f)"
   ]
  },
  {
   "cell_type": "markdown",
   "id": "a06a183a-f230-4b0a-a0a3-e3207a227052",
   "metadata": {},
   "source": [
    "# 파이썬 내장 패키지"
   ]
  },
  {
   "cell_type": "markdown",
   "id": "04ae626c-a808-4393-b0bc-f44628cbbe46",
   "metadata": {},
   "source": [
    "## math"
   ]
  },
  {
   "cell_type": "code",
   "execution_count": 32,
   "id": "c6a9c058-6337-46e5-8b12-518a24960cee",
   "metadata": {},
   "outputs": [],
   "source": [
    "import math"
   ]
  },
  {
   "cell_type": "code",
   "execution_count": 33,
   "id": "8b3fd264-212d-4f4c-ae56-4981ab46fb8c",
   "metadata": {},
   "outputs": [
    {
     "data": {
      "text/plain": [
       "3.141592653589793"
      ]
     },
     "execution_count": 33,
     "metadata": {},
     "output_type": "execute_result"
    }
   ],
   "source": [
    "math.pi"
   ]
  },
  {
   "cell_type": "code",
   "execution_count": 34,
   "id": "2f3f9601-3f6c-4ca5-acee-6695dc9173a9",
   "metadata": {},
   "outputs": [
    {
     "data": {
      "text/plain": [
       "2.718281828459045"
      ]
     },
     "execution_count": 34,
     "metadata": {},
     "output_type": "execute_result"
    }
   ],
   "source": [
    "math.e"
   ]
  },
  {
   "cell_type": "code",
   "execution_count": 35,
   "id": "28053bdb-cd3d-42e1-a9e7-9393f4a09036",
   "metadata": {},
   "outputs": [],
   "source": [
    "pi = 3.141592"
   ]
  },
  {
   "cell_type": "code",
   "execution_count": 36,
   "id": "0737aedf-3430-4d22-b747-8a7825a07c94",
   "metadata": {},
   "outputs": [
    {
     "data": {
      "text/plain": [
       "4"
      ]
     },
     "execution_count": 36,
     "metadata": {},
     "output_type": "execute_result"
    }
   ],
   "source": [
    "math.ceil(pi)"
   ]
  },
  {
   "cell_type": "code",
   "execution_count": 37,
   "id": "ccbe6f78-3532-47b0-bc2d-a7a4a2b30e09",
   "metadata": {},
   "outputs": [
    {
     "data": {
      "text/plain": [
       "3"
      ]
     },
     "execution_count": 37,
     "metadata": {},
     "output_type": "execute_result"
    }
   ],
   "source": [
    "math.floor(pi)"
   ]
  },
  {
   "cell_type": "code",
   "execution_count": 38,
   "id": "cdd0e1fb-6de6-44c5-af6d-b042ddda7270",
   "metadata": {},
   "outputs": [
    {
     "data": {
      "text/plain": [
       "3.0"
      ]
     },
     "execution_count": 38,
     "metadata": {},
     "output_type": "execute_result"
    }
   ],
   "source": [
    "math.sqrt(9)"
   ]
  },
  {
   "cell_type": "code",
   "execution_count": 40,
   "id": "141edb5b-69f2-4d3b-bd6e-6f13bb510aef",
   "metadata": {},
   "outputs": [
    {
     "data": {
      "text/plain": [
       "3628800"
      ]
     },
     "execution_count": 40,
     "metadata": {},
     "output_type": "execute_result"
    }
   ],
   "source": [
    "math.factorial(10)"
   ]
  },
  {
   "cell_type": "markdown",
   "id": "5ec8b2df-e8f6-4a37-8088-889fb2ef887c",
   "metadata": {},
   "source": [
    "## random"
   ]
  },
  {
   "cell_type": "code",
   "execution_count": 41,
   "id": "bb5ba5f8-26cf-4e3f-a155-c975c0f01652",
   "metadata": {},
   "outputs": [],
   "source": [
    "import random"
   ]
  },
  {
   "cell_type": "code",
   "execution_count": 42,
   "id": "9d3369b4-d529-4362-b182-bd79040be7a1",
   "metadata": {},
   "outputs": [
    {
     "data": {
      "text/plain": [
       "0.5975770807897601"
      ]
     },
     "execution_count": 42,
     "metadata": {},
     "output_type": "execute_result"
    }
   ],
   "source": [
    "random.random()"
   ]
  },
  {
   "cell_type": "code",
   "execution_count": 43,
   "id": "363bacb9-c008-48cf-83b6-205e6ed9e14a",
   "metadata": {},
   "outputs": [
    {
     "data": {
      "text/plain": [
       "7"
      ]
     },
     "execution_count": 43,
     "metadata": {},
     "output_type": "execute_result"
    }
   ],
   "source": [
    "random.randint(1, 10)"
   ]
  },
  {
   "cell_type": "markdown",
   "id": "f1b66d35-40d5-48e4-99b4-c60f092cd155",
   "metadata": {},
   "source": [
    "#### seed"
   ]
  },
  {
   "cell_type": "code",
   "execution_count": 48,
   "id": "67bebc7e-3eaa-4eaa-82fd-f195d7759ef6",
   "metadata": {},
   "outputs": [
    {
     "data": {
      "text/plain": [
       "0.13436424411240122"
      ]
     },
     "execution_count": 48,
     "metadata": {},
     "output_type": "execute_result"
    }
   ],
   "source": [
    "random.seed(1)\n",
    "random.random()\n",
    "\n",
    "# 1을 기반으로 한 random 출력이 나오므로 같은 값 출력"
   ]
  },
  {
   "cell_type": "markdown",
   "id": "e493e600-5f10-4938-b3c3-30d904e5c298",
   "metadata": {},
   "source": [
    "#### shuffle"
   ]
  },
  {
   "cell_type": "code",
   "execution_count": 49,
   "id": "46a43381-027a-471d-8e19-0387e609282d",
   "metadata": {},
   "outputs": [
    {
     "name": "stdout",
     "output_type": "stream",
     "text": [
      "[1, 2, 3, 4, 5]\n",
      "[4, 2, 5, 3, 1]\n"
     ]
    }
   ],
   "source": [
    "a = [1, 2, 3, 4, 5]\n",
    "print(a)\n",
    "\n",
    "random.shuffle(a)\n",
    "print(a)"
   ]
  },
  {
   "cell_type": "markdown",
   "id": "edf47546-efe3-45dd-a67a-19e7799c6e80",
   "metadata": {},
   "source": [
    "#### choice"
   ]
  },
  {
   "cell_type": "code",
   "execution_count": 52,
   "id": "9dbdaa04-c8dc-4551-8510-37e88fc64099",
   "metadata": {},
   "outputs": [
    {
     "data": {
      "text/plain": [
       "'바위'"
      ]
     },
     "execution_count": 52,
     "metadata": {},
     "output_type": "execute_result"
    }
   ],
   "source": [
    "rcp = ['가위', '바위', '보']\n",
    "random.choice(rcp)"
   ]
  },
  {
   "cell_type": "markdown",
   "id": "28aa2fe5-5f29-49b7-ad02-13ec6e9f234f",
   "metadata": {},
   "source": [
    "#### sample"
   ]
  },
  {
   "cell_type": "code",
   "execution_count": 53,
   "id": "58449674-31e3-4f96-bd19-7d4df38f639c",
   "metadata": {},
   "outputs": [
    {
     "data": {
      "text/plain": [
       "[42, 25, 14, 7, 32, 2]"
      ]
     },
     "execution_count": 53,
     "metadata": {},
     "output_type": "execute_result"
    }
   ],
   "source": [
    "random.sample(range(1, 46), 6)"
   ]
  },
  {
   "cell_type": "markdown",
   "id": "f5afe42e-14d6-4962-9941-f0848bf64c2e",
   "metadata": {},
   "source": [
    "## datetime\n",
    "https://docs.python.org/ko/3/library/datetime.html"
   ]
  },
  {
   "cell_type": "code",
   "execution_count": 56,
   "id": "2cfe3945-f308-4149-b415-c2d173ae1075",
   "metadata": {},
   "outputs": [],
   "source": [
    "from datetime import datetime"
   ]
  },
  {
   "cell_type": "code",
   "execution_count": 57,
   "id": "49ee35e8-c253-4933-9b0f-cf4ab6f2ebc0",
   "metadata": {},
   "outputs": [
    {
     "data": {
      "text/plain": [
       "datetime.datetime(2023, 10, 11, 10, 21, 28, 166012)"
      ]
     },
     "execution_count": 57,
     "metadata": {},
     "output_type": "execute_result"
    }
   ],
   "source": [
    "datetime.now()"
   ]
  },
  {
   "cell_type": "code",
   "execution_count": 58,
   "id": "6896813e-0450-4627-944f-db1e9989aaba",
   "metadata": {},
   "outputs": [
    {
     "data": {
      "text/plain": [
       "datetime.datetime(2023, 10, 11, 10, 22, 9, 582712)"
      ]
     },
     "execution_count": 58,
     "metadata": {},
     "output_type": "execute_result"
    }
   ],
   "source": [
    "datetime.today()"
   ]
  },
  {
   "cell_type": "code",
   "execution_count": 59,
   "id": "44f177b7-2d95-49f0-ad0f-4cf72c45892b",
   "metadata": {},
   "outputs": [
    {
     "name": "stdout",
     "output_type": "stream",
     "text": [
      "2023-10-11 10:22:29.456381\n"
     ]
    }
   ],
   "source": [
    "today = datetime.today()\n",
    "print(today)"
   ]
  },
  {
   "cell_type": "code",
   "execution_count": 60,
   "id": "9f73e43a-1b57-44c8-ad2b-9bf2c8b7400b",
   "metadata": {},
   "outputs": [
    {
     "data": {
      "text/plain": [
       "datetime.datetime(2023, 10, 11, 1, 23, 24, 522622)"
      ]
     },
     "execution_count": 60,
     "metadata": {},
     "output_type": "execute_result"
    }
   ],
   "source": [
    "datetime.utcnow()"
   ]
  },
  {
   "cell_type": "code",
   "execution_count": 65,
   "id": "c5dbc723-22d8-47b5-af7d-8c1f21fe29b0",
   "metadata": {},
   "outputs": [
    {
     "name": "stdout",
     "output_type": "stream",
     "text": [
      "2023년 10월 11일\n",
      "23년 10월 11일\n"
     ]
    }
   ],
   "source": [
    "now = datetime.now()\n",
    "print(now.strftime('%Y년 %m월 %d일'))\n",
    "print(now.strftime('%y년 %m월 %d일'))"
   ]
  },
  {
   "cell_type": "code",
   "execution_count": 66,
   "id": "2d3a3222-06d0-4d2b-8f4c-a729ca3f037a",
   "metadata": {},
   "outputs": [
    {
     "data": {
      "text/plain": [
       "2023"
      ]
     },
     "execution_count": 66,
     "metadata": {},
     "output_type": "execute_result"
    }
   ],
   "source": [
    "now.year"
   ]
  },
  {
   "cell_type": "code",
   "execution_count": 67,
   "id": "687f45af-1020-4233-bf61-65423595345d",
   "metadata": {},
   "outputs": [
    {
     "data": {
      "text/plain": [
       "11"
      ]
     },
     "execution_count": 67,
     "metadata": {},
     "output_type": "execute_result"
    }
   ],
   "source": [
    "now.day"
   ]
  },
  {
   "cell_type": "code",
   "execution_count": 68,
   "id": "3c7cc9af-bf98-4d31-9044-969abe4aa3f6",
   "metadata": {},
   "outputs": [
    {
     "data": {
      "text/plain": [
       "2"
      ]
     },
     "execution_count": 68,
     "metadata": {},
     "output_type": "execute_result"
    }
   ],
   "source": [
    "# 0~6 / 월~일\n",
    "now.weekday()"
   ]
  },
  {
   "cell_type": "code",
   "execution_count": 71,
   "id": "7b82d319-f06c-45ea-8920-bc1191574816",
   "metadata": {},
   "outputs": [
    {
     "name": "stdout",
     "output_type": "stream",
     "text": [
      "2023-01-01 00:00:00\n"
     ]
    }
   ],
   "source": [
    "birth = datetime(2023, 1, 1)\n",
    "print(birth)"
   ]
  },
  {
   "cell_type": "code",
   "execution_count": 72,
   "id": "aa270134-14ce-4d26-a921-4dae88483fcc",
   "metadata": {},
   "outputs": [],
   "source": [
    "from datetime import timedelta"
   ]
  },
  {
   "cell_type": "code",
   "execution_count": 73,
   "id": "d514eac2-3543-48e0-9c7d-6c8dd128e5e6",
   "metadata": {},
   "outputs": [
    {
     "name": "stdout",
     "output_type": "stream",
     "text": [
      "3 days, 0:00:00\n"
     ]
    }
   ],
   "source": [
    "future = timedelta(days=3)\n",
    "print(future)"
   ]
  },
  {
   "cell_type": "code",
   "execution_count": 74,
   "id": "72f5e401-2b5a-4ddf-8a36-8ff41c6fb614",
   "metadata": {},
   "outputs": [
    {
     "data": {
      "text/plain": [
       "datetime.datetime(2023, 1, 4, 0, 0)"
      ]
     },
     "execution_count": 74,
     "metadata": {},
     "output_type": "execute_result"
    }
   ],
   "source": [
    "birth + future"
   ]
  },
  {
   "cell_type": "code",
   "execution_count": 77,
   "id": "27696c24-7ba8-4517-a1f7-59cd70744850",
   "metadata": {},
   "outputs": [
    {
     "name": "stdout",
     "output_type": "stream",
     "text": [
      "81 days, 13:24:15.437777\n"
     ]
    }
   ],
   "source": [
    "new_year = datetime(2024, 1, 1)\n",
    "now = datetime.now()\n",
    "\n",
    "print(new_year - now)"
   ]
  },
  {
   "cell_type": "code",
   "execution_count": 78,
   "id": "75751bd4-7b54-4354-bca7-b52a8974431f",
   "metadata": {},
   "outputs": [
    {
     "name": "stdout",
     "output_type": "stream",
     "text": [
      "2024-01-19 10:36:04.184251\n"
     ]
    }
   ],
   "source": [
    "now = datetime.now()\n",
    "f = timedelta(days=100)\n",
    "\n",
    "print(now + f)"
   ]
  }
 ],
 "metadata": {
  "kernelspec": {
   "display_name": "Python 3 (ipykernel)",
   "language": "python",
   "name": "python3"
  },
  "language_info": {
   "codemirror_mode": {
    "name": "ipython",
    "version": 3
   },
   "file_extension": ".py",
   "mimetype": "text/x-python",
   "name": "python",
   "nbconvert_exporter": "python",
   "pygments_lexer": "ipython3",
   "version": "3.11.5"
  }
 },
 "nbformat": 4,
 "nbformat_minor": 5
}
