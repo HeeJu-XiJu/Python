{
 "cells": [
  {
   "cell_type": "markdown",
   "id": "5baac2f1-5d52-4a60-a71d-e77a1da62ed2",
   "metadata": {},
   "source": [
    "# 함수(function)"
   ]
  },
  {
   "cell_type": "code",
   "execution_count": 1,
   "id": "be457ad6-3241-4712-8ac0-467b83243dc8",
   "metadata": {},
   "outputs": [
    {
     "name": "stdout",
     "output_type": "stream",
     "text": [
      "직사각형의 면적은 200, 둘레는 60입니다.\n"
     ]
    }
   ],
   "source": [
    "height = 10\n",
    "width = 20\n",
    "\n",
    "area = height * width\n",
    "perimeter = (height + width) * 2\n",
    "print(f'직사각형의 면적은 {area}, 둘레는 {perimeter}입니다.')"
   ]
  },
  {
   "cell_type": "markdown",
   "id": "d0597d53-d323-41f7-8c46-dc0a9cceb169",
   "metadata": {},
   "source": [
    "## 함수의 선언과 호출\n",
    "\n",
    "- 함수의 선언\n",
    "```python\n",
    "def func_name(parameter1, parameter2):\n",
    "    code1\n",
    "    code2\n",
    "    .\n",
    "    .\n",
    "    .\n",
    "    return value\n",
    "```\n",
    "\n",
    "- 함수의 호출(실행)\n",
    "```python\n",
    "func_name(parameter1, parameter2)\n",
    "```"
   ]
  },
  {
   "cell_type": "code",
   "execution_count": 2,
   "id": "e2d9d051-5292-478e-979b-37c121541927",
   "metadata": {},
   "outputs": [],
   "source": [
    "def rectangle(height, width):\n",
    "    area = height * width\n",
    "    perimeter = (height + width) * 2\n",
    "    print(area, perimeter)"
   ]
  },
  {
   "cell_type": "code",
   "execution_count": 4,
   "id": "73d023e7-d5da-4175-93b7-1a6dd0b369a8",
   "metadata": {},
   "outputs": [
    {
     "name": "stdout",
     "output_type": "stream",
     "text": [
      "5000 300\n",
      "200 60\n"
     ]
    }
   ],
   "source": [
    "rectangle(100, 50)\n",
    "rectangle(10, 20)"
   ]
  },
  {
   "cell_type": "code",
   "execution_count": 5,
   "id": "92c67b4f-7ca1-4ec3-b008-bd285cfbefb8",
   "metadata": {},
   "outputs": [
    {
     "data": {
      "text/plain": [
       "['ArithmeticError',\n",
       " 'AssertionError',\n",
       " 'AttributeError',\n",
       " 'BaseException',\n",
       " 'BaseExceptionGroup',\n",
       " 'BlockingIOError',\n",
       " 'BrokenPipeError',\n",
       " 'BufferError',\n",
       " 'BytesWarning',\n",
       " 'ChildProcessError',\n",
       " 'ConnectionAbortedError',\n",
       " 'ConnectionError',\n",
       " 'ConnectionRefusedError',\n",
       " 'ConnectionResetError',\n",
       " 'DeprecationWarning',\n",
       " 'EOFError',\n",
       " 'Ellipsis',\n",
       " 'EncodingWarning',\n",
       " 'EnvironmentError',\n",
       " 'Exception',\n",
       " 'ExceptionGroup',\n",
       " 'False',\n",
       " 'FileExistsError',\n",
       " 'FileNotFoundError',\n",
       " 'FloatingPointError',\n",
       " 'FutureWarning',\n",
       " 'GeneratorExit',\n",
       " 'IOError',\n",
       " 'ImportError',\n",
       " 'ImportWarning',\n",
       " 'IndentationError',\n",
       " 'IndexError',\n",
       " 'InterruptedError',\n",
       " 'IsADirectoryError',\n",
       " 'KeyError',\n",
       " 'KeyboardInterrupt',\n",
       " 'LookupError',\n",
       " 'MemoryError',\n",
       " 'ModuleNotFoundError',\n",
       " 'NameError',\n",
       " 'None',\n",
       " 'NotADirectoryError',\n",
       " 'NotImplemented',\n",
       " 'NotImplementedError',\n",
       " 'OSError',\n",
       " 'OverflowError',\n",
       " 'PendingDeprecationWarning',\n",
       " 'PermissionError',\n",
       " 'ProcessLookupError',\n",
       " 'RecursionError',\n",
       " 'ReferenceError',\n",
       " 'ResourceWarning',\n",
       " 'RuntimeError',\n",
       " 'RuntimeWarning',\n",
       " 'StopAsyncIteration',\n",
       " 'StopIteration',\n",
       " 'SyntaxError',\n",
       " 'SyntaxWarning',\n",
       " 'SystemError',\n",
       " 'SystemExit',\n",
       " 'TabError',\n",
       " 'TimeoutError',\n",
       " 'True',\n",
       " 'TypeError',\n",
       " 'UnboundLocalError',\n",
       " 'UnicodeDecodeError',\n",
       " 'UnicodeEncodeError',\n",
       " 'UnicodeError',\n",
       " 'UnicodeTranslateError',\n",
       " 'UnicodeWarning',\n",
       " 'UserWarning',\n",
       " 'ValueError',\n",
       " 'Warning',\n",
       " 'ZeroDivisionError',\n",
       " '__IPYTHON__',\n",
       " '__build_class__',\n",
       " '__debug__',\n",
       " '__doc__',\n",
       " '__import__',\n",
       " '__loader__',\n",
       " '__name__',\n",
       " '__package__',\n",
       " '__spec__',\n",
       " 'abs',\n",
       " 'aiter',\n",
       " 'all',\n",
       " 'anext',\n",
       " 'any',\n",
       " 'ascii',\n",
       " 'bin',\n",
       " 'bool',\n",
       " 'breakpoint',\n",
       " 'bytearray',\n",
       " 'bytes',\n",
       " 'callable',\n",
       " 'chr',\n",
       " 'classmethod',\n",
       " 'compile',\n",
       " 'complex',\n",
       " 'copyright',\n",
       " 'credits',\n",
       " 'delattr',\n",
       " 'dict',\n",
       " 'dir',\n",
       " 'display',\n",
       " 'divmod',\n",
       " 'enumerate',\n",
       " 'eval',\n",
       " 'exec',\n",
       " 'execfile',\n",
       " 'filter',\n",
       " 'float',\n",
       " 'format',\n",
       " 'frozenset',\n",
       " 'get_ipython',\n",
       " 'getattr',\n",
       " 'globals',\n",
       " 'hasattr',\n",
       " 'hash',\n",
       " 'help',\n",
       " 'hex',\n",
       " 'id',\n",
       " 'input',\n",
       " 'int',\n",
       " 'isinstance',\n",
       " 'issubclass',\n",
       " 'iter',\n",
       " 'len',\n",
       " 'license',\n",
       " 'list',\n",
       " 'locals',\n",
       " 'map',\n",
       " 'max',\n",
       " 'memoryview',\n",
       " 'min',\n",
       " 'next',\n",
       " 'object',\n",
       " 'oct',\n",
       " 'open',\n",
       " 'ord',\n",
       " 'pow',\n",
       " 'print',\n",
       " 'property',\n",
       " 'range',\n",
       " 'repr',\n",
       " 'reversed',\n",
       " 'round',\n",
       " 'runfile',\n",
       " 'set',\n",
       " 'setattr',\n",
       " 'slice',\n",
       " 'sorted',\n",
       " 'staticmethod',\n",
       " 'str',\n",
       " 'sum',\n",
       " 'super',\n",
       " 'tuple',\n",
       " 'type',\n",
       " 'vars',\n",
       " 'zip']"
      ]
     },
     "execution_count": 5,
     "metadata": {},
     "output_type": "execute_result"
    }
   ],
   "source": [
    "dir(__builtins__)"
   ]
  },
  {
   "cell_type": "code",
   "execution_count": 6,
   "id": "b49a8511-9c9c-4582-a8ca-15a859126e9e",
   "metadata": {},
   "outputs": [
    {
     "data": {
      "text/plain": [
       "6"
      ]
     },
     "execution_count": 6,
     "metadata": {},
     "output_type": "execute_result"
    }
   ],
   "source": [
    "max(1, 3, 5, 6)"
   ]
  },
  {
   "cell_type": "code",
   "execution_count": 23,
   "id": "8e425dc2-369c-400c-9b1f-60467a154da2",
   "metadata": {},
   "outputs": [],
   "source": [
    "# 두 개의 정수를 받아서 큰 수를 출력\n",
    "def my_max(num1, num2):\n",
    "    if num1 > num2:\n",
    "        print(num1)\n",
    "    elif num1 == num2:\n",
    "        print('같습니다.')\n",
    "    else:\n",
    "        print(num2)\n",
    "\n",
    "    # return None"
   ]
  },
  {
   "cell_type": "code",
   "execution_count": 22,
   "id": "ba64af28-76f8-48fa-aaf7-caa4b29d2598",
   "metadata": {},
   "outputs": [
    {
     "name": "stdout",
     "output_type": "stream",
     "text": [
      "2\n",
      "같습니다.\n",
      "None\n"
     ]
    }
   ],
   "source": [
    "my_max(1, 2)\n",
    "a = my_max(5, 5)\n",
    "print(a)"
   ]
  },
  {
   "cell_type": "markdown",
   "id": "c937e85e-d7d2-4463-b0b8-75591175042c",
   "metadata": {},
   "source": [
    "## 함수의 return\n",
    "\n",
    "- 함수가 return을 만나면 해당 값을 반환하고 함수를 종료\n",
    "- 만약 return이 없다면 None을 자동으로 반환\n",
    "- return은 오직 하나의 객체만 반환"
   ]
  },
  {
   "cell_type": "code",
   "execution_count": 16,
   "id": "2f092bcd-5c4c-4264-becc-940bebec8dff",
   "metadata": {},
   "outputs": [],
   "source": [
    "def my_max2(num1, num2):\n",
    "    return 'hello' \n",
    "    \n",
    "    if num1 > num2:\n",
    "        return num1\n",
    "    elif num1 == num2:\n",
    "        print('같습니다.')\n",
    "    else:\n",
    "        return num2"
   ]
  },
  {
   "cell_type": "code",
   "execution_count": 17,
   "id": "d2128c16-e86a-4317-96b2-76fd0e990758",
   "metadata": {},
   "outputs": [
    {
     "data": {
      "text/plain": [
       "'hello'"
      ]
     },
     "execution_count": 17,
     "metadata": {},
     "output_type": "execute_result"
    }
   ],
   "source": [
    "my_max2(1,2)"
   ]
  },
  {
   "cell_type": "code",
   "execution_count": 18,
   "id": "148e50d9-03ab-41bb-82e9-8448a9e6bd54",
   "metadata": {},
   "outputs": [],
   "source": [
    "def my_max3(num1, num2):\n",
    "    \n",
    "    if num1 > num2:\n",
    "        return num1\n",
    "    elif num1 == num2:\n",
    "        print('같습니다.')\n",
    "    else:\n",
    "        return num2"
   ]
  },
  {
   "cell_type": "code",
   "execution_count": 19,
   "id": "3ad86e78-afd9-4acf-8929-9dd706cafa4e",
   "metadata": {},
   "outputs": [
    {
     "name": "stdout",
     "output_type": "stream",
     "text": [
      "2\n"
     ]
    }
   ],
   "source": [
    "a = my_max3(1, 2)\n",
    "print(a)"
   ]
  },
  {
   "cell_type": "code",
   "execution_count": 28,
   "id": "ff3ba2e0-fa1d-4d9e-a192-559fe25ff45e",
   "metadata": {},
   "outputs": [],
   "source": [
    "def my_list_max(list1, list2):\n",
    "\n",
    "    # return 1, 2 => Tuple로 반환\n",
    "    \n",
    "    if sum(list1) > sum(list2):\n",
    "        return list1\n",
    "    else:\n",
    "        return list2"
   ]
  },
  {
   "cell_type": "code",
   "execution_count": 29,
   "id": "84a7016a-d8a4-4183-90b6-d678df43ae5a",
   "metadata": {},
   "outputs": [
    {
     "data": {
      "text/plain": [
       "[4, 5, 6]"
      ]
     },
     "execution_count": 29,
     "metadata": {},
     "output_type": "execute_result"
    }
   ],
   "source": [
    "my_list_max([1, 2, 3], [4, 5, 6])"
   ]
  },
  {
   "cell_type": "markdown",
   "id": "f9472ab5-1b33-467a-ac0a-7191e9df3d46",
   "metadata": {},
   "source": [
    "## 함수의 인수"
   ]
  },
  {
   "cell_type": "markdown",
   "id": "7131a8bf-8b55-44b0-af4d-bf10d171353a",
   "metadata": {},
   "source": [
    "### 위치인수\n",
    "기본적으로 함수는 인수의 위치로 판단합니다."
   ]
  },
  {
   "cell_type": "code",
   "execution_count": 30,
   "id": "776e21b1-978d-4bb7-ab1f-7b32a27f928b",
   "metadata": {},
   "outputs": [],
   "source": [
    "def cylinder(r, h):\n",
    "    return 3.14 * r**2 * h"
   ]
  },
  {
   "cell_type": "code",
   "execution_count": 33,
   "id": "733fa859-0a24-4a07-9355-ab12ba00f54d",
   "metadata": {},
   "outputs": [
    {
     "name": "stdout",
     "output_type": "stream",
     "text": [
      "1570.0\n",
      "785.0\n"
     ]
    }
   ],
   "source": [
    "print(cylinder(10, 5))\n",
    "print(cylinder(5, 10)) # 인수 위치따라 값 다름"
   ]
  },
  {
   "cell_type": "markdown",
   "id": "898a1bbb-8010-4a4e-bd31-15bb73b1f183",
   "metadata": {},
   "source": [
    "### 기본값\n",
    "\n",
    "```python\n",
    "def func(p1=v1):\n",
    "    code\n",
    "    .\n",
    "    .\n",
    "    .\n",
    "    return p1"
   ]
  },
  {
   "cell_type": "code",
   "execution_count": 46,
   "id": "51f56808-70c4-4d9e-b195-1574b40a75c8",
   "metadata": {},
   "outputs": [],
   "source": [
    "def greeting(name='익명'):\n",
    "    return f'{name}님 안녕하세요!!'"
   ]
  },
  {
   "cell_type": "code",
   "execution_count": 39,
   "id": "6d732901-bc22-42b1-8696-a3b94df0b1bc",
   "metadata": {},
   "outputs": [
    {
     "name": "stdout",
     "output_type": "stream",
     "text": [
      "heeju님 안녕하세요!!\n"
     ]
    }
   ],
   "source": [
    "print(greeting('heeju'))"
   ]
  },
  {
   "cell_type": "code",
   "execution_count": 45,
   "id": "d8a7d495-e200-4d5b-811e-02f4b9304136",
   "metadata": {},
   "outputs": [
    {
     "ename": "TypeError",
     "evalue": "greeting() missing 1 required positional argument: 'name'",
     "output_type": "error",
     "traceback": [
      "\u001b[0;31m---------------------------------------------------------------------------\u001b[0m",
      "\u001b[0;31mTypeError\u001b[0m                                 Traceback (most recent call last)",
      "Cell \u001b[0;32mIn[45], line 1\u001b[0m\n\u001b[0;32m----> 1\u001b[0m \u001b[43mgreeting\u001b[49m\u001b[43m(\u001b[49m\u001b[43m)\u001b[49m \u001b[38;5;66;03m# 기본값 넣기 전\u001b[39;00m\n",
      "\u001b[0;31mTypeError\u001b[0m: greeting() missing 1 required positional argument: 'name'"
     ]
    }
   ],
   "source": [
    "greeting() # 기본값 넣기 전"
   ]
  },
  {
   "cell_type": "code",
   "execution_count": 47,
   "id": "8ee480e9-ef25-4c53-b543-22b4b3f2a32e",
   "metadata": {},
   "outputs": [
    {
     "data": {
      "text/plain": [
       "'익명님 안녕하세요!!'"
      ]
     },
     "execution_count": 47,
     "metadata": {},
     "output_type": "execute_result"
    }
   ],
   "source": [
    "greeting() # 기본값 넣은 후"
   ]
  },
  {
   "cell_type": "code",
   "execution_count": 49,
   "id": "4206ae6c-5bab-4b6b-aa9e-ec6421191c70",
   "metadata": {},
   "outputs": [
    {
     "name": "stdout",
     "output_type": "stream",
     "text": [
      "hello!world\n"
     ]
    }
   ],
   "source": [
    "print('hello', 'world', sep='!') # sep 구분점"
   ]
  },
  {
   "cell_type": "code",
   "execution_count": 50,
   "id": "5ad396a1-2472-468f-950e-19b6672796b0",
   "metadata": {},
   "outputs": [
    {
     "ename": "SyntaxError",
     "evalue": "non-default argument follows default argument (2027944172.py, line 1)",
     "output_type": "error",
     "traceback": [
      "\u001b[0;36m  Cell \u001b[0;32mIn[50], line 1\u001b[0;36m\u001b[0m\n\u001b[0;31m    def greeting(name='익명', age):\u001b[0m\n\u001b[0m                            ^\u001b[0m\n\u001b[0;31mSyntaxError\u001b[0m\u001b[0;31m:\u001b[0m non-default argument follows default argument\n"
     ]
    }
   ],
   "source": [
    "def greeting(name='익명', age):\n",
    "    return f'{name}님은 {age}살입니다.'"
   ]
  },
  {
   "cell_type": "code",
   "execution_count": 55,
   "id": "4b5af37c-eb4a-420f-8a7d-12ac7c36b7ee",
   "metadata": {},
   "outputs": [],
   "source": [
    "def greeting(age, name='익명'):\n",
    "    return f'{name}님은 {age}살입니다.' # 기본값이 있는 인자를 뒤쪽에 배열"
   ]
  },
  {
   "cell_type": "code",
   "execution_count": 58,
   "id": "2eeb7b95-1e26-4b3b-b9ad-879aac1cc1d2",
   "metadata": {},
   "outputs": [
    {
     "name": "stdout",
     "output_type": "stream",
     "text": [
      "홍길동님은 50살입니다.\n",
      "익명님은 10살입니다.\n"
     ]
    }
   ],
   "source": [
    "print(greeting(50, '홍길동'))\n",
    "# 기본값이 있는 인자를 선언하지 않을 수 있기 때문에 함수 정의 시 뒤쪽에 배열해야 함\n",
    "print(greeting(10))"
   ]
  },
  {
   "cell_type": "markdown",
   "id": "252f93c9-dcf4-470d-8dfe-2a737af6ac37",
   "metadata": {},
   "source": [
    "### 키워드 인자\n",
    "함수를 호출(실행)할 때 내가 원하는 위치에 직접적으로 특정인자를 전달 가능"
   ]
  },
  {
   "cell_type": "code",
   "execution_count": 59,
   "id": "34e45111-95e0-4663-b568-ab1ca0f330ef",
   "metadata": {},
   "outputs": [],
   "source": [
    "def greeting(age, name='익명'):\n",
    "    return f'{name}님은 {age}살입니다.'"
   ]
  },
  {
   "cell_type": "code",
   "execution_count": 60,
   "id": "08e6c5af-0b25-4f96-8cb3-122532982cdf",
   "metadata": {},
   "outputs": [
    {
     "name": "stdout",
     "output_type": "stream",
     "text": [
      "익명님은 10살입니다.\n",
      "홍길동님은 20살입니다.\n",
      "홍길동님은 30살입니다.\n"
     ]
    }
   ],
   "source": [
    "print(greeting(10))\n",
    "print(greeting(20, '홍길동'))\n",
    "print(greeting(name='홍길동', age=30)) # 인자 위치를 변경하여 사용"
   ]
  },
  {
   "cell_type": "markdown",
   "id": "b707dab1-9e28-4674-8edf-003cc2e1c6e4",
   "metadata": {},
   "source": [
    "### 가변 인자 리스트\n",
    "```python\n",
    "def func(*parms):\n",
    "    code\n",
    "    .\n",
    "    .\n",
    "    .\n",
    "```"
   ]
  },
  {
   "cell_type": "code",
   "execution_count": 63,
   "id": "27a76dd8-53c6-4e0d-8b12-95b4a28f3f24",
   "metadata": {},
   "outputs": [],
   "source": [
    "def my_print(*words):\n",
    "    print(words)\n",
    "    print(type(words))"
   ]
  },
  {
   "cell_type": "code",
   "execution_count": 64,
   "id": "a3d1e45e-2922-45a0-9a79-ed74bb0af90e",
   "metadata": {},
   "outputs": [
    {
     "name": "stdout",
     "output_type": "stream",
     "text": [
      "('a', 'b', 'c', 'd')\n",
      "<class 'tuple'>\n"
     ]
    }
   ],
   "source": [
    "my_print('a', 'b', 'c', 'd')"
   ]
  },
  {
   "cell_type": "code",
   "execution_count": 67,
   "id": "31681474-5cee-455f-9644-b77312e81f00",
   "metadata": {},
   "outputs": [
    {
     "name": "stdout",
     "output_type": "stream",
     "text": [
      "a b c d\n"
     ]
    }
   ],
   "source": [
    "print('a', 'b', 'c', 'd')"
   ]
  },
  {
   "cell_type": "code",
   "execution_count": 72,
   "id": "2ecc1586-be2c-457d-ab5a-4363d22a1a9a",
   "metadata": {},
   "outputs": [],
   "source": [
    "# 여러 개의 숫자를 받아 그 중 가장 큰 수를 리턴\n",
    "def my_max(*numbers):\n",
    "    result = numbers[0]\n",
    "    \n",
    "    for number in numbers:\n",
    "        if result < number:\n",
    "            result = number\n",
    "\n",
    "    return result"
   ]
  },
  {
   "cell_type": "code",
   "execution_count": 73,
   "id": "24d508f3-99fe-4019-b515-b5b19a9551af",
   "metadata": {},
   "outputs": [
    {
     "name": "stdout",
     "output_type": "stream",
     "text": [
      "5\n",
      "-1\n"
     ]
    }
   ],
   "source": [
    "print(my_max(1, 2, 3, 4, 5))\n",
    "print(my_max(-1, -2, -3))"
   ]
  },
  {
   "cell_type": "markdown",
   "id": "93b0802e-afb5-4d8a-bd37-f92fb04bb921",
   "metadata": {},
   "source": [
    "### 정의되지 않은 키워드 인자 처리하기\n",
    "```python\n",
    "def func(**kwargs):\n",
    "    code\n",
    "    .\n",
    "    .\n",
    "    .\n",
    "```"
   ]
  },
  {
   "cell_type": "code",
   "execution_count": 75,
   "id": "7ffe4e6d-cd78-40d1-ae46-2db70e8965f8",
   "metadata": {},
   "outputs": [
    {
     "name": "stdout",
     "output_type": "stream",
     "text": [
      "{'name': 'hong', 'age': 10}\n"
     ]
    }
   ],
   "source": [
    "info = {\n",
    "    'name': 'hong',\n",
    "    'age': 10,\n",
    "}\n",
    "print(info)"
   ]
  },
  {
   "cell_type": "code",
   "execution_count": 77,
   "id": "771d6f78-664a-4a19-b224-068797482e07",
   "metadata": {},
   "outputs": [
    {
     "name": "stdout",
     "output_type": "stream",
     "text": [
      "{'name': 'hong', 'age': 20}\n"
     ]
    }
   ],
   "source": [
    "info = dict(name='hong', age=20)\n",
    "print(info)"
   ]
  },
  {
   "cell_type": "code",
   "execution_count": 78,
   "id": "40d89073-ae42-4126-86db-4e8c3fe018f2",
   "metadata": {},
   "outputs": [],
   "source": [
    "def fake_dict(**kwargs):\n",
    "    print(kwargs)"
   ]
  },
  {
   "cell_type": "code",
   "execution_count": 79,
   "id": "d999485a-fe28-49b1-9576-e4d8cbf9c6d9",
   "metadata": {},
   "outputs": [
    {
     "name": "stdout",
     "output_type": "stream",
     "text": [
      "{'a': 10, 'b': 20}\n"
     ]
    }
   ],
   "source": [
    "fake_dict(a=10, b=20)"
   ]
  },
  {
   "cell_type": "code",
   "execution_count": 80,
   "id": "13aa63ef-6eed-42d6-be3a-279f4ef46748",
   "metadata": {},
   "outputs": [],
   "source": [
    "def fake_dict(**kwargs):\n",
    "    for key, value in kwargs.items():\n",
    "        print(f'{key}는 {value}입니다.')"
   ]
  },
  {
   "cell_type": "code",
   "execution_count": 81,
   "id": "de17bcee-78fe-49fc-a024-d9230dcd1b7c",
   "metadata": {},
   "outputs": [
    {
     "name": "stdout",
     "output_type": "stream",
     "text": [
      "korean는 안녕입니다.\n",
      "english는 hello입니다.\n"
     ]
    }
   ],
   "source": [
    "fake_dict(korean='안녕', english='hello')"
   ]
  },
  {
   "cell_type": "markdown",
   "id": "80614fbd-870a-4dea-860c-a685cfe10feb",
   "metadata": {},
   "source": [
    "### dictionary를 인자로 넣기(unpacking)"
   ]
  },
  {
   "cell_type": "code",
   "execution_count": 83,
   "id": "6ece25cb-30ed-483d-bc0d-237a5d316a3b",
   "metadata": {},
   "outputs": [],
   "source": [
    "def sign_up(id, pw, pw_confirmation):\n",
    "    if pw == pw_confirmation:\n",
    "        print(f'{id}님 회원가입이 완료되었습니다.')\n",
    "    else:\n",
    "        print('비밀번호가 일치하지 않습니다.')"
   ]
  },
  {
   "cell_type": "code",
   "execution_count": 84,
   "id": "bc58036d-c7ae-4cc6-aa9d-7ac6a7ad1049",
   "metadata": {},
   "outputs": [
    {
     "name": "stdout",
     "output_type": "stream",
     "text": [
      "change님 회원가입이 완료되었습니다.\n",
      "비밀번호가 일치하지 않습니다.\n"
     ]
    }
   ],
   "source": [
    "sign_up('change', '1234', '1234')\n",
    "sign_up('change2', '1234', '12345')"
   ]
  },
  {
   "cell_type": "code",
   "execution_count": 85,
   "id": "b76d17ca-4157-469f-b874-daab1b85766e",
   "metadata": {},
   "outputs": [
    {
     "name": "stdout",
     "output_type": "stream",
     "text": [
      "change님 회원가입이 완료되었습니다.\n"
     ]
    }
   ],
   "source": [
    "account = {\n",
    "    'id': 'change',\n",
    "    'pw': '1234',\n",
    "    'pw_confirmation': '1234',\n",
    "}\n",
    "sign_up(**account)"
   ]
  },
  {
   "cell_type": "markdown",
   "id": "11f929af-dc5a-41e5-a5e2-001385288f6f",
   "metadata": {},
   "source": [
    "### lambda 표현식\n",
    "- 일회성(임시) 함수\n",
    "```python\n",
    "lambda parameter: expression\n",
    "```"
   ]
  },
  {
   "cell_type": "code",
   "execution_count": 88,
   "id": "fb994d43-e671-48f3-b71a-dda868aff5f9",
   "metadata": {},
   "outputs": [
    {
     "data": {
      "text/plain": [
       "3"
      ]
     },
     "execution_count": 88,
     "metadata": {},
     "output_type": "execute_result"
    }
   ],
   "source": [
    "(lambda x, y: x + y)(1, 2)"
   ]
  },
  {
   "cell_type": "code",
   "execution_count": 89,
   "id": "a4b85101-e5ea-4334-8d16-e00a475a4a98",
   "metadata": {},
   "outputs": [
    {
     "name": "stdout",
     "output_type": "stream",
     "text": [
      "3\n"
     ]
    }
   ],
   "source": [
    "def my_sum(x, y):\n",
    "    return x + y\n",
    "\n",
    "print(my_sum(1, 2))"
   ]
  },
  {
   "cell_type": "markdown",
   "id": "79c25f07-d48e-46a2-9ae3-11d8f42f173a",
   "metadata": {},
   "source": [
    "### 타입힌트"
   ]
  },
  {
   "cell_type": "code",
   "execution_count": 94,
   "id": "4f303772-f7b6-43ba-bc64-4802f9436c98",
   "metadata": {},
   "outputs": [],
   "source": [
    "def my_sum(a: int, b: int): # 인자 타입을 힌트\n",
    "    return a + b"
   ]
  },
  {
   "cell_type": "code",
   "execution_count": 93,
   "id": "fa30a535-5257-4c97-8143-b6c5b8c38280",
   "metadata": {},
   "outputs": [
    {
     "ename": "TypeError",
     "evalue": "can only concatenate str (not \"int\") to str",
     "output_type": "error",
     "traceback": [
      "\u001b[0;31m---------------------------------------------------------------------------\u001b[0m",
      "\u001b[0;31mTypeError\u001b[0m                                 Traceback (most recent call last)",
      "Cell \u001b[0;32mIn[93], line 1\u001b[0m\n\u001b[0;32m----> 1\u001b[0m \u001b[43mmy_sum\u001b[49m\u001b[43m(\u001b[49m\u001b[38;5;124;43m'\u001b[39;49m\u001b[38;5;124;43m1\u001b[39;49m\u001b[38;5;124;43m'\u001b[39;49m\u001b[43m,\u001b[49m\u001b[43m \u001b[49m\u001b[38;5;241;43m2\u001b[39;49m\u001b[43m)\u001b[49m\n",
      "Cell \u001b[0;32mIn[92], line 2\u001b[0m, in \u001b[0;36mmy_sum\u001b[0;34m(a, b)\u001b[0m\n\u001b[1;32m      1\u001b[0m \u001b[38;5;28;01mdef\u001b[39;00m \u001b[38;5;21mmy_sum\u001b[39m(a: \u001b[38;5;28mint\u001b[39m, b: \u001b[38;5;28mint\u001b[39m):\n\u001b[0;32m----> 2\u001b[0m     \u001b[38;5;28;01mreturn\u001b[39;00m \u001b[43ma\u001b[49m\u001b[43m \u001b[49m\u001b[38;5;241;43m+\u001b[39;49m\u001b[43m \u001b[49m\u001b[43mb\u001b[49m\n",
      "\u001b[0;31mTypeError\u001b[0m: can only concatenate str (not \"int\") to str"
     ]
    }
   ],
   "source": [
    "my_sum('1', 2)"
   ]
  },
  {
   "cell_type": "markdown",
   "id": "622b0b2b-fc20-49ef-8690-98b1922b23b1",
   "metadata": {},
   "source": [
    "### 이름공간(scope)\n",
    "python에서 사용되는 이름들은 이름공간(namespace)에 저장되어 있습니다.\n",
    "\n",
    "- Local scope : 정의된 함수 내부\n",
    "- Enclosed scope : 상위 함수\n",
    "- Global scope : 함수 밖의 변수 혹은 import된 모듈\n",
    "- Built-in scope : python이 기본적으로 가지고 있는 함수 혹은 변수"
   ]
  },
  {
   "cell_type": "code",
   "execution_count": 95,
   "id": "30cabfbd-8734-4050-9996-e281f341186a",
   "metadata": {},
   "outputs": [],
   "source": [
    "str = '123'"
   ]
  },
  {
   "cell_type": "code",
   "execution_count": 96,
   "id": "c0c86774-80db-4af5-ad0c-3245abed67ee",
   "metadata": {},
   "outputs": [
    {
     "name": "stdout",
     "output_type": "stream",
     "text": [
      "123\n"
     ]
    }
   ],
   "source": [
    "print(str)"
   ]
  },
  {
   "cell_type": "code",
   "execution_count": 97,
   "id": "77c53360-8163-4597-84c1-cbcda6bd72a3",
   "metadata": {},
   "outputs": [
    {
     "ename": "TypeError",
     "evalue": "'str' object is not callable",
     "output_type": "error",
     "traceback": [
      "\u001b[0;31m---------------------------------------------------------------------------\u001b[0m",
      "\u001b[0;31mTypeError\u001b[0m                                 Traceback (most recent call last)",
      "Cell \u001b[0;32mIn[97], line 1\u001b[0m\n\u001b[0;32m----> 1\u001b[0m \u001b[38;5;28;43mstr\u001b[39;49m\u001b[43m(\u001b[49m\u001b[38;5;241;43m123\u001b[39;49m\u001b[43m)\u001b[49m\n",
      "\u001b[0;31mTypeError\u001b[0m: 'str' object is not callable"
     ]
    }
   ],
   "source": [
    "str(123) #local scope가 있기 때문에 Built-in scope 오류 발생"
   ]
  },
  {
   "cell_type": "code",
   "execution_count": 98,
   "id": "280726ff-2f89-442c-ad75-dbe58d8a13a3",
   "metadata": {},
   "outputs": [],
   "source": [
    "del str"
   ]
  },
  {
   "cell_type": "code",
   "execution_count": 99,
   "id": "dd881c9f-9fdb-464a-84be-665c029ed74a",
   "metadata": {},
   "outputs": [
    {
     "data": {
      "text/plain": [
       "'123'"
      ]
     },
     "execution_count": 99,
     "metadata": {},
     "output_type": "execute_result"
    }
   ],
   "source": [
    "str(123)"
   ]
  },
  {
   "cell_type": "code",
   "execution_count": 102,
   "id": "b84a0e5b-f36a-4d7e-babe-0e3a898ad318",
   "metadata": {},
   "outputs": [
    {
     "name": "stdout",
     "output_type": "stream",
     "text": [
      "5\n",
      "1\n"
     ]
    }
   ],
   "source": [
    "a = 1\n",
    "\n",
    "def local_scope(a):\n",
    "    print(a)\n",
    "\n",
    "local_scope(5) # def 안의 a 값\n",
    "print(a) # def 밖의 a 값"
   ]
  },
  {
   "cell_type": "code",
   "execution_count": 105,
   "id": "adc834ca-2929-4edc-a2d9-2a0a5764f6dd",
   "metadata": {},
   "outputs": [
    {
     "name": "stdout",
     "output_type": "stream",
     "text": [
      "10\n"
     ]
    }
   ],
   "source": [
    "a = 10\n",
    "\n",
    "def global_scope():\n",
    "    global a # def 밖의 a 값 사용\n",
    "    print(a)\n",
    "\n",
    "global_scope()"
   ]
  },
  {
   "cell_type": "markdown",
   "id": "897d1ec3-ea3d-4547-9722-e33ef935740c",
   "metadata": {},
   "source": [
    "### 재귀(recursive)\n",
    "재귀 함수는 함수 내부에서 자기 자신을 호출하는 함수"
   ]
  },
  {
   "cell_type": "code",
   "execution_count": 106,
   "id": "477390c8-7a98-4b1f-8eef-c9cf3b9598d1",
   "metadata": {},
   "outputs": [
    {
     "name": "stdout",
     "output_type": "stream",
     "text": [
      "120\n"
     ]
    }
   ],
   "source": [
    "# 팩토리얼(n! = 1 * 2 * 3 * ... * n)\n",
    "\n",
    "def fact(n):\n",
    "    result = 1\n",
    "\n",
    "    while n > 1:\n",
    "        result = result * n\n",
    "        n = n - 1\n",
    "    return result\n",
    "\n",
    "print(fact(5))"
   ]
  },
  {
   "cell_type": "markdown",
   "id": "4c07f8fa-d34e-4b27-904c-d7a7e4c1f33d",
   "metadata": {},
   "source": [
    "n! = 1 * 2 * 3 * ... * n-1 * n\n",
    "- 1! = 1\n",
    "- 2! = 1 * 2 = 1! * 2\n",
    "- 3! = 1 * 2 * 3 = 2! * 3\n",
    "- 4! = 1 * 2 * 3 * 4 = 3! * 4"
   ]
  },
  {
   "cell_type": "code",
   "execution_count": 109,
   "id": "214cf090-274b-4245-9779-f9171126606e",
   "metadata": {},
   "outputs": [
    {
     "name": "stdout",
     "output_type": "stream",
     "text": [
      "120\n"
     ]
    }
   ],
   "source": [
    "def factorial(n):\n",
    "    if n <= 1:\n",
    "        return 1\n",
    "    else:\n",
    "        return factorial(n-1) * n\n",
    "\n",
    "print(factorial(5))"
   ]
  },
  {
   "cell_type": "markdown",
   "id": "2dbf8bcc-e537-4e7f-9bbd-0c2994274546",
   "metadata": {},
   "source": [
    "#### 피보나치 수열\n",
    "- F(0) = F(1) = 1\n",
    "- F(N) = F(N-1) + F(N-2)"
   ]
  },
  {
   "cell_type": "code",
   "execution_count": 110,
   "id": "ddf894da-ff14-4490-99e9-058ac3a48618",
   "metadata": {},
   "outputs": [
    {
     "name": "stdout",
     "output_type": "stream",
     "text": [
      "89\n"
     ]
    }
   ],
   "source": [
    "# 반복문\n",
    "def fib_loop(n):\n",
    "    result = [1, 1]\n",
    "\n",
    "    for i in range(1, n):\n",
    "        end1 = result[-1]\n",
    "        end2 = result[-2]\n",
    "\n",
    "        fib_num = end1 + end2\n",
    "\n",
    "        result.append(fib_num)\n",
    "\n",
    "    return result[-1]\n",
    "\n",
    "print(fib_loop(10))"
   ]
  },
  {
   "cell_type": "code",
   "execution_count": 111,
   "id": "74bf1110-64e5-4b38-8b42-095c8f2f205b",
   "metadata": {},
   "outputs": [
    {
     "name": "stdout",
     "output_type": "stream",
     "text": [
      "89\n"
     ]
    }
   ],
   "source": [
    "# 재귀\n",
    "def fib_rec(n):\n",
    "    if n == 0 or n == 1:\n",
    "        return 1\n",
    "    else:\n",
    "        return fib_rec(n-1) + fib_rec(n-2)\n",
    "\n",
    "print(fib_rec(10))"
   ]
  },
  {
   "cell_type": "code",
   "execution_count": null,
   "id": "f6dda545-77cd-4b24-8c2b-5abbde258565",
   "metadata": {},
   "outputs": [],
   "source": []
  }
 ],
 "metadata": {
  "kernelspec": {
   "display_name": "Python 3 (ipykernel)",
   "language": "python",
   "name": "python3"
  },
  "language_info": {
   "codemirror_mode": {
    "name": "ipython",
    "version": 3
   },
   "file_extension": ".py",
   "mimetype": "text/x-python",
   "name": "python",
   "nbconvert_exporter": "python",
   "pygments_lexer": "ipython3",
   "version": "3.11.5"
  }
 },
 "nbformat": 4,
 "nbformat_minor": 5
}
