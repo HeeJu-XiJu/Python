{
 "cells": [
  {
   "cell_type": "markdown",
   "id": "16c65ef5-9f40-4a4e-8486-bbdeffd72da9",
   "metadata": {},
   "source": [
    "# 📍 Method(메소드)"
   ]
  },
  {
   "cell_type": "markdown",
   "id": "00435e88-21c2-47c8-97c8-ce338652d35d",
   "metadata": {},
   "source": [
    "### ✅ 리스트 Method"
   ]
  },
  {
   "cell_type": "markdown",
   "id": "bb21d426-265e-4164-b239-46b216371152",
   "metadata": {},
   "source": [
    "#### ✔️ append"
   ]
  },
  {
   "cell_type": "code",
   "execution_count": 1,
   "id": "d73cd78d-c06d-4c3d-a56f-fcb275199ed2",
   "metadata": {},
   "outputs": [
    {
     "name": "stdout",
     "output_type": "stream",
     "text": [
      "[1, 5, 2, 6, 2, 1, 10]\n"
     ]
    }
   ],
   "source": [
    "numbers = [1, 5, 2, 6, 2, 1]\n",
    "# 리스트에 요소 추가\n",
    "numbers.append(10)\n",
    "print(numbers)"
   ]
  },
  {
   "cell_type": "markdown",
   "id": "a4ca0926-9c89-4191-b17b-cbdd8949adf2",
   "metadata": {},
   "source": [
    "#### ✔️ extend"
   ]
  },
  {
   "cell_type": "code",
   "execution_count": 2,
   "id": "772eefff-fac7-466d-98e1-f298c14fd1c4",
   "metadata": {},
   "outputs": [
    {
     "name": "stdout",
     "output_type": "stream",
     "text": [
      "[1, 5, 2, 6, 2, 1, 10, 99, 100]\n"
     ]
    }
   ],
   "source": [
    "a = [99, 100]\n",
    "# 리스트와 리스트를 합함\n",
    "numbers.extend(a)\n",
    "print(numbers)"
   ]
  },
  {
   "cell_type": "markdown",
   "id": "15ad76f8-471c-48e7-a8c9-2df1afdafbf5",
   "metadata": {},
   "source": [
    "#### ✔️ insert\n",
    ": ```insert(idx, x)```"
   ]
  },
  {
   "cell_type": "code",
   "execution_count": 3,
   "id": "59573074-9c43-4911-a591-fffc257d281e",
   "metadata": {},
   "outputs": [
    {
     "name": "stdout",
     "output_type": "stream",
     "text": [
      "[1, 5, 2, 3.5, 6, 2, 1, 10, 99, 100]\n"
     ]
    }
   ],
   "source": [
    "# idx번째에 x 추가\n",
    "numbers.insert(3, 3.5)\n",
    "print(numbers)"
   ]
  },
  {
   "cell_type": "markdown",
   "id": "0f2f5c1c-53cb-46b3-9ad8-f21b85f1424f",
   "metadata": {},
   "source": [
    "#### ✔️ remove"
   ]
  },
  {
   "cell_type": "code",
   "execution_count": 4,
   "id": "8cf0ccd0-aa7d-46be-9069-331148b63673",
   "metadata": {},
   "outputs": [
    {
     "name": "stdout",
     "output_type": "stream",
     "text": [
      "[1, 5, 2, 6, 2, 1, 10, 99, 100]\n"
     ]
    }
   ],
   "source": [
    "# 요소 제거\n",
    "numbers.remove(3.5)\n",
    "print(numbers)"
   ]
  },
  {
   "cell_type": "markdown",
   "id": "be9cdd3b-082d-4f9a-8a3a-4da2ea389a80",
   "metadata": {},
   "source": [
    "#### ✔️ pop"
   ]
  },
  {
   "cell_type": "code",
   "execution_count": 5,
   "id": "e004ee1b-a59b-4868-97c9-bfd69c16df8f",
   "metadata": {},
   "outputs": [
    {
     "name": "stdout",
     "output_type": "stream",
     "text": [
      "[1, 5, 2, 6, 2, 1, 10, 99]\n"
     ]
    }
   ],
   "source": [
    "# 마지막 요소 제거\n",
    "numbers.pop()\n",
    "print(numbers)"
   ]
  },
  {
   "cell_type": "markdown",
   "id": "54cb0138-c2a6-4267-8992-b7bbcd138854",
   "metadata": {},
   "source": [
    "#### ✔️ sort\n",
    ": ```sort(reverse=True/False)```\\\n",
    "```sorted(reverse=True/False)```"
   ]
  },
  {
   "cell_type": "code",
   "execution_count": 6,
   "id": "22b664c2-5c67-4211-9311-01fa3f44c7f5",
   "metadata": {},
   "outputs": [
    {
     "name": "stdout",
     "output_type": "stream",
     "text": [
      "[1, 1, 2, 2, 3, 6, 7, 10]\n",
      "[10, 7, 6, 3, 2, 2, 1, 1]\n"
     ]
    }
   ],
   "source": [
    "numbers = [1, 6, 2, 1, 3, 2, 7, 10]\n",
    "# 원본 반영 O\n",
    "numbers.sort()\n",
    "print(numbers)\n",
    "\n",
    "numbers.sort(reverse=True)\n",
    "print(numbers)"
   ]
  },
  {
   "cell_type": "code",
   "execution_count": 7,
   "id": "5bb25b02-e49c-4d3a-8867-7364baf6a3ee",
   "metadata": {},
   "outputs": [
    {
     "name": "stdout",
     "output_type": "stream",
     "text": [
      "[1, 1, 2, 2, 3, 6, 7, 10]\n",
      "[10, 7, 6, 3, 2, 2, 1, 1]\n"
     ]
    }
   ],
   "source": [
    "numbers = [1, 6, 2, 1, 3, 2, 7, 10]\n",
    "# 원본 반영 X\n",
    "print(sorted(numbers))\n",
    "print(sorted(numbers, reverse=True))"
   ]
  },
  {
   "cell_type": "markdown",
   "id": "f91939bf-98d1-4c53-b127-eb069638b2d1",
   "metadata": {},
   "source": [
    "#### ✔️ reverse"
   ]
  },
  {
   "cell_type": "code",
   "execution_count": 8,
   "id": "f3dea0af-dae4-4f3a-97ed-998897f52970",
   "metadata": {},
   "outputs": [
    {
     "name": "stdout",
     "output_type": "stream",
     "text": [
      "[10, 7, 2, 3, 1, 2, 6, 1]\n"
     ]
    },
    {
     "data": {
      "text/plain": [
       "[1, 6, 2, 1, 3, 2, 7, 10]"
      ]
     },
     "execution_count": 8,
     "metadata": {},
     "output_type": "execute_result"
    }
   ],
   "source": [
    "numbers = [1, 6, 2, 1, 3, 2, 7, 10]\n",
    "# 역순으로 정렬\n",
    "numbers.reverse()\n",
    "print(numbers)\n",
    "# reverse와 같은 식\n",
    "numbers[ : : -1]"
   ]
  },
  {
   "cell_type": "markdown",
   "id": "a954eb10-f89f-4d38-baf5-c785f16affe7",
   "metadata": {},
   "source": [
    "### ✅ list comprehension"
   ]
  },
  {
   "cell_type": "code",
   "execution_count": 9,
   "id": "beef7271-9579-4396-83df-52a507cde7f9",
   "metadata": {},
   "outputs": [
    {
     "name": "stdout",
     "output_type": "stream",
     "text": [
      "[1, 2, 3, 4, 5, 6, 7, 8, 9, 10]\n"
     ]
    }
   ],
   "source": [
    "numbers = list(range(1, 11))\n",
    "print(numbers)"
   ]
  },
  {
   "cell_type": "code",
   "execution_count": 10,
   "id": "5d021a59-5fda-491e-b12e-8a87ad9e8d33",
   "metadata": {},
   "outputs": [
    {
     "name": "stdout",
     "output_type": "stream",
     "text": [
      "[1, 8, 27, 64, 125, 216, 343, 512, 729, 1000]\n"
     ]
    }
   ],
   "source": [
    "# 세제곱 만들기\n",
    "result = []\n",
    "\n",
    "for number in numbers:\n",
    "    result.append(number ** 3)\n",
    "print(result)"
   ]
  },
  {
   "cell_type": "code",
   "execution_count": 11,
   "id": "1bccf3e4-1fb9-4178-90c0-a454537ad55d",
   "metadata": {},
   "outputs": [
    {
     "name": "stdout",
     "output_type": "stream",
     "text": [
      "[1, 8, 27, 64, 125, 216, 343, 512, 729, 1000]\n"
     ]
    }
   ],
   "source": [
    "# 세제곱 만들기 (list comprehension)\n",
    "result2 = [ number ** 3 for number in numbers]\n",
    "print(result2)"
   ]
  },
  {
   "cell_type": "code",
   "execution_count": 12,
   "id": "1f15f929-d418-4e94-8890-54939ac281c7",
   "metadata": {},
   "outputs": [],
   "source": [
    "words = 'my name is hong'\n",
    "vowels = 'aeiou'\n",
    "# -> my nm s hng"
   ]
  },
  {
   "cell_type": "code",
   "execution_count": 13,
   "id": "28e6c7ce-7ecf-4058-991f-44f1833f6080",
   "metadata": {},
   "outputs": [
    {
     "name": "stdout",
     "output_type": "stream",
     "text": [
      "['m', 'y', ' ', 'n', 'm', ' ', 's', ' ', 'h', 'n', 'g']\n",
      "my nm s hng\n"
     ]
    }
   ],
   "source": [
    "# for문\n",
    "result = []\n",
    "for char in words:\n",
    "    if char not in vowels:\n",
    "        result.append(char)\n",
    "\n",
    "print(result)\n",
    "print(''.join(result))"
   ]
  },
  {
   "cell_type": "code",
   "execution_count": 14,
   "id": "ab7caaba-57ec-4654-b9e4-21ab853897f4",
   "metadata": {},
   "outputs": [
    {
     "name": "stdout",
     "output_type": "stream",
     "text": [
      "['m', 'y', ' ', 'n', 'm', ' ', 's', ' ', 'h', 'n', 'g']\n",
      "my nm s hng\n"
     ]
    }
   ],
   "source": [
    "# list comprehension\n",
    "result = [char for char in words if char not in vowels]\n",
    "print(result)\n",
    "print(''.join(result))"
   ]
  }
 ],
 "metadata": {
  "kernelspec": {
   "display_name": "Python 3 (ipykernel)",
   "language": "python",
   "name": "python3"
  },
  "language_info": {
   "codemirror_mode": {
    "name": "ipython",
    "version": 3
   },
   "file_extension": ".py",
   "mimetype": "text/x-python",
   "name": "python",
   "nbconvert_exporter": "python",
   "pygments_lexer": "ipython3",
   "version": "3.11.5"
  }
 },
 "nbformat": 4,
 "nbformat_minor": 5
}
