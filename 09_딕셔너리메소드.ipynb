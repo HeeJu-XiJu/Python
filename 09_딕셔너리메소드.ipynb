{
 "cells": [
  {
   "cell_type": "markdown",
   "id": "16c65ef5-9f40-4a4e-8486-bbdeffd72da9",
   "metadata": {},
   "source": [
    "# 📍 Method(메소드)"
   ]
  },
  {
   "cell_type": "markdown",
   "id": "954878da-95bc-4860-9b1b-8d7cd541b3fc",
   "metadata": {},
   "source": [
    "### ✅ 딕셔너리 Method"
   ]
  },
  {
   "cell_type": "code",
   "execution_count": 1,
   "id": "0a06bca5-b9de-4f8c-b384-b3792eccf98f",
   "metadata": {},
   "outputs": [],
   "source": [
    "info = {\n",
    "    'name' : 'heeju',\n",
    "    'location' : 'busan',\n",
    "}"
   ]
  },
  {
   "cell_type": "code",
   "execution_count": 2,
   "id": "eca56e3c-c7f5-4547-be2c-b93473c71d4d",
   "metadata": {},
   "outputs": [
    {
     "name": "stdout",
     "output_type": "stream",
     "text": [
      "{'name': 'han', 'location': 'busan'}\n"
     ]
    }
   ],
   "source": [
    "info['name'] = 'han'\n",
    "print(info)"
   ]
  },
  {
   "cell_type": "markdown",
   "id": "46a1cadd-9ef8-4b8f-b9c0-d4274abacd13",
   "metadata": {},
   "source": [
    "#### ✔️ pop\n",
    ": ```pop(key, default)```"
   ]
  },
  {
   "cell_type": "code",
   "execution_count": 3,
   "id": "ec1ab781-66f2-436d-9cc4-3f2d0bac507c",
   "metadata": {},
   "outputs": [
    {
     "name": "stdout",
     "output_type": "stream",
     "text": [
      "{'name': 'han', 'location': 'busan'}\n",
      "busan\n",
      "{'name': 'han'}\n",
      "key가 없습니다.\n"
     ]
    }
   ],
   "source": [
    "# value값 출력하며 key 제거\n",
    "print(info)\n",
    "print(info.pop('location'))\n",
    "\n",
    "print(info)\n",
    "print(info.pop('location', 'key가 없습니다.')) #지워질 키워드가 없을 때 default값 출력"
   ]
  },
  {
   "cell_type": "markdown",
   "id": "2e3b2acc-36ef-4325-9079-f4ddecdcd7ea",
   "metadata": {},
   "source": [
    "#### ✔️ update"
   ]
  },
  {
   "cell_type": "code",
   "execution_count": 4,
   "id": "1aa0729e-1e67-4486-b482-97cb177017f2",
   "metadata": {},
   "outputs": [
    {
     "name": "stdout",
     "output_type": "stream",
     "text": [
      "{'name': 'park'}\n"
     ]
    }
   ],
   "source": [
    "# key의 value 수정\n",
    "info.update(name='park')\n",
    "print(info)"
   ]
  },
  {
   "cell_type": "markdown",
   "id": "0f32b4eb-5b62-4826-b7bf-00589d784ef8",
   "metadata": {},
   "source": [
    "#### ✔️ get\n",
    ": ```get(key, default)```"
   ]
  },
  {
   "cell_type": "code",
   "execution_count": 5,
   "id": "0309b456-1518-4368-ad4a-6521ef95c829",
   "metadata": {},
   "outputs": [
    {
     "name": "stdout",
     "output_type": "stream",
     "text": [
      "park\n",
      "None\n",
      "해당 키가 없습니다.\n"
     ]
    }
   ],
   "source": [
    "# key의 value 출력\n",
    "print(info.get('name'))\n",
    "print(info.get('phone'))\n",
    "print(info.get('phone', '해당 키가 없습니다.'))"
   ]
  },
  {
   "cell_type": "markdown",
   "id": "ac611e96-d4bc-4fc2-994b-e82bbc70e290",
   "metadata": {},
   "source": [
    "### ✅ dict comprehension"
   ]
  },
  {
   "cell_type": "code",
   "execution_count": 6,
   "id": "38e1b717-0535-483e-9c6a-b9da2f646837",
   "metadata": {},
   "outputs": [
    {
     "name": "stdout",
     "output_type": "stream",
     "text": [
      "{1: 1, 2: 8, 3: 27, 4: 64, 5: 125, 6: 216, 7: 343, 8: 512, 9: 729, 10: 1000}\n"
     ]
    }
   ],
   "source": [
    "# 세제곱만들기 (for문)\n",
    "result = {}\n",
    "numbers = range(1, 11)\n",
    "for number in numbers:\n",
    "    result[number] = number ** 3\n",
    "\n",
    "print(result)"
   ]
  },
  {
   "cell_type": "code",
   "execution_count": 7,
   "id": "cdc9b402-2835-4a96-afb0-5b3ddae9e70f",
   "metadata": {},
   "outputs": [
    {
     "name": "stdout",
     "output_type": "stream",
     "text": [
      "{1: 1, 2: 8, 3: 27, 4: 64, 5: 125, 6: 216, 7: 343, 8: 512, 9: 729, 10: 1000}\n"
     ]
    }
   ],
   "source": [
    "# 세제곱만들기 (dict comprehension)\n",
    "result2 = { number: number ** 3 for number in range(1, 11) }\n",
    "print(result2)"
   ]
  }
 ],
 "metadata": {
  "kernelspec": {
   "display_name": "Python 3 (ipykernel)",
   "language": "python",
   "name": "python3"
  },
  "language_info": {
   "codemirror_mode": {
    "name": "ipython",
    "version": 3
   },
   "file_extension": ".py",
   "mimetype": "text/x-python",
   "name": "python",
   "nbconvert_exporter": "python",
   "pygments_lexer": "ipython3",
   "version": "3.11.5"
  }
 },
 "nbformat": 4,
 "nbformat_minor": 5
}
