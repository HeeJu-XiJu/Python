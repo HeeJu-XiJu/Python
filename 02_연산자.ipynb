{
 "cells": [
  {
   "cell_type": "markdown",
   "id": "9830a5f4-35ed-4c4d-926f-4a87af058d6d",
   "metadata": {},
   "source": [
    "# 📍 연산자\n",
    "### ✅ 산술연산자"
   ]
  },
  {
   "cell_type": "code",
   "execution_count": 1,
   "id": "30380973-4259-44f0-96d7-5da555248112",
   "metadata": {},
   "outputs": [],
   "source": [
    "a = 2\n",
    "b = 3"
   ]
  },
  {
   "cell_type": "code",
   "execution_count": 2,
   "id": "b8c44b87-698c-415d-ada7-8b39fad67a37",
   "metadata": {},
   "outputs": [
    {
     "name": "stdout",
     "output_type": "stream",
     "text": [
      "5\n",
      "-1\n",
      "6\n",
      "0.6666666666666666\n"
     ]
    }
   ],
   "source": [
    "print(a + b)\n",
    "print(a - b)\n",
    "print(a * b)\n",
    "print(a / b)"
   ]
  },
  {
   "cell_type": "code",
   "execution_count": 3,
   "id": "58da01ac-8d3a-4347-962f-de17b7cb45fa",
   "metadata": {},
   "outputs": [
    {
     "name": "stdout",
     "output_type": "stream",
     "text": [
      "8\n"
     ]
    }
   ],
   "source": [
    "print(a ** b) # 제곱"
   ]
  },
  {
   "cell_type": "code",
   "execution_count": 4,
   "id": "0bd9afff-9442-40db-8e02-8dbe9316ad18",
   "metadata": {},
   "outputs": [
    {
     "name": "stdout",
     "output_type": "stream",
     "text": [
      "0\n",
      "2\n",
      "(0, 2)\n"
     ]
    }
   ],
   "source": [
    "print(a // b) # 나눈 몫\n",
    "print(a % b) # 나눈 나머지\n",
    "\n",
    "print(divmod(a, b)) # (나눈 몫, 나눈 나머지)"
   ]
  },
  {
   "cell_type": "markdown",
   "id": "4d5ddb04-fc83-4320-9a5f-fde9fc88f81b",
   "metadata": {},
   "source": [
    "### ✅ 비교연산자"
   ]
  },
  {
   "cell_type": "code",
   "execution_count": 5,
   "id": "eda956a4-d9f5-42fc-ad27-f892d8755dd4",
   "metadata": {},
   "outputs": [],
   "source": [
    "a = 5\n",
    "b = 10"
   ]
  },
  {
   "cell_type": "code",
   "execution_count": 6,
   "id": "d0611de8-e8c9-42d9-b2cd-50e857658672",
   "metadata": {},
   "outputs": [
    {
     "name": "stdout",
     "output_type": "stream",
     "text": [
      "False\n",
      "True\n",
      "False\n",
      "True\n"
     ]
    }
   ],
   "source": [
    "print(a > b)\n",
    "print(a < b)\n",
    "print(a >= b)\n",
    "print(a <= b)"
   ]
  },
  {
   "cell_type": "code",
   "execution_count": 7,
   "id": "a749de31-0191-4e38-bc14-f7d84907b7e9",
   "metadata": {},
   "outputs": [
    {
     "name": "stdout",
     "output_type": "stream",
     "text": [
      "False\n",
      "True\n"
     ]
    }
   ],
   "source": [
    "print(a == b)\n",
    "print(a != b)"
   ]
  },
  {
   "cell_type": "code",
   "execution_count": 8,
   "id": "2aa463d4-a5ea-49e1-868a-aa6bcfb88bf9",
   "metadata": {},
   "outputs": [
    {
     "name": "stdout",
     "output_type": "stream",
     "text": [
      "True\n",
      "False\n"
     ]
    }
   ],
   "source": [
    "print('hi' == 'hi')\n",
    "print('Hi' == 'hi') # 대소문자 구분"
   ]
  },
  {
   "cell_type": "markdown",
   "id": "46e9a8ec-b7a9-4717-9655-30116045e1f3",
   "metadata": {},
   "source": [
    "### ✅ 논리연산자\n",
    "- ```and``` : 양쪽 모두 ```True```일 때, ```True```를 반환\n",
    "- ```or``` : 양쪽 모두 ```False```일 때, ```False```를 반환\n",
    "- ```Not``` : 반대값을 출력"
   ]
  },
  {
   "cell_type": "code",
   "execution_count": 9,
   "id": "78dc1e4f-64c6-4ce3-a72f-955783d77964",
   "metadata": {},
   "outputs": [
    {
     "name": "stdout",
     "output_type": "stream",
     "text": [
      "True\n",
      "False\n",
      "False\n",
      "False\n"
     ]
    }
   ],
   "source": [
    "print(True and True)\n",
    "print(True and False)\n",
    "print(False and True)\n",
    "print(False and False)"
   ]
  },
  {
   "cell_type": "code",
   "execution_count": 10,
   "id": "712946d9-20e9-4c77-a23d-0d9a29296f1b",
   "metadata": {},
   "outputs": [
    {
     "name": "stdout",
     "output_type": "stream",
     "text": [
      "True\n",
      "True\n",
      "True\n",
      "False\n"
     ]
    }
   ],
   "source": [
    "print(True or True)\n",
    "print(True or False)\n",
    "print(False or True)\n",
    "print(False or False)"
   ]
  },
  {
   "cell_type": "code",
   "execution_count": 11,
   "id": "70a16d3b-c2d6-4d65-9add-6e019de1c11f",
   "metadata": {},
   "outputs": [
    {
     "name": "stdout",
     "output_type": "stream",
     "text": [
      "False\n"
     ]
    }
   ],
   "source": [
    "a = True\n",
    "print(not a)"
   ]
  },
  {
   "cell_type": "markdown",
   "id": "ccdc5288-2d27-4372-ba98-9b2bc6813b00",
   "metadata": {},
   "source": [
    "#### ✔️ 단축평가"
   ]
  },
  {
   "cell_type": "code",
   "execution_count": 12,
   "id": "cf889c32-3ad2-40e4-8325-cbf916ebc2db",
   "metadata": {},
   "outputs": [
    {
     "name": "stdout",
     "output_type": "stream",
     "text": [
      "5\n",
      "0\n",
      "0\n",
      "0\n"
     ]
    }
   ],
   "source": [
    "# 단축평가(and)\n",
    "print(3 and 5) # True and True일 때 True를 출력하므로 뒤값인 5 출력\n",
    "print(3 and 0) # True and False일 때 False를 출력하므로 뒤값인 0 출력\n",
    "print(0 and 5) # False and True일 때 False를 출력하므로 False(0) 출력\n",
    "print(0 and 0) # False and False일 때 False를 출력하므로 False(0) 출력"
   ]
  },
  {
   "cell_type": "code",
   "execution_count": 13,
   "id": "a439945d-3592-4e4d-9e98-08dc679511e4",
   "metadata": {},
   "outputs": [
    {
     "name": "stdout",
     "output_type": "stream",
     "text": [
      "3\n",
      "3\n",
      "5\n",
      "0\n"
     ]
    }
   ],
   "source": [
    "# 단축평가(or)\n",
    "print(3 or 5) # True or True일 때 True를 출력하므로 앞값인 3 출력\n",
    "print(3 or 0) # True or False일 때 True를 출력하므로 앞값인 3 출력\n",
    "print(0 or 5) # False or True일 때 True를 출력하므로 True인 5 출력\n",
    "print(0 or 0) # False or False일 때 False를 출력하므로 False(0) 출력"
   ]
  },
  {
   "cell_type": "markdown",
   "id": "ecb6201e-53c0-496a-8f6b-6487d5547866",
   "metadata": {},
   "source": [
    "### ✅ 복합연산자"
   ]
  },
  {
   "cell_type": "code",
   "execution_count": 14,
   "id": "58d836a1-a584-4126-9b8e-e33d3e970478",
   "metadata": {},
   "outputs": [],
   "source": [
    "a = 2\n",
    "b = 3"
   ]
  },
  {
   "cell_type": "code",
   "execution_count": 15,
   "id": "c75f7b9a-6a09-482f-8997-3406b81dd8a8",
   "metadata": {},
   "outputs": [
    {
     "name": "stdout",
     "output_type": "stream",
     "text": [
      "5\n",
      "2\n",
      "6\n",
      "2.0\n",
      "0.0\n",
      "0.0\n",
      "0.0\n"
     ]
    }
   ],
   "source": [
    "a += b # a = a + b\n",
    "print(a)\n",
    "\n",
    "a -= b # a = a - b\n",
    "print(a)\n",
    "\n",
    "a *= b # a = a * b\n",
    "print(a)\n",
    "\n",
    "a /= b # a = a / b\n",
    "print(a)\n",
    "\n",
    "a //= b # a = a // b\n",
    "print(a)\n",
    "\n",
    "a %= b # a = a % b\n",
    "print(a)\n",
    "\n",
    "a **= b # a = a ** b\n",
    "print(a)"
   ]
  },
  {
   "cell_type": "markdown",
   "id": "fd1bfc34-1339-44d8-b299-15f90a5344cb",
   "metadata": {},
   "source": [
    "### ✅ 기타연산자"
   ]
  },
  {
   "cell_type": "markdown",
   "id": "42357fb6-bac0-4e07-86c3-e1badc343a63",
   "metadata": {},
   "source": [
    "#### ✔️ concatenation"
   ]
  },
  {
   "cell_type": "code",
   "execution_count": 16,
   "id": "02df2e44-6c41-49e7-b250-99eb960b3a9a",
   "metadata": {},
   "outputs": [
    {
     "data": {
      "text/plain": [
       "'hihello'"
      ]
     },
     "execution_count": 16,
     "metadata": {},
     "output_type": "execute_result"
    }
   ],
   "source": [
    "a = 'hi'\n",
    "b = 'hello'\n",
    "a + b"
   ]
  },
  {
   "cell_type": "code",
   "execution_count": 17,
   "id": "4e952bc7-08c7-4cc6-9c93-b498e56d3f12",
   "metadata": {},
   "outputs": [
    {
     "data": {
      "text/plain": [
       "[1, 2, 3, 9, 8, 7]"
      ]
     },
     "execution_count": 17,
     "metadata": {},
     "output_type": "execute_result"
    }
   ],
   "source": [
    "a = [1, 2, 3]\n",
    "b = [9, 8, 7]\n",
    "a + b"
   ]
  },
  {
   "cell_type": "code",
   "execution_count": 18,
   "id": "0b14bf89-f6a7-46e7-bb6a-5cdf0c258cfa",
   "metadata": {},
   "outputs": [
    {
     "ename": "TypeError",
     "evalue": "unsupported operand type(s) for +: 'int' and 'str'",
     "output_type": "error",
     "traceback": [
      "\u001b[0;31m---------------------------------------------------------------------------\u001b[0m",
      "\u001b[0;31mTypeError\u001b[0m                                 Traceback (most recent call last)",
      "Cell \u001b[0;32mIn[18], line 1\u001b[0m\n\u001b[0;32m----> 1\u001b[0m \u001b[38;5;241m1\u001b[39m \u001b[38;5;241m+\u001b[39m \u001b[38;5;124m'\u001b[39m\u001b[38;5;124m1\u001b[39m\u001b[38;5;124m'\u001b[39m\n",
      "\u001b[0;31mTypeError\u001b[0m: unsupported operand type(s) for +: 'int' and 'str'"
     ]
    }
   ],
   "source": [
    "1 + '1' # 타입 불일치로 error"
   ]
  },
  {
   "cell_type": "markdown",
   "id": "ac42b669-1374-49c6-b9c3-89942c4787d5",
   "metadata": {},
   "source": [
    "#### ✔️ containment"
   ]
  },
  {
   "cell_type": "code",
   "execution_count": 19,
   "id": "16900452-1f57-414a-ae5b-77781ffb4fe4",
   "metadata": {},
   "outputs": [
    {
     "name": "stdout",
     "output_type": "stream",
     "text": [
      "True\n",
      "False\n"
     ]
    }
   ],
   "source": [
    "print(1 in [1, 2, 3])\n",
    "print(100 in [1, 2, 3])"
   ]
  },
  {
   "cell_type": "markdown",
   "id": "af4033ed-b8f6-4290-bae0-db97894f86b2",
   "metadata": {},
   "source": [
    "### ✅ 연산자 우선순위\n",
    "\n",
    "0. ()를 통해 그룹\n",
    "1. **\n",
    "2. 산술연산자(*, /)\n",
    "3. 산술연산자(+, -)\n",
    "4. 비교연산자, is, in\n",
    "5. not\n",
    "6. and, or"
   ]
  },
  {
   "cell_type": "code",
   "execution_count": 20,
   "id": "6b901539-1ba6-41c5-b644-ef88950b3863",
   "metadata": {},
   "outputs": [
    {
     "name": "stdout",
     "output_type": "stream",
     "text": [
      "-81\n",
      "81\n"
     ]
    }
   ],
   "source": [
    "print(-3 ** 4)\n",
    "print((-3) ** 4)"
   ]
  },
  {
   "cell_type": "markdown",
   "id": "c0384110-c323-4aa7-8bf8-c3da302d5834",
   "metadata": {},
   "source": [
    "# 📍 형변환"
   ]
  },
  {
   "cell_type": "markdown",
   "id": "db220266-44b8-40bc-85c7-e6e6b9ee90e4",
   "metadata": {},
   "source": [
    "### ✅ 암시적 형변환"
   ]
  },
  {
   "cell_type": "code",
   "execution_count": 21,
   "id": "d73b9558-b29e-4fd4-8c65-39aed3e27737",
   "metadata": {},
   "outputs": [],
   "source": [
    "a = True # 숫자 1 취급가능\n",
    "b = False # 숫자 0 취급가능\n",
    "c = 1"
   ]
  },
  {
   "cell_type": "code",
   "execution_count": 22,
   "id": "1a34fa2b-3db9-4b24-8e88-7b737a796d68",
   "metadata": {},
   "outputs": [
    {
     "name": "stdout",
     "output_type": "stream",
     "text": [
      "2\n",
      "1\n"
     ]
    }
   ],
   "source": [
    "print(a + c)\n",
    "print(b + c)"
   ]
  },
  {
   "cell_type": "code",
   "execution_count": 23,
   "id": "cbd193ee-d312-4543-bd53-a387d45df04f",
   "metadata": {},
   "outputs": [
    {
     "name": "stdout",
     "output_type": "stream",
     "text": [
      "6.3\n",
      "(6+3j)\n"
     ]
    }
   ],
   "source": [
    "int_num = 3\n",
    "float_num = 3.3\n",
    "complex_num = 3 + 3j\n",
    "\n",
    "print(int_num + float_num) # 3.0 + 3.3\n",
    "print(int_num + complex_num) # (3 + 3) + (0j + 3j)"
   ]
  },
  {
   "cell_type": "markdown",
   "id": "b3ccdbcf-8ab3-4900-bc1e-405df7d761c3",
   "metadata": {},
   "source": [
    "### ✅ 명시적 형변환"
   ]
  },
  {
   "cell_type": "code",
   "execution_count": 24,
   "id": "cb33c87e-e322-493f-ad7f-ce3da0b6ec65",
   "metadata": {},
   "outputs": [
    {
     "ename": "TypeError",
     "evalue": "unsupported operand type(s) for +: 'int' and 'str'",
     "output_type": "error",
     "traceback": [
      "\u001b[0;31m---------------------------------------------------------------------------\u001b[0m",
      "\u001b[0;31mTypeError\u001b[0m                                 Traceback (most recent call last)",
      "Cell \u001b[0;32mIn[24], line 3\u001b[0m\n\u001b[1;32m      1\u001b[0m a \u001b[38;5;241m=\u001b[39m \u001b[38;5;241m1\u001b[39m\n\u001b[1;32m      2\u001b[0m b \u001b[38;5;241m=\u001b[39m \u001b[38;5;124m'\u001b[39m\u001b[38;5;124m번\u001b[39m\u001b[38;5;124m'\u001b[39m\n\u001b[0;32m----> 3\u001b[0m a \u001b[38;5;241m+\u001b[39m b\n",
      "\u001b[0;31mTypeError\u001b[0m: unsupported operand type(s) for +: 'int' and 'str'"
     ]
    }
   ],
   "source": [
    "a = 1\n",
    "b = '번'\n",
    "a + b"
   ]
  },
  {
   "cell_type": "code",
   "execution_count": 25,
   "id": "b5b43390-d733-467f-aad1-edb20de834c5",
   "metadata": {},
   "outputs": [
    {
     "name": "stdout",
     "output_type": "stream",
     "text": [
      "1번\n"
     ]
    }
   ],
   "source": [
    "print(str(a) + b)"
   ]
  },
  {
   "cell_type": "code",
   "execution_count": 26,
   "id": "ea999fc3-4e55-49f7-b169-504c3e373e64",
   "metadata": {},
   "outputs": [
    {
     "name": "stdout",
     "output_type": "stream",
     "text": [
      "<class 'str'>\n",
      "<class 'int'>\n"
     ]
    }
   ],
   "source": [
    "a = '100'\n",
    "print(type(a))\n",
    "print(type(int(a)))"
   ]
  },
  {
   "cell_type": "code",
   "execution_count": 27,
   "id": "b10b106a-0b3e-4c37-bce6-9f952694a24a",
   "metadata": {},
   "outputs": [
    {
     "data": {
      "text/plain": [
       "float"
      ]
     },
     "execution_count": 27,
     "metadata": {},
     "output_type": "execute_result"
    }
   ],
   "source": [
    "a = '3.3'\n",
    "type(float(a)) # int(a)는 error 발생"
   ]
  },
  {
   "cell_type": "code",
   "execution_count": 28,
   "id": "c9afddf5-371a-429d-9d68-47a64b5e8265",
   "metadata": {},
   "outputs": [
    {
     "name": "stdout",
     "output_type": "stream",
     "text": [
      "True\n",
      "False\n",
      "True\n"
     ]
    }
   ],
   "source": [
    "a = 1\n",
    "b = 0\n",
    "c = 100 # 1 이상이면 True\n",
    "\n",
    "print(bool(a))\n",
    "print(bool(b))\n",
    "print(bool(c))"
   ]
  },
  {
   "cell_type": "code",
   "execution_count": 29,
   "id": "cc234d8e-efb4-4851-987d-608273fd1d85",
   "metadata": {},
   "outputs": [
    {
     "name": "stdout",
     "output_type": "stream",
     "text": [
      "False\n",
      "True\n"
     ]
    }
   ],
   "source": [
    "print(bool('')) # 비어있는 것은 0\n",
    "print(bool('a')) # 글자가 있으면 1 이상 취급"
   ]
  },
  {
   "cell_type": "code",
   "execution_count": 30,
   "id": "e9c0cf53-3c4c-49ef-8386-ce3c72168a2f",
   "metadata": {},
   "outputs": [
    {
     "name": "stdout",
     "output_type": "stream",
     "text": [
      "False\n",
      "True\n"
     ]
    }
   ],
   "source": [
    "print(bool([]))\n",
    "print(bool([1, 2, 3]))"
   ]
  }
 ],
 "metadata": {
  "kernelspec": {
   "display_name": "Python 3 (ipykernel)",
   "language": "python",
   "name": "python3"
  },
  "language_info": {
   "codemirror_mode": {
    "name": "ipython",
    "version": 3
   },
   "file_extension": ".py",
   "mimetype": "text/x-python",
   "name": "python",
   "nbconvert_exporter": "python",
   "pygments_lexer": "ipython3",
   "version": "3.11.5"
  }
 },
 "nbformat": 4,
 "nbformat_minor": 5
}
