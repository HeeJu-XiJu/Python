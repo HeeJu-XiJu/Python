{
 "cells": [
  {
   "cell_type": "markdown",
   "id": "16c65ef5-9f40-4a4e-8486-bbdeffd72da9",
   "metadata": {},
   "source": [
    "# 📍 Method(메소드)"
   ]
  },
  {
   "cell_type": "markdown",
   "id": "2e75f9b3-7af1-41dd-89a6-611e497bfebf",
   "metadata": {},
   "source": [
    "### ✅ 문자열 Method"
   ]
  },
  {
   "cell_type": "code",
   "execution_count": 1,
   "id": "bb3cc742-1bb5-4cbf-9f51-9d12dcd387be",
   "metadata": {},
   "outputs": [],
   "source": [
    "a = 'hello my name is heeju'"
   ]
  },
  {
   "cell_type": "code",
   "execution_count": 2,
   "id": "60a86118-c3d6-4789-8000-d92a1faf43ae",
   "metadata": {},
   "outputs": [
    {
     "ename": "TypeError",
     "evalue": "'str' object does not support item assignment",
     "output_type": "error",
     "traceback": [
      "\u001b[0;31m---------------------------------------------------------------------------\u001b[0m",
      "\u001b[0;31mTypeError\u001b[0m                                 Traceback (most recent call last)",
      "Cell \u001b[0;32mIn[2], line 2\u001b[0m\n\u001b[1;32m      1\u001b[0m \u001b[38;5;66;03m# 문자열(String)은 수정불가능(immutable)\u001b[39;00m\n\u001b[0;32m----> 2\u001b[0m a[\u001b[38;5;241m0\u001b[39m] \u001b[38;5;241m=\u001b[39m \u001b[38;5;124m'\u001b[39m\u001b[38;5;124mH\u001b[39m\u001b[38;5;124m'\u001b[39m\n",
      "\u001b[0;31mTypeError\u001b[0m: 'str' object does not support item assignment"
     ]
    }
   ],
   "source": [
    "# 문자열(String)은 수정불가능(immutable)\n",
    "a[0] = 'H'"
   ]
  },
  {
   "cell_type": "markdown",
   "id": "62900583-7791-497f-b18b-5be91ba86a7a",
   "metadata": {},
   "source": [
    "#### ✔️ capitalize"
   ]
  },
  {
   "cell_type": "code",
   "execution_count": 3,
   "id": "398d2ac6-0f76-49e9-9ed8-311a7ce22e91",
   "metadata": {},
   "outputs": [
    {
     "data": {
      "text/plain": [
       "'Hello my name is heeju'"
      ]
     },
     "execution_count": 3,
     "metadata": {},
     "output_type": "execute_result"
    }
   ],
   "source": [
    "# 첫글자 대문자\n",
    "a.capitalize()"
   ]
  },
  {
   "cell_type": "markdown",
   "id": "9dccd3da-2e1b-4b25-a577-7a91ba2bbaf5",
   "metadata": {},
   "source": [
    "#### ✔️ title"
   ]
  },
  {
   "cell_type": "code",
   "execution_count": 4,
   "id": "c0dbf788-09ad-4d38-9694-071513429874",
   "metadata": {},
   "outputs": [
    {
     "data": {
      "text/plain": [
       "'Hello My Name Is Heeju'"
      ]
     },
     "execution_count": 4,
     "metadata": {},
     "output_type": "execute_result"
    }
   ],
   "source": [
    "# 단어 첫글자 대문자\n",
    "a.title()"
   ]
  },
  {
   "cell_type": "markdown",
   "id": "751ff29b-5753-4bb5-be2c-657d81b81304",
   "metadata": {},
   "source": [
    "#### ✔️ upper"
   ]
  },
  {
   "cell_type": "code",
   "execution_count": 5,
   "id": "1ba20510-4b7f-4719-81c1-a992bc70702d",
   "metadata": {},
   "outputs": [
    {
     "data": {
      "text/plain": [
       "'HELLO MY NAME IS HEEJU'"
      ]
     },
     "execution_count": 5,
     "metadata": {},
     "output_type": "execute_result"
    }
   ],
   "source": [
    "# 모든글자 대문자\n",
    "a.upper()"
   ]
  },
  {
   "cell_type": "markdown",
   "id": "8e8924ff-3486-4fdb-a49e-15d70040eae1",
   "metadata": {},
   "source": [
    "#### ✔️ lower"
   ]
  },
  {
   "cell_type": "code",
   "execution_count": 6,
   "id": "248353d6-2a09-4d03-bf27-04abca1ba53c",
   "metadata": {},
   "outputs": [
    {
     "data": {
      "text/plain": [
       "'hello my name is heeju'"
      ]
     },
     "execution_count": 6,
     "metadata": {},
     "output_type": "execute_result"
    }
   ],
   "source": [
    "# 모든글자 소문자\n",
    "a.lower()"
   ]
  },
  {
   "cell_type": "markdown",
   "id": "a5db3d6f-c5b1-45ee-868d-0a1e64c0b361",
   "metadata": {},
   "source": [
    "#### ✔️ join"
   ]
  },
  {
   "cell_type": "code",
   "execution_count": 7,
   "id": "7520bd57-f933-4d86-82f6-5c1d701091dd",
   "metadata": {},
   "outputs": [
    {
     "data": {
      "text/plain": [
       "'hi/my/name'"
      ]
     },
     "execution_count": 7,
     "metadata": {},
     "output_type": "execute_result"
    }
   ],
   "source": [
    "# 리스트에 있는 요소들 사이 구분자를 넣어 문자열로 반환\n",
    "my_list = ['hi', 'my', 'name']\n",
    "'/'.join(my_list)"
   ]
  },
  {
   "cell_type": "markdown",
   "id": "cc07a048-c6d8-470f-8a25-66794bdc24dd",
   "metadata": {
    "tags": []
   },
   "source": [
    "#### ✔️ strip\n",
    "- strip\n",
    "- lstrip\n",
    "- rstrip"
   ]
  },
  {
   "cell_type": "code",
   "execution_count": 8,
   "id": "fcfb2a2e-c306-4f70-807f-c38cce4442fa",
   "metadata": {},
   "outputs": [
    {
     "name": "stdout",
     "output_type": "stream",
     "text": [
      "            hello        \n",
      "hello\n"
     ]
    }
   ],
   "source": [
    "my_string = '            hello        '\n",
    "print(my_string)\n",
    "print(my_string.strip()) # 문자열 앞 뒤 공백 삭제(문자열 중간은 삭제되지 않음)"
   ]
  },
  {
   "cell_type": "code",
   "execution_count": 9,
   "id": "81d6b4f8-a915-40c4-a74a-aeb6a2965412",
   "metadata": {},
   "outputs": [
    {
     "name": "stdout",
     "output_type": "stream",
     "text": [
      "hihihihihellohihihi\n",
      "ello\n",
      "ellohihihi\n",
      "hihihihihello\n"
     ]
    }
   ],
   "source": [
    "my_string2 = 'hihihihihellohihihi'\n",
    "print(my_string2)\n",
    "print(my_string2.strip('hi')) # h와 i를 제거하기 때문에 ello가 출력\n",
    "print(my_string2.lstrip('hi')) # 왼쪽만 제거\n",
    "print(my_string2.rstrip('hi')) # 오른쪽만 제거"
   ]
  },
  {
   "cell_type": "markdown",
   "id": "8baa1b07-2d9d-45b9-811f-b3472776d136",
   "metadata": {},
   "source": [
    "#### ✔️ replace\n",
    ": ```replace(old, new, count)```"
   ]
  },
  {
   "cell_type": "code",
   "execution_count": 10,
   "id": "0f26834d-fa46-4f5d-b332-efa079d68de3",
   "metadata": {},
   "outputs": [
    {
     "name": "stdout",
     "output_type": "stream",
     "text": [
      "w!!!!!!!!w\n",
      "w!!!ooooow\n"
     ]
    }
   ],
   "source": [
    "# old를 new로 대체 (count가 있을 경우 count만큼)\n",
    "a = 'woooooooow'\n",
    "print(a.replace('o', '!'))\n",
    "print(a.replace('o', '!', 3)) # count 선택사항"
   ]
  },
  {
   "cell_type": "markdown",
   "id": "a37a9784-1ff5-4c28-be2b-dd57717e8c7c",
   "metadata": {},
   "source": [
    "#### ✔️ find"
   ]
  },
  {
   "cell_type": "code",
   "execution_count": 11,
   "id": "fa9b44cd-08fd-4ed1-80a4-cffe16828d9b",
   "metadata": {},
   "outputs": [
    {
     "name": "stdout",
     "output_type": "stream",
     "text": [
      "0\n",
      "1\n",
      "-1\n"
     ]
    }
   ],
   "source": [
    "# index 반환\n",
    "a = 'apple'\n",
    "print(a.find('a'))\n",
    "print(a.find('p'))\n",
    "print(a.find('z')) # 없을 경우 -1 출력"
   ]
  },
  {
   "cell_type": "markdown",
   "id": "7ae01801-6d77-4881-83e0-b7ff97e6c90d",
   "metadata": {},
   "source": [
    "#### ✔️ index"
   ]
  },
  {
   "cell_type": "code",
   "execution_count": 12,
   "id": "259e3cab-e15d-48f6-8dac-87efa0dbe484",
   "metadata": {},
   "outputs": [
    {
     "name": "stdout",
     "output_type": "stream",
     "text": [
      "0\n"
     ]
    }
   ],
   "source": [
    "# index 반환\n",
    "a = 'apple'\n",
    "print(a.index('a'))"
   ]
  },
  {
   "cell_type": "code",
   "execution_count": 13,
   "id": "8b3644fa-0874-4698-b391-bbcc17bf0a57",
   "metadata": {},
   "outputs": [
    {
     "ename": "ValueError",
     "evalue": "substring not found",
     "output_type": "error",
     "traceback": [
      "\u001b[0;31m---------------------------------------------------------------------------\u001b[0m",
      "\u001b[0;31mValueError\u001b[0m                                Traceback (most recent call last)",
      "Cell \u001b[0;32mIn[13], line 1\u001b[0m\n\u001b[0;32m----> 1\u001b[0m \u001b[38;5;28mprint\u001b[39m(a\u001b[38;5;241m.\u001b[39mindex(\u001b[38;5;124m'\u001b[39m\u001b[38;5;124mz\u001b[39m\u001b[38;5;124m'\u001b[39m))\n",
      "\u001b[0;31mValueError\u001b[0m: substring not found"
     ]
    }
   ],
   "source": [
    "print(a.index('z')) # 없을 경우 error 출력"
   ]
  },
  {
   "cell_type": "markdown",
   "id": "6c79573e-c42c-4f8f-af09-cd6fef76d59f",
   "metadata": {},
   "source": [
    "#### ✔️ split"
   ]
  },
  {
   "cell_type": "code",
   "execution_count": 14,
   "id": "2efb869a-feb1-4d2d-8ebc-3137aa3cea2f",
   "metadata": {},
   "outputs": [
    {
     "data": {
      "text/plain": [
       "['my', 'name', 'is']"
      ]
     },
     "execution_count": 14,
     "metadata": {},
     "output_type": "execute_result"
    }
   ],
   "source": [
    "# 구분자를 기준으로 문자열 분리하여 리스트로 반환\n",
    "a = 'my_name_is'\n",
    "a.split('_')"
   ]
  },
  {
   "cell_type": "markdown",
   "id": "b0e72092-5f08-4cd2-9f8e-720cf544856c",
   "metadata": {},
   "source": [
    "#### ✔️ count"
   ]
  },
  {
   "cell_type": "code",
   "execution_count": 15,
   "id": "c498bb4a-1e52-49f2-becc-1f0111d7869a",
   "metadata": {},
   "outputs": [
    {
     "data": {
      "text/plain": [
       "8"
      ]
     },
     "execution_count": 15,
     "metadata": {},
     "output_type": "execute_result"
    }
   ],
   "source": [
    "# 문자열에 해당 str갯수\n",
    "'woooooooow'.count('o')"
   ]
  }
 ],
 "metadata": {
  "kernelspec": {
   "display_name": "Python 3 (ipykernel)",
   "language": "python",
   "name": "python3"
  },
  "language_info": {
   "codemirror_mode": {
    "name": "ipython",
    "version": 3
   },
   "file_extension": ".py",
   "mimetype": "text/x-python",
   "name": "python",
   "nbconvert_exporter": "python",
   "pygments_lexer": "ipython3",
   "version": "3.11.5"
  }
 },
 "nbformat": 4,
 "nbformat_minor": 5
}
