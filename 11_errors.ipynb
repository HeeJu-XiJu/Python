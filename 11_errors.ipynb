{
 "cells": [
  {
   "cell_type": "markdown",
   "id": "a20af056-cb1a-4445-adbd-c7963067cdb4",
   "metadata": {},
   "source": [
    "# 📍 Error\n",
    ": SyntaxError, ZeroDivisionError, TypeError, ValueError, KeyError 등"
   ]
  },
  {
   "cell_type": "markdown",
   "id": "72b90ba5-0aec-443b-933e-bf01fc1a7ff2",
   "metadata": {},
   "source": [
    "### ✅ 예외처리\n",
    "```python\n",
    "try:\n",
    "    code\n",
    "except 예외:\n",
    "    code\n",
    "```"
   ]
  },
  {
   "cell_type": "code",
   "execution_count": 1,
   "id": "43c38cca-3021-4416-9abc-1324fd765781",
   "metadata": {},
   "outputs": [
    {
     "name": "stdout",
     "output_type": "stream",
     "text": [
      "숫자를 입력하세요!!!!!\n"
     ]
    }
   ],
   "source": [
    "# TypeError\n",
    "num = 'a'\n",
    "try:\n",
    "    print(f'{num}의 세제곱은 {num ** 3}입니다.')\n",
    "except TypeError:\n",
    "    print('숫자를 입력하세요!!!!!')"
   ]
  },
  {
   "cell_type": "code",
   "execution_count": 2,
   "id": "20d70f47-e455-48c3-92bd-4ad85958f28f",
   "metadata": {},
   "outputs": [
    {
     "name": "stdout",
     "output_type": "stream",
     "text": [
      "입력한 정보는 숫자가 아닙니다.\n"
     ]
    }
   ],
   "source": [
    "# TypeError\n",
    "num = 'a'\n",
    "try:\n",
    "    print(f'100을 {num}으로 나누면 {100/num}입니다.')\n",
    "except TypeError:\n",
    "    print('입력한 정보는 숫자가 아닙니다.')\n",
    "except ZeroDivisionError:\n",
    "    print('수학적으로 0으로는 나눌 수 없습니다.')"
   ]
  },
  {
   "cell_type": "code",
   "execution_count": 3,
   "id": "5912c52f-802f-4bb1-8466-d42d9d97dddc",
   "metadata": {},
   "outputs": [
    {
     "name": "stdout",
     "output_type": "stream",
     "text": [
      "수학적으로 0으로는 나눌 수 없습니다.\n"
     ]
    }
   ],
   "source": [
    "# ZeroDivisionError\n",
    "num = 0\n",
    "try:\n",
    "    print(f'100을 {num}으로 나누면 {100/num}입니다.')\n",
    "except ValueError:\n",
    "    print('입력한 정보는 숫자가 아닙니다.')\n",
    "except ZeroDivisionError:\n",
    "    print('수학적으로 0으로는 나눌 수 없습니다.')"
   ]
  },
  {
   "cell_type": "code",
   "execution_count": 4,
   "id": "80d5fb16-c237-4c65-906e-0eb77c96306e",
   "metadata": {},
   "outputs": [
    {
     "name": "stdout",
     "output_type": "stream",
     "text": [
      "무엇인가 잘못되었습니다.\n"
     ]
    }
   ],
   "source": [
    "# 모든 Error\n",
    "num = 0\n",
    "try:\n",
    "    print(f'100을 {num}으로 나누면 {100/num}입니다.')\n",
    "except:\n",
    "    print('무엇인가 잘못되었습니다.')"
   ]
  },
  {
   "cell_type": "code",
   "execution_count": 5,
   "id": "e1c4f5a9-2978-449f-b280-1668574cfcdf",
   "metadata": {},
   "outputs": [
    {
     "name": "stdout",
     "output_type": "stream",
     "text": [
      "wrong\n"
     ]
    }
   ],
   "source": [
    "# ValueError, ZeroDivisionError 외 Error(NameError)\n",
    "try:\n",
    "    print(asdf)\n",
    "    num = int(input('100을 나눌 값을 입력해주세요 : '))\n",
    "    print(f'100을 {num}으로 나누면 {100/num}입니다.')\n",
    "except (ValueError, ZeroDivisionError):\n",
    "    print('무엇인가 잘못되었습니다.')\n",
    "except:\n",
    "    print('wrong')"
   ]
  },
  {
   "cell_type": "code",
   "execution_count": 6,
   "id": "396dd4e0-b2e2-48e8-a93e-dceaac5c9292",
   "metadata": {},
   "outputs": [
    {
     "ename": "SyntaxError",
     "evalue": "default 'except:' must be last (3740477421.py, line 5)",
     "output_type": "error",
     "traceback": [
      "\u001b[0;36m  Cell \u001b[0;32mIn[6], line 5\u001b[0;36m\u001b[0m\n\u001b[0;31m    except:\u001b[0m\n\u001b[0m    ^\u001b[0m\n\u001b[0;31mSyntaxError\u001b[0m\u001b[0;31m:\u001b[0m default 'except:' must be last\n"
     ]
    }
   ],
   "source": [
    "# except 순서로 인한 error 발생\n",
    "try:\n",
    "    num = int(input('100을 나눌 값을 입력해주세요 : '))\n",
    "    print(f'100을 {num}으로 나누면 {100/num}입니다.')\n",
    "except:\n",
    "    print('wrong')\n",
    "except (ValueError, ZeroDivisionError):\n",
    "    print('무엇인가 잘못되었습니다.')"
   ]
  },
  {
   "cell_type": "code",
   "execution_count": 7,
   "id": "afa47850-6415-490f-8f57-2645ea5a5fda",
   "metadata": {},
   "outputs": [
    {
     "name": "stdout",
     "output_type": "stream",
     "text": [
      "범위에 문제가 있습니다.\n",
      "list index out of range\n"
     ]
    }
   ],
   "source": [
    "# Error 출력\n",
    "try:\n",
    "    my_list = [1, 2, 3]\n",
    "    print(my_list[100])\n",
    "except IndexError as err:\n",
    "    print('범위에 문제가 있습니다.')\n",
    "    print(err)"
   ]
  },
  {
   "cell_type": "markdown",
   "id": "3fd20f4b-e324-435f-a2f6-28300d59c3c0",
   "metadata": {},
   "source": [
    "#### ✔️ else\n",
    ": 예외를 일으키지 않을 때 실행되는 코드"
   ]
  },
  {
   "cell_type": "code",
   "execution_count": 8,
   "id": "b9a26124-84c9-41b7-82b9-288ad537f1e4",
   "metadata": {},
   "outputs": [
    {
     "name": "stdout",
     "output_type": "stream",
     "text": [
      "8\n"
     ]
    }
   ],
   "source": [
    "try:\n",
    "    numbers = [1, 2, 3]\n",
    "    num = numbers[1]\n",
    "except:\n",
    "    print('오류발생')\n",
    "else:\n",
    "    print(num ** 3)"
   ]
  },
  {
   "cell_type": "markdown",
   "id": "9b6a0a6b-fd56-4668-ba64-eb5e91ce2e94",
   "metadata": {},
   "source": [
    "#### ✔️ finally\n",
    ": 예외 상황과 무관하게 무조건 최종적으로 실행되는 코드"
   ]
  },
  {
   "cell_type": "code",
   "execution_count": 9,
   "id": "edd3877d-c020-4fde-a37b-18aaa4214752",
   "metadata": {},
   "outputs": [
    {
     "name": "stdout",
     "output_type": "stream",
     "text": [
      "오류발생\n",
      "end\n"
     ]
    }
   ],
   "source": [
    "try:\n",
    "    numbers = [1, 2, 3]\n",
    "    num = numbers[100]\n",
    "except:\n",
    "    print('오류발생')\n",
    "finally:\n",
    "    print('end')"
   ]
  },
  {
   "cell_type": "markdown",
   "id": "d780b503-56e3-4aa8-97cd-c33ad780433a",
   "metadata": {},
   "source": [
    "#### ✔️ raise\n",
    ": 예외를 강제로 발생시키는 상황에서 사용"
   ]
  },
  {
   "cell_type": "code",
   "execution_count": 10,
   "id": "26a85b02-de14-4000-8671-b903358ce823",
   "metadata": {},
   "outputs": [
    {
     "name": "stdout",
     "output_type": "stream",
     "text": [
      "50\n"
     ]
    },
    {
     "ename": "RuntimeError",
     "evalue": "No active exception to reraise",
     "output_type": "error",
     "traceback": [
      "\u001b[0;31m---------------------------------------------------------------------------\u001b[0m",
      "\u001b[0;31mRuntimeError\u001b[0m                              Traceback (most recent call last)",
      "Cell \u001b[0;32mIn[10], line 4\u001b[0m\n\u001b[1;32m      2\u001b[0m \u001b[38;5;28;01mif\u001b[39;00m i \u001b[38;5;241m==\u001b[39m \u001b[38;5;241m50\u001b[39m:\n\u001b[1;32m      3\u001b[0m     \u001b[38;5;28mprint\u001b[39m(i)\n\u001b[0;32m----> 4\u001b[0m     \u001b[38;5;28;01mraise\u001b[39;00m\n",
      "\u001b[0;31mRuntimeError\u001b[0m: No active exception to reraise"
     ]
    }
   ],
   "source": [
    "for i in range(100):\n",
    "    if i == 50:\n",
    "        print(i)\n",
    "        raise"
   ]
  }
 ],
 "metadata": {
  "kernelspec": {
   "display_name": "Python 3 (ipykernel)",
   "language": "python",
   "name": "python3"
  },
  "language_info": {
   "codemirror_mode": {
    "name": "ipython",
    "version": 3
   },
   "file_extension": ".py",
   "mimetype": "text/x-python",
   "name": "python",
   "nbconvert_exporter": "python",
   "pygments_lexer": "ipython3",
   "version": "3.11.5"
  }
 },
 "nbformat": 4,
 "nbformat_minor": 5
}
