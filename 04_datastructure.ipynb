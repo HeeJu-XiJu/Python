{
 "cells": [
  {
   "cell_type": "markdown",
   "id": "16c65ef5-9f40-4a4e-8486-bbdeffd72da9",
   "metadata": {},
   "source": [
    "# Datastructure"
   ]
  },
  {
   "cell_type": "code",
   "execution_count": 1,
   "id": "24c7266e-87f6-46f7-9eb5-5a3950dca7d7",
   "metadata": {},
   "outputs": [
    {
     "data": {
      "text/plain": [
       "['__add__',\n",
       " '__class__',\n",
       " '__contains__',\n",
       " '__delattr__',\n",
       " '__dir__',\n",
       " '__doc__',\n",
       " '__eq__',\n",
       " '__format__',\n",
       " '__ge__',\n",
       " '__getattribute__',\n",
       " '__getitem__',\n",
       " '__getnewargs__',\n",
       " '__getstate__',\n",
       " '__gt__',\n",
       " '__hash__',\n",
       " '__init__',\n",
       " '__init_subclass__',\n",
       " '__iter__',\n",
       " '__le__',\n",
       " '__len__',\n",
       " '__lt__',\n",
       " '__mod__',\n",
       " '__mul__',\n",
       " '__ne__',\n",
       " '__new__',\n",
       " '__reduce__',\n",
       " '__reduce_ex__',\n",
       " '__repr__',\n",
       " '__rmod__',\n",
       " '__rmul__',\n",
       " '__setattr__',\n",
       " '__sizeof__',\n",
       " '__str__',\n",
       " '__subclasshook__',\n",
       " 'capitalize',\n",
       " 'casefold',\n",
       " 'center',\n",
       " 'count',\n",
       " 'encode',\n",
       " 'endswith',\n",
       " 'expandtabs',\n",
       " 'find',\n",
       " 'format',\n",
       " 'format_map',\n",
       " 'index',\n",
       " 'isalnum',\n",
       " 'isalpha',\n",
       " 'isascii',\n",
       " 'isdecimal',\n",
       " 'isdigit',\n",
       " 'isidentifier',\n",
       " 'islower',\n",
       " 'isnumeric',\n",
       " 'isprintable',\n",
       " 'isspace',\n",
       " 'istitle',\n",
       " 'isupper',\n",
       " 'join',\n",
       " 'ljust',\n",
       " 'lower',\n",
       " 'lstrip',\n",
       " 'maketrans',\n",
       " 'partition',\n",
       " 'removeprefix',\n",
       " 'removesuffix',\n",
       " 'replace',\n",
       " 'rfind',\n",
       " 'rindex',\n",
       " 'rjust',\n",
       " 'rpartition',\n",
       " 'rsplit',\n",
       " 'rstrip',\n",
       " 'split',\n",
       " 'splitlines',\n",
       " 'startswith',\n",
       " 'strip',\n",
       " 'swapcase',\n",
       " 'title',\n",
       " 'translate',\n",
       " 'upper',\n",
       " 'zfill']"
      ]
     },
     "execution_count": 1,
     "metadata": {},
     "output_type": "execute_result"
    }
   ],
   "source": [
    "dir('hello')"
   ]
  },
  {
   "cell_type": "markdown",
   "id": "2e75f9b3-7af1-41dd-89a6-611e497bfebf",
   "metadata": {},
   "source": [
    "## 문자열 메소드"
   ]
  },
  {
   "cell_type": "code",
   "execution_count": 18,
   "id": "bb3cc742-1bb5-4cbf-9f51-9d12dcd387be",
   "metadata": {},
   "outputs": [
    {
     "name": "stdout",
     "output_type": "stream",
     "text": [
      "hello my name is heeju\n"
     ]
    }
   ],
   "source": [
    "a = 'hello my name is heeju'\n",
    "print(a)"
   ]
  },
  {
   "cell_type": "code",
   "execution_count": 5,
   "id": "60a86118-c3d6-4789-8000-d92a1faf43ae",
   "metadata": {},
   "outputs": [
    {
     "ename": "TypeError",
     "evalue": "'str' object does not support item assignment",
     "output_type": "error",
     "traceback": [
      "\u001b[0;31m---------------------------------------------------------------------------\u001b[0m",
      "\u001b[0;31mTypeError\u001b[0m                                 Traceback (most recent call last)",
      "Cell \u001b[0;32mIn[5], line 1\u001b[0m\n\u001b[0;32m----> 1\u001b[0m \u001b[43ma\u001b[49m\u001b[43m[\u001b[49m\u001b[38;5;241;43m0\u001b[39;49m\u001b[43m]\u001b[49m \u001b[38;5;241m=\u001b[39m \u001b[38;5;124m'\u001b[39m\u001b[38;5;124mH\u001b[39m\u001b[38;5;124m'\u001b[39m \u001b[38;5;66;03m# 문자열(String)은 수정불가능(immutable)\u001b[39;00m\n",
      "\u001b[0;31mTypeError\u001b[0m: 'str' object does not support item assignment"
     ]
    }
   ],
   "source": [
    "a[0] = 'H' # 문자열(String)은 수정불가능(immutable)"
   ]
  },
  {
   "cell_type": "code",
   "execution_count": 19,
   "id": "04b1550a-c7fa-4272-9d34-56a41e21fe34",
   "metadata": {},
   "outputs": [
    {
     "name": "stdout",
     "output_type": "stream",
     "text": [
      "hello my name is heeju\n"
     ]
    }
   ],
   "source": [
    "a.capitalize() # return 되어 원본으로 원상복귀됨\n",
    "print(a)"
   ]
  },
  {
   "cell_type": "code",
   "execution_count": 25,
   "id": "398d2ac6-0f76-49e9-9ed8-311a7ce22e91",
   "metadata": {},
   "outputs": [
    {
     "name": "stdout",
     "output_type": "stream",
     "text": [
      "Hello my name is heeju\n"
     ]
    }
   ],
   "source": [
    "a = a.capitalize() # 원본을 수정하는 방법\n",
    "print(a)"
   ]
  },
  {
   "cell_type": "code",
   "execution_count": 21,
   "id": "c0dbf788-09ad-4d38-9694-071513429874",
   "metadata": {},
   "outputs": [
    {
     "data": {
      "text/plain": [
       "'Hello My Name Is Heeju'"
      ]
     },
     "execution_count": 21,
     "metadata": {},
     "output_type": "execute_result"
    }
   ],
   "source": [
    "a.title()"
   ]
  },
  {
   "cell_type": "code",
   "execution_count": 22,
   "id": "1ba20510-4b7f-4719-81c1-a992bc70702d",
   "metadata": {},
   "outputs": [
    {
     "data": {
      "text/plain": [
       "'HELLO MY NAME IS HEEJU'"
      ]
     },
     "execution_count": 22,
     "metadata": {},
     "output_type": "execute_result"
    }
   ],
   "source": [
    "a.upper()"
   ]
  },
  {
   "cell_type": "code",
   "execution_count": 23,
   "id": "248353d6-2a09-4d03-bf27-04abca1ba53c",
   "metadata": {},
   "outputs": [
    {
     "data": {
      "text/plain": [
       "'hello my name is heeju'"
      ]
     },
     "execution_count": 23,
     "metadata": {},
     "output_type": "execute_result"
    }
   ],
   "source": [
    "a.lower()"
   ]
  },
  {
   "cell_type": "code",
   "execution_count": 24,
   "id": "9fa44899-644b-4df0-aa18-460448cfb8c0",
   "metadata": {},
   "outputs": [
    {
     "name": "stdout",
     "output_type": "stream",
     "text": [
      "Hello my name is heeju\n"
     ]
    }
   ],
   "source": [
    "print(a)"
   ]
  },
  {
   "cell_type": "code",
   "execution_count": 27,
   "id": "7520bd57-f933-4d86-82f6-5c1d701091dd",
   "metadata": {},
   "outputs": [
    {
     "data": {
      "text/plain": [
       "'hi/my/name'"
      ]
     },
     "execution_count": 27,
     "metadata": {},
     "output_type": "execute_result"
    }
   ],
   "source": [
    "my_list = ['hi', 'my', 'name']\n",
    "'/'.join(my_list)"
   ]
  },
  {
   "cell_type": "markdown",
   "id": "6b099534-6671-404a-b205-7c4566f51d98",
   "metadata": {},
   "source": [
    "#### .strip([chars]) \n",
    "대괄호는 작성하지 않아도 된다\n",
    "\n",
    "왼쪽 오른쪽만 제거 가능(중간은 제거 불가능)"
   ]
  },
  {
   "cell_type": "code",
   "execution_count": 29,
   "id": "fcfb2a2e-c306-4f70-807f-c38cce4442fa",
   "metadata": {},
   "outputs": [
    {
     "name": "stdout",
     "output_type": "stream",
     "text": [
      "            hello        \n",
      "hello\n"
     ]
    }
   ],
   "source": [
    "my_string = '            hello        '\n",
    "print(my_string)\n",
    "print(my_string.strip()) # 문자열 앞 뒤 공백 삭제(문자열 중간은 삭제되지 않음)"
   ]
  },
  {
   "cell_type": "code",
   "execution_count": 34,
   "id": "81d6b4f8-a915-40c4-a74a-aeb6a2965412",
   "metadata": {},
   "outputs": [
    {
     "name": "stdout",
     "output_type": "stream",
     "text": [
      "hihihihihellohihihi\n",
      "ello\n",
      "ellohihihi\n",
      "hihihihihello\n"
     ]
    }
   ],
   "source": [
    "my_string2 = 'hihihihihellohihihi'\n",
    "print(my_string2)\n",
    "print(my_string2.strip('hi')) # h와 i를 제거하기 때문에 ello가 출력\n",
    "print(my_string2.lstrip('hi'))\n",
    "print(my_string2.rstrip('hi'))"
   ]
  },
  {
   "cell_type": "markdown",
   "id": "8baa1b07-2d9d-45b9-811f-b3472776d136",
   "metadata": {},
   "source": [
    "#### .replace(old, new[, count])"
   ]
  },
  {
   "cell_type": "code",
   "execution_count": 37,
   "id": "0f26834d-fa46-4f5d-b332-efa079d68de3",
   "metadata": {},
   "outputs": [
    {
     "data": {
      "text/plain": [
       "'w!!!ooooow'"
      ]
     },
     "execution_count": 37,
     "metadata": {},
     "output_type": "execute_result"
    }
   ],
   "source": [
    "a = 'woooooooow'\n",
    "a.replace('o', '!')\n",
    "a.replace('o', '!', 3) # count 선택사항"
   ]
  },
  {
   "cell_type": "markdown",
   "id": "a37a9784-1ff5-4c28-be2b-dd57717e8c7c",
   "metadata": {},
   "source": [
    "#### .find(x)"
   ]
  },
  {
   "cell_type": "code",
   "execution_count": 43,
   "id": "fa9b44cd-08fd-4ed1-80a4-cffe16828d9b",
   "metadata": {},
   "outputs": [
    {
     "name": "stdout",
     "output_type": "stream",
     "text": [
      "0\n",
      "1\n",
      "-1\n"
     ]
    }
   ],
   "source": [
    "a = 'apple'\n",
    "print(a.find('a'))\n",
    "print(a.find('p'))\n",
    "print(a.find('z')) # 없을 경우 -1 출력\n",
    "\n",
    "# find 함수 구현화\n",
    "# for i in range(len(a)):\n",
    "#     if 'p' == a[i]:\n",
    "#         print(i)\n",
    "#         break\n",
    "#     else:\n",
    "#         print(-1)"
   ]
  },
  {
   "cell_type": "markdown",
   "id": "7ae01801-6d77-4881-83e0-b7ff97e6c90d",
   "metadata": {},
   "source": [
    "#### .index(x)"
   ]
  },
  {
   "cell_type": "code",
   "execution_count": 46,
   "id": "259e3cab-e15d-48f6-8dac-87efa0dbe484",
   "metadata": {},
   "outputs": [
    {
     "name": "stdout",
     "output_type": "stream",
     "text": [
      "0\n"
     ]
    }
   ],
   "source": [
    "a = 'apple'\n",
    "print(a.index('a'))"
   ]
  },
  {
   "cell_type": "code",
   "execution_count": 47,
   "id": "8b3644fa-0874-4698-b391-bbcc17bf0a57",
   "metadata": {},
   "outputs": [
    {
     "ename": "ValueError",
     "evalue": "substring not found",
     "output_type": "error",
     "traceback": [
      "\u001b[0;31m---------------------------------------------------------------------------\u001b[0m",
      "\u001b[0;31mValueError\u001b[0m                                Traceback (most recent call last)",
      "Cell \u001b[0;32mIn[47], line 1\u001b[0m\n\u001b[0;32m----> 1\u001b[0m \u001b[38;5;28mprint\u001b[39m(\u001b[43ma\u001b[49m\u001b[38;5;241;43m.\u001b[39;49m\u001b[43mindex\u001b[49m\u001b[43m(\u001b[49m\u001b[38;5;124;43m'\u001b[39;49m\u001b[38;5;124;43mz\u001b[39;49m\u001b[38;5;124;43m'\u001b[39;49m\u001b[43m)\u001b[49m)\n",
      "\u001b[0;31mValueError\u001b[0m: substring not found"
     ]
    }
   ],
   "source": [
    "print(a.index('z')) # 없을 경우 error 출력"
   ]
  },
  {
   "cell_type": "markdown",
   "id": "6c79573e-c42c-4f8f-af09-cd6fef76d59f",
   "metadata": {},
   "source": [
    "#### .split(x)"
   ]
  },
  {
   "cell_type": "code",
   "execution_count": 48,
   "id": "2efb869a-feb1-4d2d-8ebc-3137aa3cea2f",
   "metadata": {},
   "outputs": [
    {
     "data": {
      "text/plain": [
       "['my', 'name', 'is']"
      ]
     },
     "execution_count": 48,
     "metadata": {},
     "output_type": "execute_result"
    }
   ],
   "source": [
    "a = 'my_name_is'\n",
    "a.split('_')"
   ]
  },
  {
   "cell_type": "markdown",
   "id": "b0e72092-5f08-4cd2-9f8e-720cf544856c",
   "metadata": {},
   "source": [
    "#### .count(x)"
   ]
  },
  {
   "cell_type": "code",
   "execution_count": 50,
   "id": "c498bb4a-1e52-49f2-becc-1f0111d7869a",
   "metadata": {},
   "outputs": [
    {
     "data": {
      "text/plain": [
       "8"
      ]
     },
     "execution_count": 50,
     "metadata": {},
     "output_type": "execute_result"
    }
   ],
   "source": [
    "'woooooooow'.count('o')"
   ]
  },
  {
   "cell_type": "markdown",
   "id": "00435e88-21c2-47c8-97c8-ce338652d35d",
   "metadata": {},
   "source": [
    "## 리스트 메소드"
   ]
  },
  {
   "cell_type": "markdown",
   "id": "bb21d426-265e-4164-b239-46b216371152",
   "metadata": {},
   "source": [
    "#### .append()"
   ]
  },
  {
   "cell_type": "code",
   "execution_count": 53,
   "id": "d73cd78d-c06d-4c3d-a56f-fcb275199ed2",
   "metadata": {},
   "outputs": [
    {
     "name": "stdout",
     "output_type": "stream",
     "text": [
      "[1, 5, 2, 6, 2, 1, 10]\n"
     ]
    }
   ],
   "source": [
    "numbers = [1, 5, 2, 6, 2, 1]\n",
    "numbers.append(10)\n",
    "print(numbers)"
   ]
  },
  {
   "cell_type": "markdown",
   "id": "a4ca0926-9c89-4191-b17b-cbdd8949adf2",
   "metadata": {},
   "source": [
    "#### .extend(iterable)"
   ]
  },
  {
   "cell_type": "code",
   "execution_count": 54,
   "id": "772eefff-fac7-466d-98e1-f298c14fd1c4",
   "metadata": {},
   "outputs": [
    {
     "name": "stdout",
     "output_type": "stream",
     "text": [
      "[1, 5, 2, 6, 2, 1, 10, 99, 100]\n"
     ]
    }
   ],
   "source": [
    "a = [99, 100]\n",
    "\n",
    "numbers.extend(a)\n",
    "print(numbers)"
   ]
  },
  {
   "cell_type": "markdown",
   "id": "15ad76f8-471c-48e7-a8c9-2df1afdafbf5",
   "metadata": {},
   "source": [
    "#### .insert(idx, x)"
   ]
  },
  {
   "cell_type": "code",
   "execution_count": 62,
   "id": "59573074-9c43-4911-a591-fffc257d281e",
   "metadata": {},
   "outputs": [
    {
     "name": "stdout",
     "output_type": "stream",
     "text": [
      "[1, 5, 2, 3.5, 6, 2, 1, 10, 99, 100]\n"
     ]
    }
   ],
   "source": [
    "numbers.insert(3, 3.5)\n",
    "print(numbers)"
   ]
  },
  {
   "cell_type": "markdown",
   "id": "0f2f5c1c-53cb-46b3-9ad8-f21b85f1424f",
   "metadata": {},
   "source": [
    "#### .remove(x)"
   ]
  },
  {
   "cell_type": "code",
   "execution_count": 63,
   "id": "8cf0ccd0-aa7d-46be-9069-331148b63673",
   "metadata": {},
   "outputs": [
    {
     "name": "stdout",
     "output_type": "stream",
     "text": [
      "[1, 5, 2, 6, 2, 1, 10, 99, 100]\n"
     ]
    }
   ],
   "source": [
    "numbers.remove(3.5)\n",
    "print(numbers)"
   ]
  },
  {
   "cell_type": "markdown",
   "id": "be9cdd3b-082d-4f9a-8a3a-4da2ea389a80",
   "metadata": {},
   "source": [
    "#### .pop()"
   ]
  },
  {
   "cell_type": "code",
   "execution_count": 64,
   "id": "e004ee1b-a59b-4868-97c9-bfd69c16df8f",
   "metadata": {},
   "outputs": [
    {
     "name": "stdout",
     "output_type": "stream",
     "text": [
      "[1, 5, 2, 6, 2, 1, 10, 99]\n"
     ]
    }
   ],
   "source": [
    "numbers.pop()\n",
    "print(numbers)"
   ]
  },
  {
   "cell_type": "markdown",
   "id": "54cb0138-c2a6-4267-8992-b7bbcd138854",
   "metadata": {},
   "source": [
    "#### .sort()"
   ]
  },
  {
   "cell_type": "code",
   "execution_count": 73,
   "id": "22b664c2-5c67-4211-9311-01fa3f44c7f5",
   "metadata": {},
   "outputs": [
    {
     "name": "stdout",
     "output_type": "stream",
     "text": [
      "[1, 6, 2, 1, 3, 2, 7, 10]\n",
      "None\n",
      "[1, 1, 2, 2, 3, 6, 7, 10]\n",
      "[10, 7, 6, 3, 2, 2, 1, 1]\n"
     ]
    }
   ],
   "source": [
    "numbers = [1, 6, 2, 1, 3, 2, 7, 10]\n",
    "print(numbers)\n",
    "print(numbers.sort()) # .sort의 출력값이 none\n",
    "print(numbers)\n",
    "\n",
    "numbers.sort(reverse=True) # 원복 수정\n",
    "print(numbers)"
   ]
  },
  {
   "cell_type": "code",
   "execution_count": 72,
   "id": "5bb25b02-e49c-4d3a-8867-7364baf6a3ee",
   "metadata": {},
   "outputs": [
    {
     "name": "stdout",
     "output_type": "stream",
     "text": [
      "[1, 6, 2, 1, 3, 2, 7, 10]\n"
     ]
    }
   ],
   "source": [
    "numbers = [1, 6, 2, 1, 3, 2, 7, 10]\n",
    "sorted(numbers) # 원본 복귀\n",
    "print(numbers)"
   ]
  },
  {
   "cell_type": "markdown",
   "id": "f91939bf-98d1-4c53-b127-eb069638b2d1",
   "metadata": {},
   "source": [
    "#### .reverse()"
   ]
  },
  {
   "cell_type": "code",
   "execution_count": 76,
   "id": "f3dea0af-dae4-4f3a-97ed-998897f52970",
   "metadata": {},
   "outputs": [
    {
     "name": "stdout",
     "output_type": "stream",
     "text": [
      "[1, 6, 2, 1, 3, 2, 7, 10]\n",
      "[10, 7, 2, 3, 1, 2, 6, 1]\n"
     ]
    },
    {
     "data": {
      "text/plain": [
       "[1, 6, 2, 1, 3, 2, 7, 10]"
      ]
     },
     "execution_count": 76,
     "metadata": {},
     "output_type": "execute_result"
    }
   ],
   "source": [
    "numbers = [1, 6, 2, 1, 3, 2, 7, 10]\n",
    "print(numbers)\n",
    "numbers.reverse()\n",
    "print(numbers)\n",
    "numbers[ : : -1]"
   ]
  },
  {
   "cell_type": "markdown",
   "id": "9c2c7db6-fa30-408e-9c46-3066e5d80278",
   "metadata": {},
   "source": [
    "## list copy"
   ]
  },
  {
   "cell_type": "code",
   "execution_count": 77,
   "id": "ac452b95-7256-44b2-9ccb-4f144ff1572f",
   "metadata": {},
   "outputs": [],
   "source": [
    "origin_list = [1, 2, 3]\n",
    "copy_list = origin_list"
   ]
  },
  {
   "cell_type": "code",
   "execution_count": 78,
   "id": "b7350be1-06d3-41ad-a022-fa2a70ba8e99",
   "metadata": {},
   "outputs": [
    {
     "name": "stdout",
     "output_type": "stream",
     "text": [
      "[1, 2, 3]\n",
      "[1, 2, 3]\n"
     ]
    }
   ],
   "source": [
    "print(origin_list)\n",
    "print(copy_list)"
   ]
  },
  {
   "cell_type": "code",
   "execution_count": 83,
   "id": "28284c1e-b08c-48e4-9339-08afc26fc3cc",
   "metadata": {},
   "outputs": [
    {
     "name": "stdout",
     "output_type": "stream",
     "text": [
      "[100, 2, 3]\n",
      "[100, 2, 3]\n"
     ]
    }
   ],
   "source": [
    "copy_list[0] = 100\n",
    "\n",
    "print(origin_list) # origin_list의 주소를 출력\n",
    "print(copy_list)\n",
    "# 따라서 origin_list와 copy_list가 동일\n",
    "# 동일한 주소에 있는 값을 출력하기 때문"
   ]
  },
  {
   "cell_type": "code",
   "execution_count": 79,
   "id": "e0a38f67-3f3c-4f36-bcd9-20004d6087ad",
   "metadata": {},
   "outputs": [
    {
     "name": "stdout",
     "output_type": "stream",
     "text": [
      "[1, 2, 3]\n",
      "[100, 2, 3]\n"
     ]
    }
   ],
   "source": [
    "a = [1, 2, 3]\n",
    "b = list(a)\n",
    "\n",
    "b[0] = 100\n",
    "print(a)\n",
    "print(b)"
   ]
  },
  {
   "cell_type": "code",
   "execution_count": 84,
   "id": "3e6fb1ba-c786-405f-8f34-ad8eda02bab3",
   "metadata": {},
   "outputs": [
    {
     "name": "stdout",
     "output_type": "stream",
     "text": [
      "[1, 2, 3]\n",
      "[100, 2, 3]\n"
     ]
    }
   ],
   "source": [
    "a = [1, 2, 3]\n",
    "b = a[ : ]\n",
    "\n",
    "b[0] = 100\n",
    "print(a)\n",
    "print(b)"
   ]
  },
  {
   "cell_type": "code",
   "execution_count": 86,
   "id": "f93b7c97-8475-4a93-9505-163ab6ec50da",
   "metadata": {},
   "outputs": [
    {
     "name": "stdout",
     "output_type": "stream",
     "text": [
      "[1, 2, [99, 1000]]\n",
      "[1, 2, [99, 1000]]\n"
     ]
    }
   ],
   "source": [
    "a = [1, 2, [99, 100]]\n",
    "b = a[ : ]\n",
    "b[2][1] = 1000 # 2번째 리스트 안에 1번째 값을 수정\n",
    "\n",
    "print(a) # 위의 상황과 동일하게 주소값을 출력하는 개념\n",
    "print(b) "
   ]
  },
  {
   "cell_type": "code",
   "execution_count": 88,
   "id": "2c147ce4-1f54-4154-9bff-a78dd020769d",
   "metadata": {},
   "outputs": [
    {
     "name": "stdout",
     "output_type": "stream",
     "text": [
      "[1, 2, [99, 100]]\n",
      "[1, 2, [99, 1000]]\n"
     ]
    }
   ],
   "source": [
    "import copy\n",
    "a = [1, 2, [99, 100]]\n",
    "b = copy.deepcopy(a) # 위의 상황을 방지하기 위한 함수\n",
    "\n",
    "b[2][1] = 1000\n",
    "\n",
    "print(a)\n",
    "print(b)"
   ]
  },
  {
   "cell_type": "markdown",
   "id": "a954eb10-f89f-4d38-baf5-c785f16affe7",
   "metadata": {},
   "source": [
    "## list comprehension"
   ]
  },
  {
   "cell_type": "code",
   "execution_count": 90,
   "id": "beef7271-9579-4396-83df-52a507cde7f9",
   "metadata": {},
   "outputs": [
    {
     "name": "stdout",
     "output_type": "stream",
     "text": [
      "[1, 2, 3, 4, 5, 6, 7, 8, 9, 10]\n"
     ]
    }
   ],
   "source": [
    "numbers = list(range(1, 11))\n",
    "print(numbers)"
   ]
  },
  {
   "cell_type": "code",
   "execution_count": 91,
   "id": "5d021a59-5fda-491e-b12e-8a87ad9e8d33",
   "metadata": {},
   "outputs": [
    {
     "name": "stdout",
     "output_type": "stream",
     "text": [
      "[1, 8, 27, 64, 125, 216, 343, 512, 729, 1000]\n"
     ]
    }
   ],
   "source": [
    "# [1, 8, 27... 1000] => 세제곱 만들기\n",
    "result = []\n",
    "\n",
    "for number in numbers:\n",
    "    result.append(number ** 3)\n",
    "print(result)"
   ]
  },
  {
   "cell_type": "code",
   "execution_count": 92,
   "id": "1bccf3e4-1fb9-4178-90c0-a454537ad55d",
   "metadata": {},
   "outputs": [
    {
     "name": "stdout",
     "output_type": "stream",
     "text": [
      "[1, 8, 27, 64, 125, 216, 343, 512, 729, 1000]\n"
     ]
    }
   ],
   "source": [
    "result2 = [ number ** 3 for number in numbers]\n",
    "print(result2)"
   ]
  },
  {
   "cell_type": "code",
   "execution_count": 93,
   "id": "0fb209af-7bb8-4ca0-a2a8-cabb64de8163",
   "metadata": {},
   "outputs": [
    {
     "name": "stdout",
     "output_type": "stream",
     "text": [
      "[2, 4, 6, 8, 10]\n"
     ]
    }
   ],
   "source": [
    "# 짝수만 고르기\n",
    "even_list = []\n",
    "for number in numbers:\n",
    "    if number % 2 == 0:\n",
    "        even_list.append(number)\n",
    "\n",
    "print(even_list)"
   ]
  },
  {
   "cell_type": "code",
   "execution_count": 95,
   "id": "a5f8d743-ca9b-487d-98d9-1e8d506bde7c",
   "metadata": {},
   "outputs": [
    {
     "name": "stdout",
     "output_type": "stream",
     "text": [
      "[2, 4, 6, 8, 10]\n"
     ]
    }
   ],
   "source": [
    "# 짝수만 고르기 (list comprehension)\n",
    "even_list2 = [ number for number in numbers if number % 2 == 0 ]\n",
    "print(even_list2)"
   ]
  },
  {
   "cell_type": "code",
   "execution_count": 96,
   "id": "1f15f929-d418-4e94-8890-54939ac281c7",
   "metadata": {},
   "outputs": [],
   "source": [
    "words = 'my name is hong'\n",
    "vowels = 'aeiou'\n",
    "\n",
    "# -> my nm s hng"
   ]
  },
  {
   "cell_type": "code",
   "execution_count": 126,
   "id": "fb79c038-58a1-4049-9d1e-58887d600129",
   "metadata": {},
   "outputs": [],
   "source": [
    "# 1. for문"
   ]
  },
  {
   "cell_type": "code",
   "execution_count": 127,
   "id": "0862844d-1c75-46fd-b95f-55579d0114d7",
   "metadata": {},
   "outputs": [
    {
     "data": {
      "text/plain": [
       "'my name is hong'"
      ]
     },
     "execution_count": 127,
     "metadata": {},
     "output_type": "execute_result"
    }
   ],
   "source": [
    "words.strip(vowels) # strip은 중간에 있는 문자열을 제거할 순 없음"
   ]
  },
  {
   "cell_type": "code",
   "execution_count": 120,
   "id": "28e6c7ce-7ecf-4058-991f-44f1833f6080",
   "metadata": {},
   "outputs": [
    {
     "name": "stdout",
     "output_type": "stream",
     "text": [
      "['m', 'y', ' ', 'n', 'm', ' ', 's', ' ', 'h', 'n', 'g']\n",
      "my nm s hng\n"
     ]
    }
   ],
   "source": [
    "# 모범 답안\n",
    "result = []\n",
    "for char in words:\n",
    "    if char not in vowels:\n",
    "        result.append(char)\n",
    "\n",
    "print(result)\n",
    "print(''.join(result))"
   ]
  },
  {
   "cell_type": "code",
   "execution_count": 130,
   "id": "3377392d-1474-4bea-b7ee-ba4ef2e058e8",
   "metadata": {},
   "outputs": [
    {
     "name": "stdout",
     "output_type": "stream",
     "text": [
      "my nm s hng\n"
     ]
    }
   ],
   "source": [
    "# 제거하는 방식\n",
    "for vowel in vowels:\n",
    "    words = words.replace(vowel, '')\n",
    "\n",
    "print(words)\n",
    "\n",
    "# remove를 쓸 경우 list로 변환을 해줘야 하며,\n",
    "# 'u'가 words에 들어있지 않기 때문에 remove를 사용할 수 없음"
   ]
  },
  {
   "cell_type": "code",
   "execution_count": 121,
   "id": "2ed1feaa-163a-4ac3-b1e9-84e5e4d407c9",
   "metadata": {},
   "outputs": [],
   "source": [
    "# 2. list comprehension"
   ]
  },
  {
   "cell_type": "code",
   "execution_count": 124,
   "id": "ab7caaba-57ec-4654-b9e4-21ab853897f4",
   "metadata": {},
   "outputs": [
    {
     "name": "stdout",
     "output_type": "stream",
     "text": [
      "['m', 'y', ' ', 'n', 'm', ' ', 's', ' ', 'h', 'n', 'g']\n",
      "my nm s hng\n"
     ]
    }
   ],
   "source": [
    "result = [char for char in words if char not in vowels]\n",
    "print(result)\n",
    "print(''.join(result))"
   ]
  },
  {
   "cell_type": "markdown",
   "id": "954878da-95bc-4860-9b1b-8d7cd541b3fc",
   "metadata": {},
   "source": [
    "## 딕셔너리 메소드"
   ]
  },
  {
   "cell_type": "code",
   "execution_count": 140,
   "id": "0a06bca5-b9de-4f8c-b384-b3792eccf98f",
   "metadata": {},
   "outputs": [],
   "source": [
    "info = {\n",
    "    'name' : 'heeju',\n",
    "    'location' : 'busan',\n",
    "}"
   ]
  },
  {
   "cell_type": "code",
   "execution_count": 134,
   "id": "eca56e3c-c7f5-4547-be2c-b93473c71d4d",
   "metadata": {},
   "outputs": [
    {
     "name": "stdout",
     "output_type": "stream",
     "text": [
      "{'name': 'han', 'location': 'busan'}\n"
     ]
    }
   ],
   "source": [
    "info['name'] = 'han'\n",
    "print(info)"
   ]
  },
  {
   "cell_type": "markdown",
   "id": "46a1cadd-9ef8-4b8f-b9c0-d4274abacd13",
   "metadata": {},
   "source": [
    "#### .pop(key[, default])"
   ]
  },
  {
   "cell_type": "code",
   "execution_count": 141,
   "id": "ec1ab781-66f2-436d-9cc4-3f2d0bac507c",
   "metadata": {},
   "outputs": [
    {
     "name": "stdout",
     "output_type": "stream",
     "text": [
      "{'name': 'heeju', 'location': 'busan'}\n",
      "busan\n",
      "{'name': 'heeju'}\n",
      "key가 없습니다.\n"
     ]
    }
   ],
   "source": [
    "print(info)\n",
    "print(info.pop('location'))\n",
    "\n",
    "print(info)\n",
    "print(info.pop('location', 'key가 없습니다.')) #지워질 키워드가 없을 때 default값 출력"
   ]
  },
  {
   "cell_type": "markdown",
   "id": "2e3b2acc-36ef-4325-9079-f4ddecdcd7ea",
   "metadata": {},
   "source": [
    "#### .update(key=value)"
   ]
  },
  {
   "cell_type": "code",
   "execution_count": 143,
   "id": "1aa0729e-1e67-4486-b482-97cb177017f2",
   "metadata": {},
   "outputs": [
    {
     "name": "stdout",
     "output_type": "stream",
     "text": [
      "{'name': 'park'}\n"
     ]
    }
   ],
   "source": [
    "info.update(name='park')\n",
    "print(info)"
   ]
  },
  {
   "cell_type": "markdown",
   "id": "0f32b4eb-5b62-4826-b7bf-00589d784ef8",
   "metadata": {},
   "source": [
    "#### .get(key[, default])"
   ]
  },
  {
   "cell_type": "code",
   "execution_count": 145,
   "id": "0309b456-1518-4368-ad4a-6521ef95c829",
   "metadata": {},
   "outputs": [
    {
     "name": "stdout",
     "output_type": "stream",
     "text": [
      "park\n",
      "None\n",
      "해당 키가 없습니다.\n"
     ]
    }
   ],
   "source": [
    "print(info.get('name'))\n",
    "print(info.get('phone'))\n",
    "print(info.get('phone', '해당 키가 없습니다.'))"
   ]
  },
  {
   "cell_type": "markdown",
   "id": "ac611e96-d4bc-4fc2-994b-e82bbc70e290",
   "metadata": {},
   "source": [
    "### dict comprehension"
   ]
  },
  {
   "cell_type": "code",
   "execution_count": 146,
   "id": "29908d5b-6baa-4783-84df-7df6b2c9ba8a",
   "metadata": {},
   "outputs": [],
   "source": [
    "# for\n",
    "# {1: 1, 2: 8, 3: 9...}"
   ]
  },
  {
   "cell_type": "code",
   "execution_count": 148,
   "id": "38e1b717-0535-483e-9c6a-b9da2f646837",
   "metadata": {},
   "outputs": [
    {
     "name": "stdout",
     "output_type": "stream",
     "text": [
      "{1: 1, 2: 8, 3: 27, 4: 64, 5: 125, 6: 216, 7: 343, 8: 512, 9: 729, 10: 1000}\n"
     ]
    }
   ],
   "source": [
    "result = {}\n",
    "numbers = range(1, 11)\n",
    "for number in numbers:\n",
    "    result[number] = number ** 3\n",
    "\n",
    "print(result)"
   ]
  },
  {
   "cell_type": "code",
   "execution_count": 149,
   "id": "52ee9014-a56c-4f89-8538-46601fa50b10",
   "metadata": {},
   "outputs": [],
   "source": [
    "# comp"
   ]
  },
  {
   "cell_type": "code",
   "execution_count": 151,
   "id": "cdc9b402-2835-4a96-afb0-5b3ddae9e70f",
   "metadata": {},
   "outputs": [
    {
     "name": "stdout",
     "output_type": "stream",
     "text": [
      "{1: 1, 2: 8, 3: 27, 4: 64, 5: 125, 6: 216, 7: 343, 8: 512, 9: 729, 10: 1000}\n"
     ]
    }
   ],
   "source": [
    "result2 = { number: number ** 3 for number in range(1, 11) }\n",
    "print(result2)"
   ]
  },
  {
   "cell_type": "code",
   "execution_count": 152,
   "id": "0cb33f86-80d7-435e-9a3a-84217ea345d3",
   "metadata": {},
   "outputs": [],
   "source": [
    "#\n",
    "dust = {\n",
    "    '서울': 100,\n",
    "    '대구': 30,\n",
    "    '부산': 50,\n",
    "    '광주': 80,\n",
    "    '제주': 20,\n",
    "}\n",
    "\n",
    "# result = {\n",
    "#     '서울': 100,\n",
    "#     '부산': 50,\n",
    "#     '광주': 80,\n",
    "# }"
   ]
  },
  {
   "cell_type": "code",
   "execution_count": 166,
   "id": "46300d7b-692a-4419-bb13-cddd5bc4553e",
   "metadata": {},
   "outputs": [
    {
     "name": "stdout",
     "output_type": "stream",
     "text": [
      "{'서울': 100, '부산': 50, '광주': 80}\n"
     ]
    }
   ],
   "source": [
    "result = {}\n",
    "for k, v in dust.items():\n",
    "    if v >= 50:\n",
    "        result[k]= v\n",
    "print(result)"
   ]
  },
  {
   "cell_type": "code",
   "execution_count": 168,
   "id": "2a2b7282-3d25-48ff-afbe-60970ecea405",
   "metadata": {},
   "outputs": [
    {
     "name": "stdout",
     "output_type": "stream",
     "text": [
      "{'서울': 100, '부산': 50, '광주': 80}\n"
     ]
    }
   ],
   "source": [
    "result = {k: v for k, v in dust.items() if v >= 50}\n",
    "print(result)"
   ]
  },
  {
   "cell_type": "markdown",
   "id": "d52c9f28-b61c-4bb0-ba52-64020bc17106",
   "metadata": {},
   "source": [
    "## 세트 메소드"
   ]
  },
  {
   "cell_type": "code",
   "execution_count": 169,
   "id": "332ec46b-c59c-4061-a990-d45d975b2189",
   "metadata": {},
   "outputs": [],
   "source": [
    "fruits = {'apple', 'banana', 'melon'}"
   ]
  },
  {
   "cell_type": "markdown",
   "id": "39477c65-6019-49a5-94c0-b5308ae6c686",
   "metadata": {},
   "source": [
    "#### .add(x)"
   ]
  },
  {
   "cell_type": "code",
   "execution_count": 171,
   "id": "b650d5d8-8c85-4927-a7fd-4fa810a9f144",
   "metadata": {},
   "outputs": [
    {
     "name": "stdout",
     "output_type": "stream",
     "text": [
      "{'apple', 'banana', 'watermelon', 'melon'}\n",
      "{'apple', 'banana', 'watermelon', 'melon'}\n"
     ]
    }
   ],
   "source": [
    "fruits.add('watermelon')\n",
    "print(fruits)\n",
    "fruits.add('watermelon') # 중복된 값은 추가되지 않음\n",
    "print(fruits)"
   ]
  },
  {
   "cell_type": "markdown",
   "id": "295478dc-63a7-43bf-942e-9c3488714e6a",
   "metadata": {},
   "source": [
    "#### .update()"
   ]
  },
  {
   "cell_type": "code",
   "execution_count": 175,
   "id": "b63eb2a1-741f-49c3-80c2-26b2e16d01b1",
   "metadata": {},
   "outputs": [
    {
     "name": "stdout",
     "output_type": "stream",
     "text": [
      "{'apple', 'banana', 'e', 'a', 'r', 'watermelon', 'p', 'melon', 'g'}\n"
     ]
    }
   ],
   "source": [
    "fruits.update('grape') # 글자 하나하나가 들어감\n",
    "print(fruits)"
   ]
  },
  {
   "cell_type": "code",
   "execution_count": 178,
   "id": "1ba41341-5446-4ee5-917a-1cfffb9f1689",
   "metadata": {},
   "outputs": [
    {
     "name": "stdout",
     "output_type": "stream",
     "text": [
      "{'apple', 'melon', 'banana', 'grape', 'orange'}\n"
     ]
    }
   ],
   "source": [
    "fruits = {'apple', 'banana', 'melon'}\n",
    "fruits.update({'grape', 'orange'})\n",
    "print(fruits)\n",
    "# add는 하나의 정보, update는 여러 개의 정보를 추가할 때 사용"
   ]
  },
  {
   "cell_type": "markdown",
   "id": "d3a1ab63-4850-46d9-9c74-c22632e14ee3",
   "metadata": {},
   "source": [
    "#### .remove(x)"
   ]
  },
  {
   "cell_type": "code",
   "execution_count": 179,
   "id": "922fdc76-8ce2-4f0d-af79-893b4407e99e",
   "metadata": {},
   "outputs": [
    {
     "name": "stdout",
     "output_type": "stream",
     "text": [
      "{'apple', 'melon', 'banana', 'grape'}\n"
     ]
    }
   ],
   "source": [
    "fruits.remove('orange')\n",
    "print(fruits)"
   ]
  },
  {
   "cell_type": "markdown",
   "id": "af0f2e4e-9d0d-4b8a-a6c8-263fbf8e9d48",
   "metadata": {},
   "source": [
    "#### .pop()"
   ]
  },
  {
   "cell_type": "code",
   "execution_count": 180,
   "id": "21b8d909-b373-4f3e-8b53-936173a7b657",
   "metadata": {},
   "outputs": [
    {
     "name": "stdout",
     "output_type": "stream",
     "text": [
      "{'melon', 'banana', 'grape'}\n"
     ]
    }
   ],
   "source": [
    "fruits.pop()\n",
    "print(fruits) # 랜덤으로 하나 제거"
   ]
  },
  {
   "cell_type": "markdown",
   "id": "caa1b690-0b0c-4775-8085-9506feda4921",
   "metadata": {},
   "source": [
    "### map, filter, zip"
   ]
  },
  {
   "cell_type": "markdown",
   "id": "85f5caf7-e27b-46e7-9b02-444237b9eb6a",
   "metadata": {},
   "source": [
    "#### map(function, iterable)"
   ]
  },
  {
   "cell_type": "code",
   "execution_count": 182,
   "id": "4796f689-521e-456e-a284-46d987be75e0",
   "metadata": {},
   "outputs": [
    {
     "name": "stdout",
     "output_type": "stream",
     "text": [
      "<map object at 0x111f4e2c0>\n",
      "['1', '2', '3']\n"
     ]
    }
   ],
   "source": [
    "a = [1, 2, 3]\n",
    "number_str = map(str, a)\n",
    "print(number_str)\n",
    "print(list(number_str))"
   ]
  },
  {
   "cell_type": "code",
   "execution_count": 184,
   "id": "7a19daaa-a19a-403d-953b-000fdf397012",
   "metadata": {},
   "outputs": [
    {
     "name": "stdout",
     "output_type": "stream",
     "text": [
      "[1, 8, 27]\n"
     ]
    }
   ],
   "source": [
    "result = []\n",
    "for i in a:\n",
    "    result.append(i ** 3)\n",
    "\n",
    "print(result)"
   ]
  },
  {
   "cell_type": "code",
   "execution_count": 183,
   "id": "812b2220-fd6d-4cb2-9b5a-c905a7bf3cd7",
   "metadata": {},
   "outputs": [
    {
     "name": "stdout",
     "output_type": "stream",
     "text": [
      "125\n",
      "1000\n"
     ]
    }
   ],
   "source": [
    "def cube(x):\n",
    "    return x ** 3\n",
    "\n",
    "print(cube(5))\n",
    "print(cube(10))"
   ]
  },
  {
   "cell_type": "code",
   "execution_count": 185,
   "id": "d902415b-3582-40c1-893b-918be3b150c6",
   "metadata": {},
   "outputs": [
    {
     "name": "stdout",
     "output_type": "stream",
     "text": [
      "[1, 8, 27]\n"
     ]
    }
   ],
   "source": [
    "result2 = map(cube, a)\n",
    "print(list(result2))"
   ]
  },
  {
   "cell_type": "code",
   "execution_count": 189,
   "id": "66ec66a4-ec0b-485a-8d9e-91a9c232ebdb",
   "metadata": {},
   "outputs": [
    {
     "name": "stdout",
     "output_type": "stream",
     "text": [
      "[1, 3, 5, 7, 9]\n"
     ]
    }
   ],
   "source": [
    "a = '1 3 5 7 9'\n",
    "# numbers = [1, 3, 5, 7, 9]\n",
    "numbers = list(map(int, a.split()))\n",
    "print(numbers)"
   ]
  },
  {
   "cell_type": "markdown",
   "id": "544aeca4-551d-4fad-b8f5-b8f55e0d3501",
   "metadata": {},
   "source": [
    "#### filter(function, iterable)\n",
    "filter에 들어가는 function은 T/F를 반환해야 합니다."
   ]
  },
  {
   "cell_type": "code",
   "execution_count": 190,
   "id": "37c96add-2755-404b-adaa-78e810934abb",
   "metadata": {},
   "outputs": [
    {
     "name": "stdout",
     "output_type": "stream",
     "text": [
      "True\n",
      "False\n"
     ]
    }
   ],
   "source": [
    "def is_odd(x):\n",
    "    if x % 2 == 1:\n",
    "        return True\n",
    "    else:\n",
    "        return False\n",
    "\n",
    "print(is_odd(5))\n",
    "print(is_odd(10))"
   ]
  },
  {
   "cell_type": "code",
   "execution_count": 195,
   "id": "ace2c69a-fe36-4c00-8d27-cb82938f0c90",
   "metadata": {},
   "outputs": [
    {
     "name": "stdout",
     "output_type": "stream",
     "text": [
      "True\n"
     ]
    }
   ],
   "source": [
    "def is_odd2(x):\n",
    "    return bool(x % 2)\n",
    "\n",
    "print(is_odd2(5))"
   ]
  },
  {
   "cell_type": "code",
   "execution_count": 191,
   "id": "8675c247-24dc-46e0-8022-b3817c4dbcd4",
   "metadata": {},
   "outputs": [],
   "source": [
    "numbers = [1, 2, 3, 4, 5]"
   ]
  },
  {
   "cell_type": "code",
   "execution_count": 192,
   "id": "1b35930a-cd5a-47ad-a947-d87046cae063",
   "metadata": {},
   "outputs": [
    {
     "name": "stdout",
     "output_type": "stream",
     "text": [
      "[1, 3, 5]\n"
     ]
    }
   ],
   "source": [
    "# for\n",
    "result = []\n",
    "for number in numbers:\n",
    "    if is_odd(number):\n",
    "        result.append(number)\n",
    "\n",
    "print(result)"
   ]
  },
  {
   "cell_type": "code",
   "execution_count": 193,
   "id": "7f841824-2bd4-412c-a52f-375d57a9bb44",
   "metadata": {},
   "outputs": [
    {
     "name": "stdout",
     "output_type": "stream",
     "text": [
      "[1, 3, 5]\n"
     ]
    }
   ],
   "source": [
    "result2 = filter(is_odd, numbers)\n",
    "print(list(result2))"
   ]
  },
  {
   "cell_type": "markdown",
   "id": "ef3648ac-de8a-4f62-b14c-74beeb7d54e8",
   "metadata": {},
   "source": [
    "#### zip"
   ]
  },
  {
   "cell_type": "code",
   "execution_count": 203,
   "id": "3bfa6b2c-c681-4a38-9623-0fc28920ff71",
   "metadata": {},
   "outputs": [],
   "source": [
    "a = [1, 2, 3]\n",
    "b = [100, 200, 300, 400] # 두 list의 인수값이 다를 때 작은 list 기준으로 출력"
   ]
  },
  {
   "cell_type": "code",
   "execution_count": 201,
   "id": "93ca7a0d-717c-41e8-ad4b-9c5192e059b5",
   "metadata": {},
   "outputs": [
    {
     "name": "stdout",
     "output_type": "stream",
     "text": [
      "<zip object at 0x11248d600>\n",
      "[(1, 100), (2, 200), (3, 300)]\n"
     ]
    }
   ],
   "source": [
    "result = zip(a, b)\n",
    "print(result)\n",
    "print(list(result))"
   ]
  },
  {
   "cell_type": "code",
   "execution_count": null,
   "id": "07a17f31-648c-4759-9f44-bf5b713f2c6b",
   "metadata": {},
   "outputs": [],
   "source": []
  }
 ],
 "metadata": {
  "kernelspec": {
   "display_name": "Python 3 (ipykernel)",
   "language": "python",
   "name": "python3"
  },
  "language_info": {
   "codemirror_mode": {
    "name": "ipython",
    "version": 3
   },
   "file_extension": ".py",
   "mimetype": "text/x-python",
   "name": "python",
   "nbconvert_exporter": "python",
   "pygments_lexer": "ipython3",
   "version": "3.11.5"
  }
 },
 "nbformat": 4,
 "nbformat_minor": 5
}
