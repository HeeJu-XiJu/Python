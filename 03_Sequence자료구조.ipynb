{
 "cells": [
  {
   "cell_type": "markdown",
   "id": "db8a6995-792b-4df1-9a45-9bf0a16ef413",
   "metadata": {},
   "source": [
    "# 📍 Sequence 자료구조\n",
    ": 데이터가 나열된 자료구조"
   ]
  },
  {
   "cell_type": "markdown",
   "id": "51f44100-9426-48b6-96ba-7742525b9271",
   "metadata": {},
   "source": [
    "### ✅ List\n",
    "- 선언 : 변수이름 = [value1, value2, value3]\n",
    "- 접근 : 변수이름[index]"
   ]
  },
  {
   "cell_type": "code",
   "execution_count": 1,
   "id": "eda2cb5c-bc39-4487-85df-07fbbd297714",
   "metadata": {},
   "outputs": [
    {
     "name": "stdout",
     "output_type": "stream",
     "text": [
      "['서울', '대전', '부산']\n",
      "<class 'list'>\n"
     ]
    }
   ],
   "source": [
    "location = ['서울', '대전', '부산']\n",
    "print(location)\n",
    "print(type(location))"
   ]
  },
  {
   "cell_type": "code",
   "execution_count": 2,
   "id": "be527f64-8ad1-4b30-8562-c39a38dd114d",
   "metadata": {
    "tags": []
   },
   "outputs": [
    {
     "name": "stdout",
     "output_type": "stream",
     "text": [
      "대전\n",
      "부산\n"
     ]
    }
   ],
   "source": [
    "print(location[1])\n",
    "print(location[-1]) # 맨 오른쪽에서 1번째"
   ]
  },
  {
   "cell_type": "code",
   "execution_count": 3,
   "id": "133ecea6-c71a-4bbb-bd4e-f20c87d78007",
   "metadata": {},
   "outputs": [
    {
     "ename": "IndexError",
     "evalue": "list index out of range",
     "output_type": "error",
     "traceback": [
      "\u001b[0;31m---------------------------------------------------------------------------\u001b[0m",
      "\u001b[0;31mIndexError\u001b[0m                                Traceback (most recent call last)",
      "Cell \u001b[0;32mIn[3], line 1\u001b[0m\n\u001b[0;32m----> 1\u001b[0m \u001b[38;5;28mprint\u001b[39m(location[\u001b[38;5;241m3\u001b[39m]) \u001b[38;5;66;03m# 찾을 수 없는 정보\u001b[39;00m\n\u001b[1;32m      2\u001b[0m \u001b[38;5;28mprint\u001b[39m(location[\u001b[38;5;241m-\u001b[39m\u001b[38;5;241m4\u001b[39m])\n",
      "\u001b[0;31mIndexError\u001b[0m: list index out of range"
     ]
    }
   ],
   "source": [
    "print(location[3]) # 찾을 수 없는 정보\n",
    "print(location[-4])"
   ]
  },
  {
   "cell_type": "code",
   "execution_count": 4,
   "id": "efed1c27-6d5d-4f63-a37d-509e0df895ed",
   "metadata": {},
   "outputs": [
    {
     "name": "stdout",
     "output_type": "stream",
     "text": [
      "['서울', '대전', '제주']\n"
     ]
    }
   ],
   "source": [
    "# 수정 가능\n",
    "location[2] = '제주'\n",
    "print(location)"
   ]
  },
  {
   "cell_type": "markdown",
   "id": "cc118bd7-e6b1-42d5-bdf6-f13a24fbc886",
   "metadata": {},
   "source": [
    "### ✅ Tuple\n",
    "\n",
    "- 선언 : 변수이름 = (value1, value2, value3)\n",
    "- 접근 : 변수이름[index]\n",
    "- List와 유사하지만 수정불가능(immutable)"
   ]
  },
  {
   "cell_type": "code",
   "execution_count": 5,
   "id": "d57eec98-3297-40f8-95cd-a7195f942c93",
   "metadata": {},
   "outputs": [
    {
     "name": "stdout",
     "output_type": "stream",
     "text": [
      "(1, 2, 3)\n",
      "<class 'tuple'>\n"
     ]
    }
   ],
   "source": [
    "t = (1, 2, 3)\n",
    "print(t)\n",
    "print(type(t))"
   ]
  },
  {
   "cell_type": "code",
   "execution_count": 6,
   "id": "e985fe4d-d6e1-499b-8fb6-dc58de9264f6",
   "metadata": {},
   "outputs": [
    {
     "ename": "TypeError",
     "evalue": "'tuple' object does not support item assignment",
     "output_type": "error",
     "traceback": [
      "\u001b[0;31m---------------------------------------------------------------------------\u001b[0m",
      "\u001b[0;31mTypeError\u001b[0m                                 Traceback (most recent call last)",
      "Cell \u001b[0;32mIn[6], line 2\u001b[0m\n\u001b[1;32m      1\u001b[0m \u001b[38;5;66;03m# 수정 불가능\u001b[39;00m\n\u001b[0;32m----> 2\u001b[0m t[\u001b[38;5;241m2\u001b[39m] \u001b[38;5;241m=\u001b[39m \u001b[38;5;241m100\u001b[39m\n",
      "\u001b[0;31mTypeError\u001b[0m: 'tuple' object does not support item assignment"
     ]
    }
   ],
   "source": [
    "# 수정 불가능\n",
    "t[2] = 100"
   ]
  },
  {
   "cell_type": "code",
   "execution_count": 7,
   "id": "16c13faa-cc23-475d-9353-880e742d4d8c",
   "metadata": {},
   "outputs": [
    {
     "name": "stdout",
     "output_type": "stream",
     "text": [
      "<class 'tuple'>\n",
      "2\n",
      "1\n"
     ]
    }
   ],
   "source": [
    "result = divmod(9, 4)\n",
    "print(type(result))\n",
    "print(result[0])\n",
    "print(result[1])"
   ]
  },
  {
   "cell_type": "markdown",
   "id": "3ea007c2-8966-407e-a77f-d8b5164d1672",
   "metadata": {},
   "source": [
    "### ✅ Range\n",
    "- range(n) : 0부터 n-1까지 범위\n",
    "- range(n, m) : n부터 m-1까지 범위\n",
    "- range(n, m, s) : n부터 m-1까지 범위, +s만큼 증가하는 범위"
   ]
  },
  {
   "cell_type": "code",
   "execution_count": 8,
   "id": "6af9bdff-c1a8-44aa-8f6d-5179c58afd60",
   "metadata": {},
   "outputs": [
    {
     "name": "stdout",
     "output_type": "stream",
     "text": [
      "[0, 1, 2, 3, 4]\n",
      "<class 'range'>\n"
     ]
    }
   ],
   "source": [
    "# 0 이상 5 미만\n",
    "r = range(5)\n",
    "\n",
    "print(list(r))\n",
    "print(type(r))"
   ]
  },
  {
   "cell_type": "code",
   "execution_count": 9,
   "id": "d10e6d87-99ec-4822-9770-00d6202410bf",
   "metadata": {},
   "outputs": [
    {
     "name": "stdout",
     "output_type": "stream",
     "text": [
      "[5, 6, 7, 8, 9, 10, 11, 12, 13, 14]\n",
      "[5, 7, 9, 11, 13]\n"
     ]
    }
   ],
   "source": [
    "# 5이상 15미만\n",
    "r = range(5, 15)\n",
    "print(list(r))\n",
    "\n",
    "# 5이상 15미만 2씩 증가\n",
    "r = range(5, 15, 2)\n",
    "print(list(r))"
   ]
  },
  {
   "cell_type": "markdown",
   "id": "69ddf9a5-1c04-454c-b32b-9e5c0d2b9f05",
   "metadata": {},
   "source": [
    "### ✅ 시퀀스 연산 / 함수"
   ]
  },
  {
   "cell_type": "code",
   "execution_count": 10,
   "id": "4a0ccd7e-7b72-4e94-bda3-1d8d80e78f64",
   "metadata": {},
   "outputs": [],
   "source": [
    "my_list = [1, 2, 3, 4, 5]\n",
    "my_tuple = (11, 22, 33, 44, 55)\n",
    "my_range = range(1, 10, 2)\n",
    "my_string = '일이삼사오'"
   ]
  },
  {
   "cell_type": "markdown",
   "id": "d6e47fd6-90dd-439b-8a3a-50ac842cd074",
   "metadata": {},
   "source": [
    "#### ✔️ Indexing"
   ]
  },
  {
   "cell_type": "code",
   "execution_count": 11,
   "id": "6946a948-8898-44eb-aa53-06200f8064fb",
   "metadata": {},
   "outputs": [
    {
     "name": "stdout",
     "output_type": "stream",
     "text": [
      "2\n",
      "22\n",
      "3\n",
      "이\n"
     ]
    }
   ],
   "source": [
    "print(my_list[1])\n",
    "print(my_tuple[1])\n",
    "print(my_range[1])\n",
    "print(my_string[1])"
   ]
  },
  {
   "cell_type": "markdown",
   "id": "2f2e25e1-4e51-4434-af7d-71a45bd95ec2",
   "metadata": {},
   "source": [
    "#### ✔️ Slicing"
   ]
  },
  {
   "cell_type": "code",
   "execution_count": 12,
   "id": "0a615c2e-8ca8-4cac-abf3-f18f007d0e3e",
   "metadata": {},
   "outputs": [
    {
     "name": "stdout",
     "output_type": "stream",
     "text": [
      "[2, 3]\n",
      "(22, 33)\n",
      "range(3, 7, 2)\n",
      "이삼\n"
     ]
    }
   ],
   "source": [
    "# 1번째 이상 3번째 미만\n",
    "print(my_list[1:3])\n",
    "print(my_tuple[1:3])\n",
    "print(my_range[1:3])\n",
    "print(my_string[1:3])"
   ]
  },
  {
   "cell_type": "code",
   "execution_count": 13,
   "id": "52dcddc1-86c5-4967-8553-37b6906f3c46",
   "metadata": {},
   "outputs": [
    {
     "name": "stdout",
     "output_type": "stream",
     "text": [
      "[2, 4]\n",
      "range(3, 9, 4)\n"
     ]
    }
   ],
   "source": [
    "# 1번째 이상 4번째 미만 2칸씩\n",
    "print(my_list[1:4:2])\n",
    "print(my_range[1:4:2])"
   ]
  },
  {
   "cell_type": "code",
   "execution_count": 14,
   "id": "5bcd8e16-44f4-45ce-b336-6bacf1d8126b",
   "metadata": {},
   "outputs": [
    {
     "name": "stdout",
     "output_type": "stream",
     "text": [
      "[1, 2, 3]\n",
      "[4, 5]\n"
     ]
    }
   ],
   "source": [
    "# 처음부터 3번째 미만\n",
    "print(my_list[ :3])\n",
    "\n",
    "# 3번째 이상 끝까지\n",
    "print(my_list[3: ])"
   ]
  },
  {
   "cell_type": "markdown",
   "id": "6b78c632-ca60-42b8-8bb1-5ffbe6c4522d",
   "metadata": {},
   "source": [
    "#### ✔️ In"
   ]
  },
  {
   "cell_type": "code",
   "execution_count": 15,
   "id": "1660c632-27a9-4a02-b7cd-f23d6a340a03",
   "metadata": {},
   "outputs": [
    {
     "name": "stdout",
     "output_type": "stream",
     "text": [
      "True\n",
      "True\n",
      "False\n",
      "True\n"
     ]
    }
   ],
   "source": [
    "print(1 in my_list)\n",
    "print(11 in my_tuple)\n",
    "print(2 in my_range)\n",
    "print('일' in my_string)"
   ]
  },
  {
   "cell_type": "markdown",
   "id": "6e8b5ccb-eabb-4719-83ab-8133781d24d5",
   "metadata": {},
   "source": [
    "#### ✔️ Not In"
   ]
  },
  {
   "cell_type": "code",
   "execution_count": 16,
   "id": "1149d49b-158a-4e92-8576-fd084c1bb9be",
   "metadata": {},
   "outputs": [
    {
     "name": "stdout",
     "output_type": "stream",
     "text": [
      "True\n",
      "True\n",
      "False\n",
      "True\n"
     ]
    }
   ],
   "source": [
    "print(11 not in my_list)\n",
    "print(100 not in my_tuple)\n",
    "print(1 not in my_range)\n",
    "print('구' not in my_string)"
   ]
  },
  {
   "cell_type": "markdown",
   "id": "dc16f71d-abf6-4af0-a726-b0961e1e5a4d",
   "metadata": {},
   "source": [
    "#### ✔️ Concatenation"
   ]
  },
  {
   "cell_type": "code",
   "execution_count": 17,
   "id": "af409be3-fb75-497d-9b86-fd362afafde6",
   "metadata": {},
   "outputs": [
    {
     "name": "stdout",
     "output_type": "stream",
     "text": [
      "[1, 2, 3, 4, 5, 1, 2, 3, 4, 5]\n",
      "(11, 22, 33, 44, 55, 1, 2, 3)\n"
     ]
    }
   ],
   "source": [
    "print(my_list + [1, 2, 3, 4, 5])\n",
    "print(my_tuple + (1, 2, 3))"
   ]
  },
  {
   "cell_type": "markdown",
   "id": "97550c23-446d-478a-8d15-25c9cbe9acba",
   "metadata": {},
   "source": [
    "#### ✔️ *"
   ]
  },
  {
   "cell_type": "code",
   "execution_count": 18,
   "id": "d7af2f4c-d02b-4c59-be44-d5d6e5922831",
   "metadata": {},
   "outputs": [
    {
     "name": "stdout",
     "output_type": "stream",
     "text": [
      "일이삼사오일이삼사오일이삼사오\n",
      "[1, 2, 3, 4, 5, 1, 2, 3, 4, 5, 1, 2, 3, 4, 5]\n",
      "[0, 0, 0, 0, 0, 0, 0, 0, 0, 0]\n",
      "[[0, 0, 0, 0, 0, 0, 0, 0, 0, 0], [0, 0, 0, 0, 0, 0, 0, 0, 0, 0], [0, 0, 0, 0, 0, 0, 0, 0, 0, 0], [0, 0, 0, 0, 0, 0, 0, 0, 0, 0], [0, 0, 0, 0, 0, 0, 0, 0, 0, 0], [0, 0, 0, 0, 0, 0, 0, 0, 0, 0], [0, 0, 0, 0, 0, 0, 0, 0, 0, 0], [0, 0, 0, 0, 0, 0, 0, 0, 0, 0], [0, 0, 0, 0, 0, 0, 0, 0, 0, 0], [0, 0, 0, 0, 0, 0, 0, 0, 0, 0]]\n"
     ]
    }
   ],
   "source": [
    "print(my_string * 3)\n",
    "print(my_list * 3)\n",
    "\n",
    "print([0] * 10)\n",
    "print([[0] * 10] * 10)"
   ]
  },
  {
   "cell_type": "markdown",
   "id": "ab4a0426-994f-444e-8546-3e6cbd5dbc69",
   "metadata": {},
   "source": [
    "#### ✔️ 기타"
   ]
  },
  {
   "cell_type": "code",
   "execution_count": 19,
   "id": "27d63d81-ff17-41f9-8a2b-35cf428054e9",
   "metadata": {},
   "outputs": [
    {
     "name": "stdout",
     "output_type": "stream",
     "text": [
      "5\n",
      "11\n",
      "9\n",
      "일\n",
      "1\n"
     ]
    }
   ],
   "source": [
    "print(len(my_list))\n",
    "print(min(my_tuple))\n",
    "print(max(my_range))\n",
    "print(max(my_string)) # string은 불가\n",
    "print(my_list.count(1)) # 1이 몇 개인지 출력"
   ]
  },
  {
   "cell_type": "markdown",
   "id": "f0596a28-2778-4f7f-8056-e6150864aca4",
   "metadata": {},
   "source": [
    "# 📍 Sequence 가 아닌 자료구조"
   ]
  },
  {
   "cell_type": "markdown",
   "id": "8b27099a-2575-4a4d-9df1-2c7cd15b68fd",
   "metadata": {},
   "source": [
    "### ✅ Set\n",
    ": 중복된 값이 없음\n",
    "- 선언 : 변수이름 = {value1, value2, value3}"
   ]
  },
  {
   "cell_type": "code",
   "execution_count": 20,
   "id": "a6aab2ec-0dca-4237-ab7b-40fe320fae48",
   "metadata": {},
   "outputs": [],
   "source": [
    "my_set_a = {1, 2, 3, 4, 5}\n",
    "my_set_b = {1, 3, 5, 7, 9}"
   ]
  },
  {
   "cell_type": "code",
   "execution_count": 21,
   "id": "fd80d878-0086-4d91-9ebb-d6563736d384",
   "metadata": {},
   "outputs": [
    {
     "name": "stdout",
     "output_type": "stream",
     "text": [
      "{2, 4}\n",
      "{1, 2, 3, 4, 5, 7, 9}\n",
      "{1, 3, 5}\n"
     ]
    }
   ],
   "source": [
    "print(my_set_a - my_set_b) # 차집합\n",
    "print(my_set_a | my_set_b) # 합집합 (or)\n",
    "print(my_set_a & my_set_b) # 교집합 (and)"
   ]
  },
  {
   "cell_type": "code",
   "execution_count": 22,
   "id": "f08d501c-a570-463a-aced-49c0969cf0b5",
   "metadata": {},
   "outputs": [
    {
     "name": "stdout",
     "output_type": "stream",
     "text": [
      "{1, 2, 3, 4, 5, 6, 7, 8, 9}\n"
     ]
    }
   ],
   "source": [
    "my_list = [1, 2, 3, 1, 4, 1, 2, 3, 5, 6, 7, 8, 9, 2, 2]\n",
    "print(set(my_list)) # 중복값 제거"
   ]
  },
  {
   "cell_type": "markdown",
   "id": "8acb2fcf-bed0-480c-a9bb-cbbb05b60b6a",
   "metadata": {},
   "source": [
    "### ✅ Dictionary\n",
    "- 선언 : 변수이름 = {key1: value1, key2: value2, key3: value3}\n",
    "- 접근 : 변수이름[key]\n",
    "- dictionary는 key와 value가 쌍으로 이루어져있다.\n",
    "- key에는 immutable한 모든 값 사용가능 (불변값 : string, integer...)\n",
    "- value에는 모든 데이터 가능 (list, dict도 가능)"
   ]
  },
  {
   "cell_type": "code",
   "execution_count": 23,
   "id": "bc08da92-ec2f-49c1-a44c-d61f18e66017",
   "metadata": {},
   "outputs": [
    {
     "data": {
      "text/plain": [
       "'02'"
      ]
     },
     "execution_count": 23,
     "metadata": {},
     "output_type": "execute_result"
    }
   ],
   "source": [
    "my_dict = {'서울': '02', '경기': '031'}\n",
    "my_dict['서울']"
   ]
  },
  {
   "cell_type": "code",
   "execution_count": 24,
   "id": "1aa02f2b-5f21-4063-9f3d-a71832d0d46a",
   "metadata": {},
   "outputs": [
    {
     "name": "stdout",
     "output_type": "stream",
     "text": [
      "10\n",
      "[1, 2, 3, 4, 5]\n",
      "4\n",
      "11\n"
     ]
    }
   ],
   "source": [
    "dict_a = {\n",
    "        'name': 'heeju',\n",
    "        'age': 10,\n",
    "        'location': 'busan',\n",
    "        'numbers': [1, 2, 3, 4, 5],\n",
    "        'freinds': {\n",
    "            'a': 10,\n",
    "            'b': 11,\n",
    "            },\n",
    "        }\n",
    "\n",
    "print(dict_a['age'])\n",
    "print(dict_a['numbers'])\n",
    "print(dict_a['numbers'][3])\n",
    "print(dict_a['freinds']['b'])"
   ]
  },
  {
   "cell_type": "code",
   "execution_count": 25,
   "id": "7cbfdf0b-6149-41b3-8852-c2bafe1ae247",
   "metadata": {},
   "outputs": [
    {
     "data": {
      "text/plain": [
       "dict_keys(['name', 'age', 'location', 'numbers', 'freinds'])"
      ]
     },
     "execution_count": 25,
     "metadata": {},
     "output_type": "execute_result"
    }
   ],
   "source": [
    "dict_a.keys()"
   ]
  },
  {
   "cell_type": "code",
   "execution_count": 26,
   "id": "cbd2ef7e-bb07-49a6-bfc4-b215cf38705d",
   "metadata": {},
   "outputs": [
    {
     "data": {
      "text/plain": [
       "dict_values(['heeju', 10, 'busan', [1, 2, 3, 4, 5], {'a': 10, 'b': 11}])"
      ]
     },
     "execution_count": 26,
     "metadata": {},
     "output_type": "execute_result"
    }
   ],
   "source": [
    "dict_a.values()"
   ]
  }
 ],
 "metadata": {
  "kernelspec": {
   "display_name": "Python 3 (ipykernel)",
   "language": "python",
   "name": "python3"
  },
  "language_info": {
   "codemirror_mode": {
    "name": "ipython",
    "version": 3
   },
   "file_extension": ".py",
   "mimetype": "text/x-python",
   "name": "python",
   "nbconvert_exporter": "python",
   "pygments_lexer": "ipython3",
   "version": "3.11.5"
  }
 },
 "nbformat": 4,
 "nbformat_minor": 5
}
