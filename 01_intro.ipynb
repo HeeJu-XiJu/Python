{
 "cells": [
  {
   "cell_type": "markdown",
   "id": "6eff6583-39d8-4551-a733-b7d9c61c902f",
   "metadata": {},
   "source": [
    "# 01_intro"
   ]
  },
  {
   "cell_type": "markdown",
   "id": "accfe0a9-9197-43f7-b873-644c38ab5c52",
   "metadata": {},
   "source": [
    "### 단축키\n",
    "\n",
    "- ctrl + enter : 현재 셀 실행\n",
    "- shift + enter : 현재 셀 실행 + 아래로 이동\n",
    "- alt + enter : 현재 셀 실행 + 아래 새로운 셀 추가\n",
    "- 방향키 : 셀 이동\n",
    "- esc : 현재 셀 비활성화\n",
    "- enter : 현재 셀 활성화\n",
    "\n",
    "- Kernel + Restart Kernal and Clear Outputs of All Sells : 코드 실행 순서 초기화"
   ]
  },
  {
   "cell_type": "markdown",
   "id": "884f378a-b3e3-4a24-bda6-3ed5e278b8df",
   "metadata": {},
   "source": [
    "### 참고문건 \n",
    "https://docs.python.org/ko/3/tutorial/index.html"
   ]
  },
  {
   "cell_type": "markdown",
   "id": "ad3dfacf-8555-4eb5-b9bf-35d41471d8b9",
   "metadata": {},
   "source": [
    "## 1. 변수\n",
    "\n",
    "변수이름 `=` 값\n",
    "- 변수이름은 어떤 이름이든 상관없으나\n",
    "- 영어, 숫자, '_' 를 이용하여 선언\n",
    "- 키워드는 사용불가"
   ]
  },
  {
   "cell_type": "code",
   "execution_count": 1,
   "id": "5b9ce341-782d-4ba3-81a3-259927084649",
   "metadata": {},
   "outputs": [],
   "source": [
    "a = 10"
   ]
  },
  {
   "cell_type": "code",
   "execution_count": 2,
   "id": "ab5379bf-e1fb-4a2c-8064-83469078bc65",
   "metadata": {},
   "outputs": [
    {
     "data": {
      "text/plain": [
       "10"
      ]
     },
     "execution_count": 2,
     "metadata": {},
     "output_type": "execute_result"
    }
   ],
   "source": [
    "a"
   ]
  },
  {
   "cell_type": "code",
   "execution_count": 3,
   "id": "eb460471-8dd3-4936-a736-6c7c50d1ca52",
   "metadata": {},
   "outputs": [
    {
     "data": {
      "text/plain": [
       "['False',\n",
       " 'None',\n",
       " 'True',\n",
       " 'and',\n",
       " 'as',\n",
       " 'assert',\n",
       " 'async',\n",
       " 'await',\n",
       " 'break',\n",
       " 'class',\n",
       " 'continue',\n",
       " 'def',\n",
       " 'del',\n",
       " 'elif',\n",
       " 'else',\n",
       " 'except',\n",
       " 'finally',\n",
       " 'for',\n",
       " 'from',\n",
       " 'global',\n",
       " 'if',\n",
       " 'import',\n",
       " 'in',\n",
       " 'is',\n",
       " 'lambda',\n",
       " 'nonlocal',\n",
       " 'not',\n",
       " 'or',\n",
       " 'pass',\n",
       " 'raise',\n",
       " 'return',\n",
       " 'try',\n",
       " 'while',\n",
       " 'with',\n",
       " 'yield']"
      ]
     },
     "execution_count": 3,
     "metadata": {},
     "output_type": "execute_result"
    }
   ],
   "source": [
    "import keyword\n",
    "keyword.kwlist"
   ]
  },
  {
   "cell_type": "markdown",
   "id": "5a46ce1a-90bc-4551-bde8-5020a181f9af",
   "metadata": {},
   "source": [
    "### 1.1 number\n",
    "- int : 정수\n",
    "- float : 소수\n",
    "- complex : 허수\n",
    "    - 변수.imag : 허수부분\n",
    "    - 변수.real : 실수부분"
   ]
  },
  {
   "cell_type": "code",
   "execution_count": 5,
   "id": "0a31ce7b-5279-487c-9a5e-20df4097f6b3",
   "metadata": {},
   "outputs": [],
   "source": [
    "a = 1000"
   ]
  },
  {
   "cell_type": "code",
   "execution_count": 6,
   "id": "0ea6e07d-f6f0-44d5-86ca-0eac3735d7b2",
   "metadata": {},
   "outputs": [
    {
     "data": {
      "text/plain": [
       "1000"
      ]
     },
     "execution_count": 6,
     "metadata": {},
     "output_type": "execute_result"
    }
   ],
   "source": [
    "a"
   ]
  },
  {
   "cell_type": "code",
   "execution_count": 8,
   "id": "7268fd47-5ffe-43ca-bf8a-842063210a47",
   "metadata": {},
   "outputs": [
    {
     "data": {
      "text/plain": [
       "int"
      ]
     },
     "execution_count": 8,
     "metadata": {},
     "output_type": "execute_result"
    }
   ],
   "source": [
    "type(a) # type() : 변수타입을 출력"
   ]
  },
  {
   "cell_type": "code",
   "execution_count": 9,
   "id": "fd2ac622-b677-4958-944f-a0c82bb6c672",
   "metadata": {},
   "outputs": [],
   "source": [
    "b = 1.1"
   ]
  },
  {
   "cell_type": "code",
   "execution_count": 10,
   "id": "794a90b3-6ac4-43da-8152-54754c11b0c8",
   "metadata": {},
   "outputs": [
    {
     "data": {
      "text/plain": [
       "1.1"
      ]
     },
     "execution_count": 10,
     "metadata": {},
     "output_type": "execute_result"
    }
   ],
   "source": [
    "b"
   ]
  },
  {
   "cell_type": "code",
   "execution_count": 11,
   "id": "42b34cc9-9303-45a9-9451-6cfc0f420bc5",
   "metadata": {},
   "outputs": [
    {
     "data": {
      "text/plain": [
       "float"
      ]
     },
     "execution_count": 11,
     "metadata": {},
     "output_type": "execute_result"
    }
   ],
   "source": [
    "type (b)"
   ]
  },
  {
   "cell_type": "code",
   "execution_count": 12,
   "id": "00fc476d-47b4-43cd-a17f-56fb9783edab",
   "metadata": {},
   "outputs": [],
   "source": [
    "c = 1 - 4j"
   ]
  },
  {
   "cell_type": "code",
   "execution_count": 13,
   "id": "64d9b621-b37d-4347-bfab-fbb855cc816c",
   "metadata": {},
   "outputs": [
    {
     "data": {
      "text/plain": [
       "(1-4j)"
      ]
     },
     "execution_count": 13,
     "metadata": {},
     "output_type": "execute_result"
    }
   ],
   "source": [
    "c"
   ]
  },
  {
   "cell_type": "code",
   "execution_count": 14,
   "id": "693ba195-6f7a-4abe-b330-9ace9a37279c",
   "metadata": {},
   "outputs": [
    {
     "data": {
      "text/plain": [
       "complex"
      ]
     },
     "execution_count": 14,
     "metadata": {},
     "output_type": "execute_result"
    }
   ],
   "source": [
    "type (c)"
   ]
  },
  {
   "cell_type": "code",
   "execution_count": 17,
   "id": "a7f00dd0-a9ba-4ca6-884e-2ae1aeb77cbf",
   "metadata": {},
   "outputs": [
    {
     "data": {
      "text/plain": [
       "-4.0"
      ]
     },
     "execution_count": 17,
     "metadata": {},
     "output_type": "execute_result"
    }
   ],
   "source": [
    "c.imag"
   ]
  },
  {
   "cell_type": "code",
   "execution_count": 18,
   "id": "ac94435e-4eb6-48e6-bf69-32cc3321cf04",
   "metadata": {},
   "outputs": [
    {
     "data": {
      "text/plain": [
       "1.0"
      ]
     },
     "execution_count": 18,
     "metadata": {},
     "output_type": "execute_result"
    }
   ],
   "source": [
    "c.real"
   ]
  },
  {
   "cell_type": "markdown",
   "id": "0b585d6f-4992-4800-abaa-c4ab62a23527",
   "metadata": {},
   "source": [
    "### 1.2 Boolean\n",
    "\n",
    "`True(1)`, `False(0)`로 이루어진 타입"
   ]
  },
  {
   "cell_type": "code",
   "execution_count": 121,
   "id": "d6f10ca2-3f60-4ead-a9b8-3d8b8ea1b71d",
   "metadata": {},
   "outputs": [
    {
     "data": {
      "text/plain": [
       "bool"
      ]
     },
     "execution_count": 121,
     "metadata": {},
     "output_type": "execute_result"
    }
   ],
   "source": [
    "a = True\n",
    "type(a)"
   ]
  },
  {
   "cell_type": "markdown",
   "id": "23c2eccb-6183-4720-be4f-41b90b1cd94f",
   "metadata": {},
   "source": [
    "### 1.3 None\n",
    "데이터가 없음을 의미"
   ]
  },
  {
   "cell_type": "code",
   "execution_count": 122,
   "id": "a89e9073-1880-461d-8cc4-348664644ff8",
   "metadata": {},
   "outputs": [
    {
     "data": {
      "text/plain": [
       "NoneType"
      ]
     },
     "execution_count": 122,
     "metadata": {},
     "output_type": "execute_result"
    }
   ],
   "source": [
    "a = None\n",
    "type(a)"
   ]
  },
  {
   "cell_type": "markdown",
   "id": "08f12a3c-0621-457a-abcf-e60b3338aa43",
   "metadata": {},
   "source": [
    "### 1.4 String\n",
    "- 문자열은 `'`, `\"`를 이용하여 표현"
   ]
  },
  {
   "cell_type": "code",
   "execution_count": 123,
   "id": "8f2493ef-cb87-4b81-8163-13cb21fb2a5f",
   "metadata": {},
   "outputs": [
    {
     "data": {
      "text/plain": [
       "str"
      ]
     },
     "execution_count": 123,
     "metadata": {},
     "output_type": "execute_result"
    }
   ],
   "source": [
    "a = 'hello'\n",
    "type(a)"
   ]
  },
  {
   "cell_type": "code",
   "execution_count": 124,
   "id": "692456bf-aef5-4db5-b479-6cf5de6757f2",
   "metadata": {},
   "outputs": [
    {
     "data": {
      "text/plain": [
       "str"
      ]
     },
     "execution_count": 124,
     "metadata": {},
     "output_type": "execute_result"
    }
   ],
   "source": [
    "b = \"hello\"\n",
    "type(b)"
   ]
  },
  {
   "cell_type": "code",
   "execution_count": 27,
   "id": "a658b237-98b5-4c98-82c9-079adad03a82",
   "metadata": {},
   "outputs": [
    {
     "name": "stdin",
     "output_type": "stream",
     "text": [
      " 11\n"
     ]
    }
   ],
   "source": [
    "age = input()"
   ]
  },
  {
   "cell_type": "code",
   "execution_count": 28,
   "id": "f1b10c58-e966-43f7-b364-5c143213aa1b",
   "metadata": {},
   "outputs": [
    {
     "data": {
      "text/plain": [
       "'11'"
      ]
     },
     "execution_count": 28,
     "metadata": {},
     "output_type": "execute_result"
    }
   ],
   "source": [
    "age"
   ]
  },
  {
   "cell_type": "code",
   "execution_count": 29,
   "id": "b3745074-6d69-4e1e-83dd-dd32152b5aa8",
   "metadata": {},
   "outputs": [
    {
     "data": {
      "text/plain": [
       "str"
      ]
     },
     "execution_count": 29,
     "metadata": {},
     "output_type": "execute_result"
    }
   ],
   "source": [
    "type(age)"
   ]
  },
  {
   "cell_type": "code",
   "execution_count": 31,
   "id": "70aa3e1e-6cc4-480b-89d2-867e6fe9c4c0",
   "metadata": {},
   "outputs": [
    {
     "name": "stdout",
     "output_type": "stream",
     "text": [
      "안녕하세요? 한희주입니다.\n"
     ]
    }
   ],
   "source": [
    "print('안녕하세요? 한희주입니다.')"
   ]
  },
  {
   "cell_type": "code",
   "execution_count": 38,
   "id": "4b02a8a4-527f-4dd7-90f3-fa0c8f2f3e53",
   "metadata": {},
   "outputs": [
    {
     "name": "stdout",
     "output_type": "stream",
     "text": [
      "안녕하세요? '한희주'입니다.\n"
     ]
    }
   ],
   "source": [
    "print(\"안녕하세요? '한희주'입니다.\") # `\"`사용할 때는 `'`사용"
   ]
  },
  {
   "cell_type": "code",
   "execution_count": 39,
   "id": "412c1d26-5f4f-4e2a-a86d-528c766ff725",
   "metadata": {},
   "outputs": [
    {
     "name": "stdout",
     "output_type": "stream",
     "text": [
      "안녕하세요? '한희주'입니다.\n"
     ]
    }
   ],
   "source": [
    "print('안녕하세요? \\'한희주\\'입니다.') # `'`사용할 때는 `\\'`사용"
   ]
  },
  {
   "cell_type": "code",
   "execution_count": 47,
   "id": "8fad9e34-7ef3-4867-a44a-c13291a80258",
   "metadata": {},
   "outputs": [],
   "source": [
    "a = '''\n",
    "여기는 \\n문자열입니다.\n",
    "여러\\t줄을 작성할 수 있습니다.\n",
    "'''\n",
    "# \\n : enter\n",
    "# \\t : tab"
   ]
  },
  {
   "cell_type": "code",
   "execution_count": 48,
   "id": "d8f60d73-a914-4f83-b964-2e0c8fdcb1b4",
   "metadata": {},
   "outputs": [
    {
     "data": {
      "text/plain": [
       "'\\n여기는 \\n문자열입니다.\\n여러\\t줄을 작성할 수 있습니다.\\n'"
      ]
     },
     "execution_count": 48,
     "metadata": {},
     "output_type": "execute_result"
    }
   ],
   "source": [
    "a #코드 자체를 보여줌"
   ]
  },
  {
   "cell_type": "code",
   "execution_count": 49,
   "id": "78a7b3df-17bb-40e3-bfe5-cd3e529d6aa9",
   "metadata": {},
   "outputs": [
    {
     "name": "stdout",
     "output_type": "stream",
     "text": [
      "\n",
      "여기는 \n",
      "문자열입니다.\n",
      "여러\t줄을 작성할 수 있습니다.\n",
      "\n"
     ]
    }
   ],
   "source": [
    "print(a)"
   ]
  },
  {
   "cell_type": "code",
   "execution_count": 50,
   "id": "40582f3a-382d-4cc8-b1cc-aa4acd087b84",
   "metadata": {},
   "outputs": [
    {
     "name": "stdout",
     "output_type": "stream",
     "text": [
      "하나 둘 셋\n"
     ]
    }
   ],
   "source": [
    "print('하나','둘','셋')"
   ]
  },
  {
   "cell_type": "markdown",
   "id": "3d07cc7f-7864-4ba2-ac8c-695c028d8980",
   "metadata": {},
   "source": [
    "#### string interpolation\n",
    "\n",
    "1. %-fomatting\n",
    "2. str.format()\n",
    "3. f-string"
   ]
  },
  {
   "cell_type": "code",
   "execution_count": 51,
   "id": "c643cf62-3b2b-48c3-a4a4-cef99318ec78",
   "metadata": {},
   "outputs": [],
   "source": [
    "age = 10"
   ]
  },
  {
   "cell_type": "code",
   "execution_count": 53,
   "id": "a8dc92ae-a692-4721-901b-e494f84b9746",
   "metadata": {},
   "outputs": [
    {
     "name": "stdout",
     "output_type": "stream",
     "text": [
      "홍길동은 10살입니다.\n"
     ]
    }
   ],
   "source": [
    "print('홍길동은 %s살입니다.'% age)"
   ]
  },
  {
   "cell_type": "code",
   "execution_count": 54,
   "id": "584a430c-89d8-4fd8-a73d-3712e80c39ce",
   "metadata": {},
   "outputs": [
    {
     "name": "stdout",
     "output_type": "stream",
     "text": [
      "홍길동은 10살입니다.\n"
     ]
    }
   ],
   "source": [
    "print('홍길동은 {}살입니다.' .format(age))"
   ]
  },
  {
   "cell_type": "code",
   "execution_count": 55,
   "id": "589cd7d5-c681-435f-bfe8-ab3e32e4b176",
   "metadata": {},
   "outputs": [
    {
     "name": "stdout",
     "output_type": "stream",
     "text": [
      "홍길동은 10살입니다.\n"
     ]
    }
   ],
   "source": [
    "print(f'홍길동은 {age}살입니다.')"
   ]
  },
  {
   "cell_type": "markdown",
   "id": "9830a5f4-35ed-4c4d-926f-4a87af058d6d",
   "metadata": {},
   "source": [
    "## 2. 연산자"
   ]
  },
  {
   "cell_type": "markdown",
   "id": "a77e737a-fc2e-4693-8618-479e8d58e892",
   "metadata": {},
   "source": [
    "### 2.1 산술연산자"
   ]
  },
  {
   "cell_type": "code",
   "execution_count": 56,
   "id": "30380973-4259-44f0-96d7-5da555248112",
   "metadata": {},
   "outputs": [],
   "source": [
    "a = 2\n",
    "b = 3"
   ]
  },
  {
   "cell_type": "code",
   "execution_count": 61,
   "id": "b8c44b87-698c-415d-ada7-8b39fad67a37",
   "metadata": {},
   "outputs": [
    {
     "name": "stdout",
     "output_type": "stream",
     "text": [
      "5\n",
      "-1\n",
      "6\n",
      "0.6666666666666666\n"
     ]
    }
   ],
   "source": [
    "print(a + b)\n",
    "print(a - b)\n",
    "print(a * b)\n",
    "print(a / b)\n",
    "# 모든값 출력, 결과값 print"
   ]
  },
  {
   "cell_type": "code",
   "execution_count": 59,
   "id": "a69a1afc-29df-4c33-aced-05078af984df",
   "metadata": {},
   "outputs": [
    {
     "data": {
      "text/plain": [
       "-1"
      ]
     },
     "execution_count": 59,
     "metadata": {},
     "output_type": "execute_result"
    }
   ],
   "source": [
    "a + b\n",
    "a - b\n",
    "# 마지막만 출력, 결과값 output"
   ]
  },
  {
   "cell_type": "code",
   "execution_count": 62,
   "id": "58da01ac-8d3a-4347-962f-de17b7cb45fa",
   "metadata": {},
   "outputs": [
    {
     "name": "stdout",
     "output_type": "stream",
     "text": [
      "8\n"
     ]
    }
   ],
   "source": [
    "print(a ** b) # 제곱"
   ]
  },
  {
   "cell_type": "code",
   "execution_count": 73,
   "id": "0bd9afff-9442-40db-8e02-8dbe9316ad18",
   "metadata": {},
   "outputs": [
    {
     "name": "stdout",
     "output_type": "stream",
     "text": [
      "0\n",
      "5\n",
      "(0, 5)\n"
     ]
    }
   ],
   "source": [
    "print(a // b) # 나눈 몫\n",
    "print(a % b) # 나눈 나머지\n",
    "\n",
    "# mod\n",
    "print(divmod(a, b)) # (나눈 몫, 나눈 나머지)"
   ]
  },
  {
   "cell_type": "markdown",
   "id": "4d5ddb04-fc83-4320-9a5f-fde9fc88f81b",
   "metadata": {},
   "source": [
    "### 2.2 비교연산자"
   ]
  },
  {
   "cell_type": "code",
   "execution_count": 66,
   "id": "eda956a4-d9f5-42fc-ad27-f892d8755dd4",
   "metadata": {},
   "outputs": [],
   "source": [
    "a = 5\n",
    "b = 10"
   ]
  },
  {
   "cell_type": "code",
   "execution_count": 69,
   "id": "d0611de8-e8c9-42d9-b2cd-50e857658672",
   "metadata": {},
   "outputs": [
    {
     "name": "stdout",
     "output_type": "stream",
     "text": [
      "False\n",
      "True\n",
      "False\n",
      "True\n"
     ]
    }
   ],
   "source": [
    "print(a > b)\n",
    "print(a < b)\n",
    "print(a >= b)\n",
    "print(a <= b)"
   ]
  },
  {
   "cell_type": "code",
   "execution_count": 74,
   "id": "a749de31-0191-4e38-bc14-f7d84907b7e9",
   "metadata": {},
   "outputs": [
    {
     "name": "stdout",
     "output_type": "stream",
     "text": [
      "False\n",
      "True\n"
     ]
    }
   ],
   "source": [
    "print(a == b)\n",
    "print(a != b)"
   ]
  },
  {
   "cell_type": "code",
   "execution_count": 72,
   "id": "2aa463d4-a5ea-49e1-868a-aa6bcfb88bf9",
   "metadata": {},
   "outputs": [
    {
     "name": "stdout",
     "output_type": "stream",
     "text": [
      "True\n",
      "False\n"
     ]
    }
   ],
   "source": [
    "print('hi' == 'hi')\n",
    "print('Hi' == 'hi')"
   ]
  },
  {
   "cell_type": "markdown",
   "id": "46e9a8ec-b7a9-4717-9655-30116045e1f3",
   "metadata": {},
   "source": [
    "### 2.3 논리연산자\n",
    "boolean값일 때\n",
    "- `and` : 양쪽 모두 `True`일 때, `True`를 반환\n",
    "- `or` : 양쪽 모두 `False`일 때, `False`를 반환\n",
    "- `Not` : 반대값을 출력"
   ]
  },
  {
   "cell_type": "code",
   "execution_count": 76,
   "id": "78dc1e4f-64c6-4ce3-a72f-955783d77964",
   "metadata": {},
   "outputs": [
    {
     "name": "stdout",
     "output_type": "stream",
     "text": [
      "True\n",
      "False\n",
      "False\n",
      "False\n"
     ]
    }
   ],
   "source": [
    "print(True and True)\n",
    "print(True and False)\n",
    "print(False and True)\n",
    "print(False and False)"
   ]
  },
  {
   "cell_type": "code",
   "execution_count": 77,
   "id": "712946d9-20e9-4c77-a23d-0d9a29296f1b",
   "metadata": {},
   "outputs": [
    {
     "name": "stdout",
     "output_type": "stream",
     "text": [
      "True\n",
      "True\n",
      "True\n",
      "False\n"
     ]
    }
   ],
   "source": [
    "print(True or True)\n",
    "print(True or False)\n",
    "print(False or True)\n",
    "print(False or False)"
   ]
  },
  {
   "cell_type": "code",
   "execution_count": 78,
   "id": "70a16d3b-c2d6-4d65-9add-6e019de1c11f",
   "metadata": {},
   "outputs": [
    {
     "name": "stdout",
     "output_type": "stream",
     "text": [
      "True\n",
      "False\n",
      "False\n"
     ]
    }
   ],
   "source": [
    "print(True)\n",
    "print(not True)\n",
    "\n",
    "a = True\n",
    "print(not a)"
   ]
  },
  {
   "cell_type": "code",
   "execution_count": 82,
   "id": "cf889c32-3ad2-40e4-8325-cbf916ebc2db",
   "metadata": {},
   "outputs": [
    {
     "name": "stdout",
     "output_type": "stream",
     "text": [
      "5\n",
      "0\n",
      "0\n",
      "0\n"
     ]
    }
   ],
   "source": [
    "# 단축평가(and)\n",
    "print(3 and 5) # True and True일 때 True를 출력하므로 뒤값인 5 출력\n",
    "print(3 and 0) # True and False일 때 False를 출력하므로 뒤값인 0 출력\n",
    "print(0 and 5) # False and True일 때 False를 출력하므로 False(0) 출력\n",
    "print(0 and 0) # False and False일 때 False를 출력하므로 False(0) 출력"
   ]
  },
  {
   "cell_type": "code",
   "execution_count": 83,
   "id": "a439945d-3592-4e4d-9e98-08dc679511e4",
   "metadata": {},
   "outputs": [
    {
     "name": "stdout",
     "output_type": "stream",
     "text": [
      "3\n",
      "3\n",
      "5\n",
      "0\n"
     ]
    }
   ],
   "source": [
    "# 단축평가(or)\n",
    "print(3 or 5) # True or True일 때 True를 출력하므로 앞값인 3 출력\n",
    "print(3 or 0) # True or False일 때 True를 출력하므로 앞값인 3 출력\n",
    "print(0 or 5) # False or True일 때 True를 출력하므로 True인 5 출력\n",
    "print(0 or 0) # False or False일 때 False를 출력하므로 False(0) 출력"
   ]
  },
  {
   "cell_type": "markdown",
   "id": "ecb6201e-53c0-496a-8f6b-6487d5547866",
   "metadata": {},
   "source": [
    "### 2.4 복합연산자"
   ]
  },
  {
   "cell_type": "code",
   "execution_count": 93,
   "id": "58d836a1-a584-4126-9b8e-e33d3e970478",
   "metadata": {},
   "outputs": [],
   "source": [
    "a = 2\n",
    "b = 3"
   ]
  },
  {
   "cell_type": "code",
   "execution_count": 99,
   "id": "1ec810f5-df48-43f0-afef-114f7a824bbe",
   "metadata": {},
   "outputs": [],
   "source": [
    "a = a + b\n",
    "a = a - b\n",
    "a = a * b\n",
    "a = a / b\n",
    "a = a // b\n",
    "a = a % b\n",
    "a = a ** b"
   ]
  },
  {
   "cell_type": "code",
   "execution_count": 100,
   "id": "2145f3df-df60-46b5-8588-79367103bfa5",
   "metadata": {},
   "outputs": [
    {
     "name": "stdout",
     "output_type": "stream",
     "text": [
      "8.0\n"
     ]
    }
   ],
   "source": [
    "print(a)"
   ]
  },
  {
   "cell_type": "code",
   "execution_count": 102,
   "id": "c75f7b9a-6a09-482f-8997-3406b81dd8a8",
   "metadata": {},
   "outputs": [
    {
     "name": "stdout",
     "output_type": "stream",
     "text": [
      "8.0\n"
     ]
    }
   ],
   "source": [
    "a += b\n",
    "a -= b\n",
    "a *= b\n",
    "a /= b\n",
    "a //= b\n",
    "a %= b\n",
    "a **= b\n",
    "print(a)"
   ]
  },
  {
   "cell_type": "markdown",
   "id": "fd1bfc34-1339-44d8-b299-15f90a5344cb",
   "metadata": {},
   "source": [
    "### 2.4 기타연산자"
   ]
  },
  {
   "cell_type": "markdown",
   "id": "42357fb6-bac0-4e07-86c3-e1badc343a63",
   "metadata": {},
   "source": [
    "#### concatenation"
   ]
  },
  {
   "cell_type": "code",
   "execution_count": 119,
   "id": "02df2e44-6c41-49e7-b250-99eb960b3a9a",
   "metadata": {},
   "outputs": [
    {
     "data": {
      "text/plain": [
       "'hihello'"
      ]
     },
     "execution_count": 119,
     "metadata": {},
     "output_type": "execute_result"
    }
   ],
   "source": [
    "a = 'hi'\n",
    "b = 'hello'\n",
    "a + b"
   ]
  },
  {
   "cell_type": "code",
   "execution_count": 120,
   "id": "4e952bc7-08c7-4cc6-9c93-b498e56d3f12",
   "metadata": {},
   "outputs": [
    {
     "data": {
      "text/plain": [
       "[1, 2, 3, 9, 8, 7]"
      ]
     },
     "execution_count": 120,
     "metadata": {},
     "output_type": "execute_result"
    }
   ],
   "source": [
    "a = [1, 2, 3]\n",
    "b = [9, 8, 7]\n",
    "a + b"
   ]
  },
  {
   "cell_type": "code",
   "execution_count": 109,
   "id": "0b14bf89-f6a7-46e7-bb6a-5cdf0c258cfa",
   "metadata": {},
   "outputs": [
    {
     "ename": "TypeError",
     "evalue": "unsupported operand type(s) for +: 'int' and 'str'",
     "output_type": "error",
     "traceback": [
      "\u001b[0;31m---------------------------------------------------------------------------\u001b[0m",
      "\u001b[0;31mTypeError\u001b[0m                                 Traceback (most recent call last)",
      "Cell \u001b[0;32mIn[109], line 1\u001b[0m\n\u001b[0;32m----> 1\u001b[0m \u001b[38;5;241;43m1\u001b[39;49m\u001b[43m \u001b[49m\u001b[38;5;241;43m+\u001b[39;49m\u001b[43m \u001b[49m\u001b[38;5;124;43m'\u001b[39;49m\u001b[38;5;124;43m1\u001b[39;49m\u001b[38;5;124;43m'\u001b[39;49m \u001b[38;5;66;03m# 타입을 맞춰야 한다.\u001b[39;00m\n",
      "\u001b[0;31mTypeError\u001b[0m: unsupported operand type(s) for +: 'int' and 'str'"
     ]
    }
   ],
   "source": [
    "1 + '1' # 타입을 맞춰야 한다."
   ]
  },
  {
   "cell_type": "markdown",
   "id": "ac42b669-1374-49c6-b9c3-89942c4787d5",
   "metadata": {},
   "source": [
    "#### containment"
   ]
  },
  {
   "cell_type": "code",
   "execution_count": 117,
   "id": "81eb757f-317b-4a75-96e2-8242270c3263",
   "metadata": {},
   "outputs": [
    {
     "name": "stdout",
     "output_type": "stream",
     "text": [
      "True\n",
      "False\n"
     ]
    }
   ],
   "source": [
    "print('a' in 'apple')\n",
    "print('z' in 'apple')"
   ]
  },
  {
   "cell_type": "code",
   "execution_count": 115,
   "id": "16900452-1f57-414a-ae5b-77781ffb4fe4",
   "metadata": {},
   "outputs": [
    {
     "name": "stdout",
     "output_type": "stream",
     "text": [
      "True\n",
      "False\n"
     ]
    }
   ],
   "source": [
    "print(1 in [1, 2, 3])\n",
    "print(100 in [1, 2, 3])"
   ]
  },
  {
   "cell_type": "markdown",
   "id": "fa4a1c3e-68b8-4707-abcd-c400e50548c2",
   "metadata": {},
   "source": [
    "#### is\n",
    "메모리값 위치에 대한 결과 출력"
   ]
  },
  {
   "cell_type": "code",
   "execution_count": 116,
   "id": "c8719444-99d3-428b-be64-a8a6ce4c7355",
   "metadata": {},
   "outputs": [
    {
     "name": "stdout",
     "output_type": "stream",
     "text": [
      "False\n"
     ]
    }
   ],
   "source": [
    "a = 123123\n",
    "b = 123123\n",
    "print(a is b)"
   ]
  },
  {
   "cell_type": "code",
   "execution_count": 118,
   "id": "b4bb73b4-a0da-40ef-8f39-2338de43185c",
   "metadata": {},
   "outputs": [
    {
     "name": "stdout",
     "output_type": "stream",
     "text": [
      "True\n"
     ]
    }
   ],
   "source": [
    "a = 10\n",
    "b = 10\n",
    "print(a is b)"
   ]
  },
  {
   "cell_type": "markdown",
   "id": "af4033ed-b8f6-4290-bae0-db97894f86b2",
   "metadata": {},
   "source": [
    "#### 연산자 우선순위\n",
    "\n",
    "0. ()를 통해 그룹\n",
    "1. **\n",
    "2. 산술연산자(*, /)\n",
    "3. 산술연산자(+, -)\n",
    "4. 비교연산자, is, in\n",
    "5. not\n",
    "6. and, or"
   ]
  },
  {
   "cell_type": "code",
   "execution_count": 126,
   "id": "6b901539-1ba6-41c5-b644-ef88950b3863",
   "metadata": {},
   "outputs": [
    {
     "name": "stdout",
     "output_type": "stream",
     "text": [
      "-81\n",
      "81\n"
     ]
    }
   ],
   "source": [
    "print(-3 ** 4)\n",
    "print((-3) ** 4)"
   ]
  },
  {
   "cell_type": "markdown",
   "id": "c0384110-c323-4aa7-8bf8-c3da302d5834",
   "metadata": {},
   "source": [
    "## 3. 형변환"
   ]
  },
  {
   "cell_type": "markdown",
   "id": "db220266-44b8-40bc-85c7-e6e6b9ee90e4",
   "metadata": {},
   "source": [
    "### 3.1 암시적 형변환"
   ]
  },
  {
   "cell_type": "code",
   "execution_count": 130,
   "id": "d73b9558-b29e-4fd4-8c65-39aed3e27737",
   "metadata": {},
   "outputs": [],
   "source": [
    "a = True # 숫자 1 취급가능\n",
    "b = False # 숫자 0 취급가능\n",
    "c = 1"
   ]
  },
  {
   "cell_type": "code",
   "execution_count": 129,
   "id": "1a34fa2b-3db9-4b24-8e88-7b737a796d68",
   "metadata": {},
   "outputs": [
    {
     "name": "stdout",
     "output_type": "stream",
     "text": [
      "2\n",
      "1\n"
     ]
    }
   ],
   "source": [
    "print(a + c)\n",
    "print(b + c)"
   ]
  },
  {
   "cell_type": "code",
   "execution_count": 131,
   "id": "cbd193ee-d312-4543-bd53-a387d45df04f",
   "metadata": {},
   "outputs": [
    {
     "name": "stdout",
     "output_type": "stream",
     "text": [
      "6.3\n",
      "(6+3j)\n"
     ]
    }
   ],
   "source": [
    "int_num = 3\n",
    "float_num = 3.3\n",
    "complex_num = 3 + 3j\n",
    "\n",
    "print(int_num + float_num)\n",
    "print(int_num + complex_num)"
   ]
  },
  {
   "cell_type": "markdown",
   "id": "b3ccdbcf-8ab3-4900-bc1e-405df7d761c3",
   "metadata": {},
   "source": [
    "### 3.2 명시적 형변환"
   ]
  },
  {
   "cell_type": "code",
   "execution_count": 132,
   "id": "cb33c87e-e322-493f-ad7f-ce3da0b6ec65",
   "metadata": {},
   "outputs": [],
   "source": [
    "a = 1\n",
    "b = '번'"
   ]
  },
  {
   "cell_type": "code",
   "execution_count": 133,
   "id": "d738fdcf-b78a-423a-90ad-26723e76a37f",
   "metadata": {},
   "outputs": [
    {
     "ename": "TypeError",
     "evalue": "unsupported operand type(s) for +: 'int' and 'str'",
     "output_type": "error",
     "traceback": [
      "\u001b[0;31m---------------------------------------------------------------------------\u001b[0m",
      "\u001b[0;31mTypeError\u001b[0m                                 Traceback (most recent call last)",
      "Cell \u001b[0;32mIn[133], line 1\u001b[0m\n\u001b[0;32m----> 1\u001b[0m \u001b[43ma\u001b[49m\u001b[43m \u001b[49m\u001b[38;5;241;43m+\u001b[39;49m\u001b[43m \u001b[49m\u001b[43mb\u001b[49m\n",
      "\u001b[0;31mTypeError\u001b[0m: unsupported operand type(s) for +: 'int' and 'str'"
     ]
    }
   ],
   "source": [
    "a + b"
   ]
  },
  {
   "cell_type": "code",
   "execution_count": 134,
   "id": "b5b43390-d733-467f-aad1-edb20de834c5",
   "metadata": {},
   "outputs": [
    {
     "name": "stdout",
     "output_type": "stream",
     "text": [
      "1번\n"
     ]
    }
   ],
   "source": [
    "print(str(a) + b)"
   ]
  },
  {
   "cell_type": "code",
   "execution_count": 136,
   "id": "ea999fc3-4e55-49f7-b169-504c3e373e64",
   "metadata": {},
   "outputs": [
    {
     "name": "stdout",
     "output_type": "stream",
     "text": [
      "<class 'str'>\n",
      "<class 'int'>\n"
     ]
    }
   ],
   "source": [
    "a = '100'\n",
    "print(type(a))\n",
    "print(type(int(a)))"
   ]
  },
  {
   "cell_type": "code",
   "execution_count": 137,
   "id": "0999e3ec-427e-47fb-9e3c-e753b8f32816",
   "metadata": {},
   "outputs": [
    {
     "name": "stdin",
     "output_type": "stream",
     "text": [
      " 30\n"
     ]
    },
    {
     "name": "stdout",
     "output_type": "stream",
     "text": [
      "<class 'str'>\n"
     ]
    }
   ],
   "source": [
    "age = input()\n",
    "print(type(age))"
   ]
  },
  {
   "cell_type": "code",
   "execution_count": 138,
   "id": "d632f9bf-6c94-4550-8ce8-e6bf8f9ce03d",
   "metadata": {},
   "outputs": [
    {
     "name": "stdin",
     "output_type": "stream",
     "text": [
      " 25\n"
     ]
    },
    {
     "name": "stdout",
     "output_type": "stream",
     "text": [
      "<class 'int'>\n"
     ]
    }
   ],
   "source": [
    "age = int(input())\n",
    "print(type(age))"
   ]
  },
  {
   "cell_type": "code",
   "execution_count": 141,
   "id": "963e87b0-8ff1-481e-8182-3285db45b82b",
   "metadata": {},
   "outputs": [
    {
     "ename": "ValueError",
     "evalue": "invalid literal for int() with base 10: '3.3'",
     "output_type": "error",
     "traceback": [
      "\u001b[0;31m---------------------------------------------------------------------------\u001b[0m",
      "\u001b[0;31mValueError\u001b[0m                                Traceback (most recent call last)",
      "Cell \u001b[0;32mIn[141], line 2\u001b[0m\n\u001b[1;32m      1\u001b[0m a \u001b[38;5;241m=\u001b[39m \u001b[38;5;124m'\u001b[39m\u001b[38;5;124m3.3\u001b[39m\u001b[38;5;124m'\u001b[39m\n\u001b[0;32m----> 2\u001b[0m \u001b[38;5;28mtype\u001b[39m(\u001b[38;5;28;43mint\u001b[39;49m\u001b[43m(\u001b[49m\u001b[43ma\u001b[49m\u001b[43m)\u001b[49m) \u001b[38;5;66;03m# base 10 : 십진수\u001b[39;00m\n",
      "\u001b[0;31mValueError\u001b[0m: invalid literal for int() with base 10: '3.3'"
     ]
    }
   ],
   "source": [
    "a = '3.3'\n",
    "type(int(a)) # base 10 : 십진수"
   ]
  },
  {
   "cell_type": "code",
   "execution_count": 142,
   "id": "b10b106a-0b3e-4c37-bce6-9f952694a24a",
   "metadata": {},
   "outputs": [
    {
     "data": {
      "text/plain": [
       "float"
      ]
     },
     "execution_count": 142,
     "metadata": {},
     "output_type": "execute_result"
    }
   ],
   "source": [
    "a = '3.3'\n",
    "type(float(a))"
   ]
  },
  {
   "cell_type": "code",
   "execution_count": 147,
   "id": "c9afddf5-371a-429d-9d68-47a64b5e8265",
   "metadata": {},
   "outputs": [
    {
     "name": "stdout",
     "output_type": "stream",
     "text": [
      "True\n",
      "False\n",
      "True\n"
     ]
    }
   ],
   "source": [
    "a = 1\n",
    "b = 0\n",
    "c = 100 # 1 이상이면 True\n",
    "\n",
    "print(bool(a))\n",
    "print(bool(b))\n",
    "print(bool(c))"
   ]
  },
  {
   "cell_type": "code",
   "execution_count": 148,
   "id": "cc234d8e-efb4-4851-987d-608273fd1d85",
   "metadata": {},
   "outputs": [
    {
     "name": "stdout",
     "output_type": "stream",
     "text": [
      "False\n",
      "True\n"
     ]
    }
   ],
   "source": [
    "print(bool('')) # 비어있는 것은 0\n",
    "print(bool('a')) # 글자가 있으면 1 이상 취급"
   ]
  },
  {
   "cell_type": "code",
   "execution_count": 150,
   "id": "e9c0cf53-3c4c-49ef-8386-ce3c72168a2f",
   "metadata": {},
   "outputs": [
    {
     "name": "stdout",
     "output_type": "stream",
     "text": [
      "False\n",
      "True\n"
     ]
    }
   ],
   "source": [
    "print(bool([]))\n",
    "print(bool([1, 2, 3]))"
   ]
  },
  {
   "cell_type": "markdown",
   "id": "db8a6995-792b-4df1-9a45-9bf0a16ef413",
   "metadata": {},
   "source": [
    "## 4. 시퀀스(sequence) 자료형\n",
    "\n",
    "시퀀스는 데이터의 순서대로 나열된 자료구조 (순서대로 나열되어있다는 것은 정렬된 것과는 다르다.)\n",
    "\n",
    "1. 리스트(list)\n",
    "2. 튜플(tuple)\n",
    "3. 레인지(range)\n",
    "4. 문자열(string)"
   ]
  },
  {
   "cell_type": "markdown",
   "id": "51f44100-9426-48b6-96ba-7742525b9271",
   "metadata": {},
   "source": [
    "### 4.1 List(배열)\n",
    "- 선언 : 변수이름 = [value1, value2, value3]\n",
    "- 접근 : 변수이름[index]"
   ]
  },
  {
   "cell_type": "code",
   "execution_count": 153,
   "id": "d713ccfa-e8fe-4dae-95f4-805e40a79c7d",
   "metadata": {},
   "outputs": [
    {
     "name": "stdout",
     "output_type": "stream",
     "text": [
      "[]\n",
      "<class 'list'>\n"
     ]
    }
   ],
   "source": [
    "l = []\n",
    "print(l)\n",
    "print(type(l))"
   ]
  },
  {
   "cell_type": "code",
   "execution_count": 158,
   "id": "eda2cb5c-bc39-4487-85df-07fbbd297714",
   "metadata": {},
   "outputs": [
    {
     "name": "stdout",
     "output_type": "stream",
     "text": [
      "['서울', '대전', '부산']\n",
      "<class 'list'>\n",
      "서울\n",
      "대전\n",
      "부산\n",
      "부산\n",
      "대전\n",
      "서울\n"
     ]
    }
   ],
   "source": [
    "location = ['서울', '대전', '부산']\n",
    "print(location)\n",
    "print(type(location))\n",
    "\n",
    "print(location[0])\n",
    "print(location[1])\n",
    "print(location[2])\n",
    "print(location[-1]) # 맨 오른쪽에서 1번째\n",
    "print(location[-2]) # 맨 오른쪽에서 2번째\n",
    "print(location[-3]) # 맨 오른쪽에서 3번째"
   ]
  },
  {
   "cell_type": "code",
   "execution_count": 159,
   "id": "133ecea6-c71a-4bbb-bd4e-f20c87d78007",
   "metadata": {},
   "outputs": [
    {
     "ename": "IndexError",
     "evalue": "list index out of range",
     "output_type": "error",
     "traceback": [
      "\u001b[0;31m---------------------------------------------------------------------------\u001b[0m",
      "\u001b[0;31mIndexError\u001b[0m                                Traceback (most recent call last)",
      "Cell \u001b[0;32mIn[159], line 1\u001b[0m\n\u001b[0;32m----> 1\u001b[0m \u001b[38;5;28mprint\u001b[39m(\u001b[43mlocation\u001b[49m\u001b[43m[\u001b[49m\u001b[38;5;241;43m3\u001b[39;49m\u001b[43m]\u001b[49m) \u001b[38;5;66;03m# 찾을 수 없는 정보\u001b[39;00m\n\u001b[1;32m      2\u001b[0m \u001b[38;5;28mprint\u001b[39m(location[\u001b[38;5;241m-\u001b[39m\u001b[38;5;241m4\u001b[39m])\n",
      "\u001b[0;31mIndexError\u001b[0m: list index out of range"
     ]
    }
   ],
   "source": [
    "print(location[3]) # 찾을 수 없는 정보\n",
    "print(location[-4])"
   ]
  },
  {
   "cell_type": "code",
   "execution_count": 160,
   "id": "efed1c27-6d5d-4f63-a37d-509e0df895ed",
   "metadata": {},
   "outputs": [
    {
     "name": "stdout",
     "output_type": "stream",
     "text": [
      "['서울', '대전', '제주']\n"
     ]
    }
   ],
   "source": [
    "location[2] = '제주'\n",
    "print(location)"
   ]
  },
  {
   "cell_type": "markdown",
   "id": "cc118bd7-e6b1-42d5-bdf6-f13a24fbc886",
   "metadata": {},
   "source": [
    "### 4.2 Tuple\n",
    "\n",
    "- 선언 : 변수이름 = (value1, value2, value3)\n",
    "- 접근 : 변수이름[index]\n",
    "- List와 유사하지만 수정불가능(immutable)하다."
   ]
  },
  {
   "cell_type": "code",
   "execution_count": 162,
   "id": "d57eec98-3297-40f8-95cd-a7195f942c93",
   "metadata": {},
   "outputs": [
    {
     "name": "stdout",
     "output_type": "stream",
     "text": [
      "(1, 2, 3)\n",
      "<class 'tuple'>\n",
      "3\n"
     ]
    }
   ],
   "source": [
    "t = (1, 2, 3)\n",
    "print(t)\n",
    "print(type(t))\n",
    "print(t[2])"
   ]
  },
  {
   "cell_type": "code",
   "execution_count": 164,
   "id": "e985fe4d-d6e1-499b-8fb6-dc58de9264f6",
   "metadata": {},
   "outputs": [
    {
     "ename": "TypeError",
     "evalue": "'tuple' object does not support item assignment",
     "output_type": "error",
     "traceback": [
      "\u001b[0;31m---------------------------------------------------------------------------\u001b[0m",
      "\u001b[0;31mTypeError\u001b[0m                                 Traceback (most recent call last)",
      "Cell \u001b[0;32mIn[164], line 1\u001b[0m\n\u001b[0;32m----> 1\u001b[0m \u001b[43mt\u001b[49m\u001b[43m[\u001b[49m\u001b[38;5;241;43m2\u001b[39;49m\u001b[43m]\u001b[49m \u001b[38;5;241m=\u001b[39m \u001b[38;5;241m100\u001b[39m \u001b[38;5;66;03m# 수정 불가능\u001b[39;00m\n",
      "\u001b[0;31mTypeError\u001b[0m: 'tuple' object does not support item assignment"
     ]
    }
   ],
   "source": [
    "t[2] = 100 # 수정 불가능"
   ]
  },
  {
   "cell_type": "code",
   "execution_count": 166,
   "id": "16c13faa-cc23-475d-9353-880e742d4d8c",
   "metadata": {},
   "outputs": [
    {
     "name": "stdout",
     "output_type": "stream",
     "text": [
      "<class 'tuple'>\n",
      "2\n",
      "1\n"
     ]
    }
   ],
   "source": [
    "result = divmod(9, 4)\n",
    "print(type(result))\n",
    "print(result[0])\n",
    "print(result[1])"
   ]
  },
  {
   "cell_type": "code",
   "execution_count": 168,
   "id": "6e655914-698d-4cdb-b072-abaad519f4c8",
   "metadata": {},
   "outputs": [
    {
     "name": "stdout",
     "output_type": "stream",
     "text": [
      "1 2\n",
      "2 1\n"
     ]
    }
   ],
   "source": [
    "x, y = (1, 2)\n",
    "print(x, y)\n",
    "\n",
    "x, y = (y, x)\n",
    "print(x, y)"
   ]
  },
  {
   "cell_type": "markdown",
   "id": "3ea007c2-8966-407e-a77f-d8b5164d1672",
   "metadata": {},
   "source": [
    "### 4.3 Range\n",
    "- range(n) : 0부터 n-1까지 범위\n",
    "- range(n, m) : n부터 m-1까지 범위\n",
    "- range(n, m, s) : n부터 m-1까지 범위, +s만큼 증가하는 범위"
   ]
  },
  {
   "cell_type": "code",
   "execution_count": 172,
   "id": "6af9bdff-c1a8-44aa-8f6d-5179c58afd60",
   "metadata": {},
   "outputs": [
    {
     "name": "stdout",
     "output_type": "stream",
     "text": [
      "range(0, 5)\n",
      "<class 'range'>\n"
     ]
    }
   ],
   "source": [
    "r = range(5) # 0 이상 5 미만\n",
    "print(r)\n",
    "print(type(r))"
   ]
  },
  {
   "cell_type": "code",
   "execution_count": 177,
   "id": "d10e6d87-99ec-4822-9770-00d6202410bf",
   "metadata": {},
   "outputs": [
    {
     "name": "stdout",
     "output_type": "stream",
     "text": [
      "range(5, 15)\n",
      "range(5, 15, 2)\n"
     ]
    }
   ],
   "source": [
    "r = range(5, 15)\n",
    "print(r)\n",
    "\n",
    "r = range(5, 15, 2)\n",
    "print(r)"
   ]
  },
  {
   "cell_type": "code",
   "execution_count": 178,
   "id": "0ce61967-eded-4de2-8283-a33418d3f8c9",
   "metadata": {},
   "outputs": [
    {
     "data": {
      "text/plain": [
       "[5, 7, 9, 11, 13]"
      ]
     },
     "execution_count": 178,
     "metadata": {},
     "output_type": "execute_result"
    }
   ],
   "source": [
    "list(r)"
   ]
  },
  {
   "cell_type": "markdown",
   "id": "c513e132-e675-498e-a9b0-d8081897046a",
   "metadata": {},
   "source": [
    "### 4.4 String\n",
    "기본 데이터 구조 참고 (1.4)"
   ]
  },
  {
   "cell_type": "markdown",
   "id": "69ddf9a5-1c04-454c-b32b-9e5c0d2b9f05",
   "metadata": {},
   "source": [
    "### 4.5 시퀀스에서 사용 가능한 연산/함수"
   ]
  },
  {
   "cell_type": "code",
   "execution_count": 180,
   "id": "4a0ccd7e-7b72-4e94-bda3-1d8d80e78f64",
   "metadata": {},
   "outputs": [],
   "source": [
    "my_list = [1, 2, 3, 4, 5]\n",
    "my_tuple = (11, 22, 33, 44, 55)\n",
    "my_range = range(1, 10, 2)\n",
    "my_string = '일이삼사오'"
   ]
  },
  {
   "cell_type": "markdown",
   "id": "d6e47fd6-90dd-439b-8a3a-50ac842cd074",
   "metadata": {},
   "source": [
    "#### indexing"
   ]
  },
  {
   "cell_type": "code",
   "execution_count": 183,
   "id": "6946a948-8898-44eb-aa53-06200f8064fb",
   "metadata": {},
   "outputs": [
    {
     "name": "stdout",
     "output_type": "stream",
     "text": [
      "2\n",
      "22\n",
      "3\n",
      "이\n"
     ]
    }
   ],
   "source": [
    "print(my_list[1])\n",
    "print(my_tuple[1])\n",
    "print(my_range[1])\n",
    "print(my_string[1])"
   ]
  },
  {
   "cell_type": "markdown",
   "id": "2f2e25e1-4e51-4434-af7d-71a45bd95ec2",
   "metadata": {},
   "source": [
    "#### slicing"
   ]
  },
  {
   "cell_type": "code",
   "execution_count": 186,
   "id": "0a615c2e-8ca8-4cac-abf3-f18f007d0e3e",
   "metadata": {},
   "outputs": [
    {
     "name": "stdout",
     "output_type": "stream",
     "text": [
      "[2, 3]\n",
      "(22, 33)\n",
      "range(3, 7, 2)\n",
      "이삼\n"
     ]
    }
   ],
   "source": [
    "print(my_list[1:3]) # 1번째 이상 3번째 미만\n",
    "print(my_tuple[1:3])\n",
    "print(my_range[1:3])\n",
    "print(my_string[1:3])"
   ]
  },
  {
   "cell_type": "code",
   "execution_count": 191,
   "id": "52dcddc1-86c5-4967-8553-37b6906f3c46",
   "metadata": {},
   "outputs": [
    {
     "name": "stdout",
     "output_type": "stream",
     "text": [
      "[2, 4]\n",
      "range(5, 11, 4)\n"
     ]
    }
   ],
   "source": [
    "print(my_list[1:4:2]) # 1번째 이상 4번째 미만 2칸씩\n",
    "print(my_range[2:7:2])"
   ]
  },
  {
   "cell_type": "code",
   "execution_count": 192,
   "id": "5bcd8e16-44f4-45ce-b336-6bacf1d8126b",
   "metadata": {},
   "outputs": [
    {
     "name": "stdout",
     "output_type": "stream",
     "text": [
      "[1, 2, 3]\n",
      "[4, 5]\n"
     ]
    }
   ],
   "source": [
    "print(my_list[ :3])\n",
    "print(my_list[3: ])"
   ]
  },
  {
   "cell_type": "markdown",
   "id": "6b78c632-ca60-42b8-8bb1-5ffbe6c4522d",
   "metadata": {},
   "source": [
    "#### in"
   ]
  },
  {
   "cell_type": "code",
   "execution_count": 194,
   "id": "1660c632-27a9-4a02-b7cd-f23d6a340a03",
   "metadata": {},
   "outputs": [
    {
     "name": "stdout",
     "output_type": "stream",
     "text": [
      "True\n",
      "True\n",
      "True\n",
      "True\n"
     ]
    }
   ],
   "source": [
    "print(1 in my_list)\n",
    "print(11 in my_tuple)\n",
    "print(1 in my_range)\n",
    "print('일' in my_string)"
   ]
  },
  {
   "cell_type": "markdown",
   "id": "6e8b5ccb-eabb-4719-83ab-8133781d24d5",
   "metadata": {},
   "source": [
    "#### not in"
   ]
  },
  {
   "cell_type": "code",
   "execution_count": 195,
   "id": "1149d49b-158a-4e92-8576-fd084c1bb9be",
   "metadata": {},
   "outputs": [
    {
     "name": "stdout",
     "output_type": "stream",
     "text": [
      "True\n",
      "True\n",
      "False\n",
      "True\n"
     ]
    }
   ],
   "source": [
    "print(11 not in my_list)\n",
    "print(100 not in my_tuple)\n",
    "print(1 not in my_range)\n",
    "print('구' not in my_string)"
   ]
  },
  {
   "cell_type": "markdown",
   "id": "dc16f71d-abf6-4af0-a726-b0961e1e5a4d",
   "metadata": {},
   "source": [
    "#### concatenation"
   ]
  },
  {
   "cell_type": "code",
   "execution_count": 196,
   "id": "af409be3-fb75-497d-9b86-fd362afafde6",
   "metadata": {},
   "outputs": [
    {
     "name": "stdout",
     "output_type": "stream",
     "text": [
      "[1, 2, 3, 4, 5, 1, 2, 3, 4, 5]\n",
      "(11, 22, 33, 44, 55, 1, 2, 3)\n"
     ]
    }
   ],
   "source": [
    "print(my_list + [1, 2, 3, 4, 5])\n",
    "print(my_tuple + (1, 2, 3))"
   ]
  },
  {
   "cell_type": "markdown",
   "id": "97550c23-446d-478a-8d15-25c9cbe9acba",
   "metadata": {},
   "source": [
    "#### *"
   ]
  },
  {
   "cell_type": "code",
   "execution_count": 205,
   "id": "d7af2f4c-d02b-4c59-be44-d5d6e5922831",
   "metadata": {},
   "outputs": [
    {
     "name": "stdout",
     "output_type": "stream",
     "text": [
      "일이삼사오일이삼사오일이삼사오\n",
      "[1, 2, 3, 4, 5, 1, 2, 3, 4, 5, 1, 2, 3, 4, 5]\n",
      "[0, 0, 0, 0, 0, 0, 0, 0, 0, 0]\n",
      "[[0, 0, 0, 0, 0, 0, 0, 0, 0, 0], [0, 0, 0, 0, 0, 0, 0, 0, 0, 0], [0, 0, 0, 0, 0, 0, 0, 0, 0, 0], [0, 0, 0, 0, 0, 0, 0, 0, 0, 0], [0, 0, 0, 0, 0, 0, 0, 0, 0, 0], [0, 0, 0, 0, 0, 0, 0, 0, 0, 0], [0, 0, 0, 0, 0, 0, 0, 0, 0, 0], [0, 0, 0, 0, 0, 0, 0, 0, 0, 0], [0, 0, 0, 0, 0, 0, 0, 0, 0, 0], [0, 0, 0, 0, 0, 0, 0, 0, 0, 0]]\n"
     ]
    }
   ],
   "source": [
    "print(my_string * 3)\n",
    "print(my_list * 3)\n",
    "\n",
    "print([0] * 10)\n",
    "print([[0] * 10] * 10)"
   ]
  },
  {
   "cell_type": "markdown",
   "id": "ab4a0426-994f-444e-8546-3e6cbd5dbc69",
   "metadata": {},
   "source": [
    "#### 기타"
   ]
  },
  {
   "cell_type": "code",
   "execution_count": 207,
   "id": "27d63d81-ff17-41f9-8a2b-35cf428054e9",
   "metadata": {},
   "outputs": [
    {
     "data": {
      "text/plain": [
       "5"
      ]
     },
     "execution_count": 207,
     "metadata": {},
     "output_type": "execute_result"
    }
   ],
   "source": [
    "len(my_list)"
   ]
  },
  {
   "cell_type": "code",
   "execution_count": 208,
   "id": "54b229d6-86e7-4032-97d8-1111c1b8650b",
   "metadata": {},
   "outputs": [
    {
     "data": {
      "text/plain": [
       "11"
      ]
     },
     "execution_count": 208,
     "metadata": {},
     "output_type": "execute_result"
    }
   ],
   "source": [
    "min(my_tuple)"
   ]
  },
  {
   "cell_type": "code",
   "execution_count": 211,
   "id": "ddec1531-cf14-4c07-b526-de88cdf644ce",
   "metadata": {},
   "outputs": [
    {
     "name": "stdout",
     "output_type": "stream",
     "text": [
      "9\n",
      "일\n"
     ]
    }
   ],
   "source": [
    "print(max(my_range))\n",
    "print(max(my_string)) # string은 불가"
   ]
  },
  {
   "cell_type": "code",
   "execution_count": 213,
   "id": "88d1b851-1e86-47c4-a221-b66f5679d7af",
   "metadata": {},
   "outputs": [
    {
     "data": {
      "text/plain": [
       "1"
      ]
     },
     "execution_count": 213,
     "metadata": {},
     "output_type": "execute_result"
    }
   ],
   "source": [
    "my_list.count(1) # 1이 몇 개인지 출력"
   ]
  },
  {
   "cell_type": "markdown",
   "id": "f0596a28-2778-4f7f-8056-e6150864aca4",
   "metadata": {},
   "source": [
    "## 5. 시퀀스데이터가 아닌 자료구조"
   ]
  },
  {
   "cell_type": "markdown",
   "id": "8b27099a-2575-4a4d-9df1-2c7cd15b68fd",
   "metadata": {},
   "source": [
    "### 5.1 set\n",
    "수학에서 사용하는 집합과 동일하게 처리(중복된 값이 없음)\n",
    "- 선언 : 변수이름 = {value1, value2, value3}"
   ]
  },
  {
   "cell_type": "code",
   "execution_count": 218,
   "id": "a6aab2ec-0dca-4237-ab7b-40fe320fae48",
   "metadata": {},
   "outputs": [],
   "source": [
    "my_set_a = {1, 2, 3, 4, 5}\n",
    "my_set_b = {1, 3, 5, 7, 9}"
   ]
  },
  {
   "cell_type": "code",
   "execution_count": 222,
   "id": "fd80d878-0086-4d91-9ebb-d6563736d384",
   "metadata": {},
   "outputs": [
    {
     "name": "stdout",
     "output_type": "stream",
     "text": [
      "{2, 4}\n",
      "{1, 2, 3, 4, 5, 7, 9}\n",
      "{1, 3, 5}\n"
     ]
    }
   ],
   "source": [
    "print(my_set_a - my_set_b) # 차집합\n",
    "print(my_set_a | my_set_b) # 합집합 (or)\n",
    "print(my_set_a & my_set_b) # 교집합 (and)"
   ]
  },
  {
   "cell_type": "code",
   "execution_count": 224,
   "id": "f08d501c-a570-463a-aced-49c0969cf0b5",
   "metadata": {},
   "outputs": [
    {
     "name": "stdout",
     "output_type": "stream",
     "text": [
      "{1, 2, 3, 4, 5, 6, 7, 8, 9}\n"
     ]
    }
   ],
   "source": [
    "my_list = [1, 2, 3, 1, 4, 1, 2, 3, 5, 6, 7, 8, 9, 2, 2]\n",
    "print(set(my_list)) # 중복값 제거"
   ]
  },
  {
   "cell_type": "markdown",
   "id": "8acb2fcf-bed0-480c-a9bb-cbbb05b60b6a",
   "metadata": {},
   "source": [
    "### 5.2 dictionary\n",
    "- 선언 : 변수이름 = {key1: value1, key2: value2, key3: value3)\n",
    "- 접근 : 변수이름[key]\n",
    "- dictionary는 key와 value가 쌍으로 이루어져있다.\n",
    "- key에는 immutable한 모든 값 사용가능 (불변값 : string, integer...)\n",
    "- value에는 모든 데이터 가능 (list, dict도 가능)"
   ]
  },
  {
   "cell_type": "code",
   "execution_count": 225,
   "id": "bc08da92-ec2f-49c1-a44c-d61f18e66017",
   "metadata": {},
   "outputs": [
    {
     "data": {
      "text/plain": [
       "'02'"
      ]
     },
     "execution_count": 225,
     "metadata": {},
     "output_type": "execute_result"
    }
   ],
   "source": [
    "my_dict = {'서울': '02', '경기': '031'}\n",
    "my_dict['서울']"
   ]
  },
  {
   "cell_type": "code",
   "execution_count": 232,
   "id": "1aa02f2b-5f21-4063-9f3d-a71832d0d46a",
   "metadata": {},
   "outputs": [
    {
     "name": "stdout",
     "output_type": "stream",
     "text": [
      "10\n",
      "[1, 2, 3, 4, 5]\n",
      "4\n",
      "11\n"
     ]
    }
   ],
   "source": [
    "dict_a = {\n",
    "    'name': 'heeju',\n",
    "    'age': 10,\n",
    "    'location': 'busan',\n",
    "    'numbers': [1, 2, 3, 4, 5],\n",
    "    'freinds': {\n",
    "        'a': 10,\n",
    "        'b': 11,\n",
    "    },\n",
    "}\n",
    "\n",
    "print(dict_a['age'])\n",
    "print(dict_a['numbers'])\n",
    "print(dict_a['numbers'][3])\n",
    "print(dict_a['freinds']['b'])"
   ]
  },
  {
   "cell_type": "code",
   "execution_count": 233,
   "id": "7cbfdf0b-6149-41b3-8852-c2bafe1ae247",
   "metadata": {},
   "outputs": [
    {
     "data": {
      "text/plain": [
       "dict_keys(['name', 'age', 'location', 'numbers', 'freinds'])"
      ]
     },
     "execution_count": 233,
     "metadata": {},
     "output_type": "execute_result"
    }
   ],
   "source": [
    "dict_a.keys()"
   ]
  },
  {
   "cell_type": "code",
   "execution_count": 234,
   "id": "cbd2ef7e-bb07-49a6-bfc4-b215cf38705d",
   "metadata": {},
   "outputs": [
    {
     "data": {
      "text/plain": [
       "dict_values(['heeju', 10, 'busan', [1, 2, 3, 4, 5], {'a': 10, 'b': 11}])"
      ]
     },
     "execution_count": 234,
     "metadata": {},
     "output_type": "execute_result"
    }
   ],
   "source": [
    "dict_a.values()"
   ]
  },
  {
   "cell_type": "markdown",
   "id": "95c24f70-adc0-4b98-a861-62e18525ee7e",
   "metadata": {},
   "source": [
    "### 정리\n",
    "#### 데이터 타입\n",
    "1. Number\n",
    "2. Boolean\n",
    "3. String\n",
    "\n",
    "#### 자료구조\n",
    "- 시퀀스 자료형\n",
    "    1. [List] : mutable\n",
    "    2. (Tuple) : immutable\n",
    "    3. range() : immutable\n",
    "    4. 'String' : immutable\n",
    "- 시퀀스가 아닌 자료형\n",
    "    1. (Set) : mutable\n",
    "    2. (Dict: ionary) : mutable"
   ]
  },
  {
   "cell_type": "code",
   "execution_count": null,
   "id": "c8c19f79-1c52-46a1-8d45-5358670d192c",
   "metadata": {},
   "outputs": [],
   "source": []
  }
 ],
 "metadata": {
  "kernelspec": {
   "display_name": "Python 3 (ipykernel)",
   "language": "python",
   "name": "python3"
  },
  "language_info": {
   "codemirror_mode": {
    "name": "ipython",
    "version": 3
   },
   "file_extension": ".py",
   "mimetype": "text/x-python",
   "name": "python",
   "nbconvert_exporter": "python",
   "pygments_lexer": "ipython3",
   "version": "3.11.5"
  }
 },
 "nbformat": 4,
 "nbformat_minor": 5
}
