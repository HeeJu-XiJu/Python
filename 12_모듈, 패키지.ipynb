{
 "cells": [
  {
   "cell_type": "markdown",
   "id": "115a793d-a983-49ca-90df-e816d6c4a82e",
   "metadata": {},
   "source": [
    "# 📍 Module(모듈)\n",
    ": 파이썬 정의와 문장들을 담고 있는 파일"
   ]
  },
  {
   "cell_type": "code",
   "execution_count": 1,
   "id": "415d4855-e7d5-44ae-90b4-2990924f22dc",
   "metadata": {},
   "outputs": [],
   "source": [
    "import fibo\n",
    "\n",
    "# fibo.py\n",
    "# # 반복문\n",
    "# def fib_loop(n):\n",
    "#     result = [1, 1]\n",
    "\n",
    "#     for i in range(1, n):\n",
    "#         end1 = result[-1]\n",
    "#         end2 = result[-2]\n",
    "\n",
    "#         fib_num = end1 + end2\n",
    "\n",
    "#         result.append(fib_num)\n",
    "\n",
    "#     return result[-1]\n",
    "\n",
    "\n",
    "# # 재귀\n",
    "# def fib_rec(n):\n",
    "#     if n == 0 or n == 1:\n",
    "#         return 1\n",
    "#     else:\n",
    "#         return fib_rec(n-1) + fib_rec(n-2)"
   ]
  },
  {
   "cell_type": "code",
   "execution_count": 2,
   "id": "b291088c-56a1-42a3-b001-bf395d003b83",
   "metadata": {},
   "outputs": [
    {
     "data": {
      "text/plain": [
       "8"
      ]
     },
     "execution_count": 2,
     "metadata": {},
     "output_type": "execute_result"
    }
   ],
   "source": [
    "fibo.fib_rec(5)"
   ]
  },
  {
   "cell_type": "markdown",
   "id": "323cea11-0df0-45cb-9ec3-11ccc31bbb77",
   "metadata": {},
   "source": [
    "# 📍 Pakage(패키지)\n",
    "\n",
    "```python\n",
    "myPackage/\n",
    "    __init__.py\n",
    "    math/\n",
    "        __init__.py\n",
    "        fibo.py\n",
    "        fomula.py\n",
    "```\n",
    "\n",
    "- 모듈들의 집합인 폴더\n",
    "- 패키지 안에 __init__.py 파일이 있어야 패키지로 인식"
   ]
  },
  {
   "cell_type": "code",
   "execution_count": 3,
   "id": "232fd0a2-4f37-4351-a1d8-70e0bda0c95b",
   "metadata": {},
   "outputs": [],
   "source": [
    "from myPackage.math import fomula\n",
    "\n",
    "# fomula.py\n",
    "# pi = 3.14\n",
    "\n",
    "# def my_max(a, b):\n",
    "#     if a > b:\n",
    "#         return a\n",
    "#     else:\n",
    "#         return b"
   ]
  },
  {
   "cell_type": "code",
   "execution_count": 4,
   "id": "40722129-1889-49f6-aa12-3887c9c803bc",
   "metadata": {},
   "outputs": [
    {
     "data": {
      "text/plain": [
       "2"
      ]
     },
     "execution_count": 4,
     "metadata": {},
     "output_type": "execute_result"
    }
   ],
   "source": [
    "fomula.my_max(1, 2)"
   ]
  },
  {
   "cell_type": "code",
   "execution_count": 5,
   "id": "0e1bb628-ccb1-4d55-9caa-21111b0f2152",
   "metadata": {},
   "outputs": [
    {
     "name": "stdout",
     "output_type": "stream",
     "text": [
      "2\n",
      "3.14\n"
     ]
    }
   ],
   "source": [
    "import myPackage\n",
    "\n",
    "# 매번 코드가 길어지기 때문에 import로 열어주는 것이 일반적인 방법\n",
    "print(myPackage.math.fomula.my_max(1, 2))\n",
    "print(myPackage.math.fomula.pi)"
   ]
  },
  {
   "cell_type": "code",
   "execution_count": 6,
   "id": "6c13a964-e4b8-49ba-97c5-9520a069e42a",
   "metadata": {},
   "outputs": [
    {
     "data": {
      "text/plain": [
       "8"
      ]
     },
     "execution_count": 6,
     "metadata": {},
     "output_type": "execute_result"
    }
   ],
   "source": [
    "# *를 사용하면 모든 함수를 불러옴\n",
    "# 메모리에 부하가 오기 때문에 사용할 함수만 들고 오는 것이 일반적\n",
    "from myPackage.math.fibo import *\n",
    "\n",
    "fib_loop(5)"
   ]
  },
  {
   "cell_type": "markdown",
   "id": "a06a183a-f230-4b0a-a0a3-e3207a227052",
   "metadata": {},
   "source": [
    "### ✅ 파이썬 내장 패키지"
   ]
  },
  {
   "cell_type": "markdown",
   "id": "04ae626c-a808-4393-b0bc-f44628cbbe46",
   "metadata": {},
   "source": [
    "#### ✔️ math"
   ]
  },
  {
   "cell_type": "code",
   "execution_count": 7,
   "id": "8b3fd264-212d-4f4c-ae56-4981ab46fb8c",
   "metadata": {},
   "outputs": [
    {
     "name": "stdout",
     "output_type": "stream",
     "text": [
      "3.141592653589793\n",
      "2.718281828459045\n",
      "3.0\n",
      "3628800\n"
     ]
    }
   ],
   "source": [
    "import math\n",
    "\n",
    "print(math.pi)\n",
    "print(math.e)\n",
    "print(math.sqrt(9)) # 제곱근\n",
    "print(math.factorial(10))"
   ]
  },
  {
   "cell_type": "code",
   "execution_count": 8,
   "id": "0737aedf-3430-4d22-b747-8a7825a07c94",
   "metadata": {},
   "outputs": [
    {
     "name": "stdout",
     "output_type": "stream",
     "text": [
      "4\n",
      "3\n"
     ]
    }
   ],
   "source": [
    "pi = math.pi\n",
    "\n",
    "print(math.ceil(pi)) # 올림\n",
    "print(math.floor(pi)) # 내림"
   ]
  },
  {
   "cell_type": "markdown",
   "id": "5ec8b2df-e8f6-4a37-8088-889fb2ef887c",
   "metadata": {},
   "source": [
    "#### ✔️ random"
   ]
  },
  {
   "cell_type": "code",
   "execution_count": 9,
   "id": "9d3369b4-d529-4362-b182-bd79040be7a1",
   "metadata": {},
   "outputs": [
    {
     "name": "stdout",
     "output_type": "stream",
     "text": [
      "0.9939747010793726\n",
      "3\n"
     ]
    }
   ],
   "source": [
    "import random\n",
    "\n",
    "# 0 ~ 1사이의 실수\n",
    "print(random.random())\n",
    "# a, b 사이의 정수\n",
    "print(random.randint(1, 10))"
   ]
  },
  {
   "cell_type": "code",
   "execution_count": 10,
   "id": "67bebc7e-3eaa-4eaa-82fd-f195d7759ef6",
   "metadata": {},
   "outputs": [
    {
     "data": {
      "text/plain": [
       "0.13436424411240122"
      ]
     },
     "execution_count": 10,
     "metadata": {},
     "output_type": "execute_result"
    }
   ],
   "source": [
    "# 1을 기반으로 한 random 출력이 나오므로 같은 값 출력\n",
    "random.seed(1)\n",
    "random.random()"
   ]
  },
  {
   "cell_type": "code",
   "execution_count": 11,
   "id": "46a43381-027a-471d-8e19-0387e609282d",
   "metadata": {},
   "outputs": [
    {
     "name": "stdout",
     "output_type": "stream",
     "text": [
      "[4, 2, 5, 3, 1]\n"
     ]
    }
   ],
   "source": [
    "a = [1, 2, 3, 4, 5]\n",
    "\n",
    "# 데이터의 순서를 랜덤하게 바꿈\n",
    "random.shuffle(a)\n",
    "print(a)"
   ]
  },
  {
   "cell_type": "code",
   "execution_count": 12,
   "id": "9dbdaa04-c8dc-4551-8510-37e88fc64099",
   "metadata": {},
   "outputs": [
    {
     "data": {
      "text/plain": [
       "'바위'"
      ]
     },
     "execution_count": 12,
     "metadata": {},
     "output_type": "execute_result"
    }
   ],
   "source": [
    "# 무작위로 하나의 원소 출력\n",
    "rcp = ['가위', '바위', '보']\n",
    "random.choice(rcp)"
   ]
  },
  {
   "cell_type": "code",
   "execution_count": 13,
   "id": "58449674-31e3-4f96-bd19-7d4df38f639c",
   "metadata": {},
   "outputs": [
    {
     "data": {
      "text/plain": [
       "[31, 42, 25, 14, 7, 32]"
      ]
     },
     "execution_count": 13,
     "metadata": {},
     "output_type": "execute_result"
    }
   ],
   "source": [
    "# range 내에서 랜덤하게 n개 원소 출력\n",
    "random.sample(range(1, 46), 6)"
   ]
  },
  {
   "cell_type": "markdown",
   "id": "f5afe42e-14d6-4962-9941-f0848bf64c2e",
   "metadata": {},
   "source": [
    "#### ✔️ datetime"
   ]
  },
  {
   "cell_type": "code",
   "execution_count": 14,
   "id": "49ee35e8-c253-4933-9b0f-cf4ab6f2ebc0",
   "metadata": {},
   "outputs": [
    {
     "name": "stdout",
     "output_type": "stream",
     "text": [
      "2024-01-15 16:12:04.990873\n",
      "2024-01-15 16:12:04.990961\n",
      "2024-01-15 07:12:04.990977\n"
     ]
    }
   ],
   "source": [
    "from datetime import datetime\n",
    "\n",
    "print(datetime.now())\n",
    "print(datetime.today())\n",
    "print(datetime.utcnow())"
   ]
  },
  {
   "cell_type": "code",
   "execution_count": 15,
   "id": "c5dbc723-22d8-47b5-af7d-8c1f21fe29b0",
   "metadata": {},
   "outputs": [
    {
     "name": "stdout",
     "output_type": "stream",
     "text": [
      "2024년 01월 15일\n",
      "24년\n",
      "2024\n",
      "0\n"
     ]
    }
   ],
   "source": [
    "now = datetime.now()\n",
    "\n",
    "print(now.strftime('%Y년 %m월 %d일'))\n",
    "print(now.strftime('%y년'))\n",
    "print(now.year)\n",
    "print(now.weekday()) # 0~6 / 월~일"
   ]
  },
  {
   "cell_type": "code",
   "execution_count": 16,
   "id": "d514eac2-3543-48e0-9c7d-6c8dd128e5e6",
   "metadata": {},
   "outputs": [
    {
     "name": "stdout",
     "output_type": "stream",
     "text": [
      "2024-01-04 00:00:00\n"
     ]
    }
   ],
   "source": [
    "from datetime import timedelta\n",
    "\n",
    "birth = datetime(2024, 1, 1)\n",
    "future = timedelta(days=3)\n",
    "\n",
    "print(birth + future)"
   ]
  },
  {
   "cell_type": "code",
   "execution_count": 17,
   "id": "27696c24-7ba8-4517-a1f7-59cd70744850",
   "metadata": {},
   "outputs": [
    {
     "name": "stdout",
     "output_type": "stream",
     "text": [
      "351 days, 7:47:55.002354\n"
     ]
    }
   ],
   "source": [
    "new_year = datetime(2025, 1, 1)\n",
    "now = datetime.now()\n",
    "\n",
    "print(new_year - now)"
   ]
  },
  {
   "cell_type": "code",
   "execution_count": 18,
   "id": "75751bd4-7b54-4354-bca7-b52a8974431f",
   "metadata": {},
   "outputs": [
    {
     "name": "stdout",
     "output_type": "stream",
     "text": [
      "2024-04-24 16:12:04.999944\n"
     ]
    }
   ],
   "source": [
    "now = datetime.now()\n",
    "f = timedelta(days=100)\n",
    "\n",
    "print(now + f)"
   ]
  }
 ],
 "metadata": {
  "kernelspec": {
   "display_name": "Python 3 (ipykernel)",
   "language": "python",
   "name": "python3"
  },
  "language_info": {
   "codemirror_mode": {
    "name": "ipython",
    "version": 3
   },
   "file_extension": ".py",
   "mimetype": "text/x-python",
   "name": "python",
   "nbconvert_exporter": "python",
   "pygments_lexer": "ipython3",
   "version": "3.11.5"
  }
 },
 "nbformat": 4,
 "nbformat_minor": 5
}
