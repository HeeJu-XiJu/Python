{
 "cells": [
  {
   "cell_type": "markdown",
   "id": "d14fca2e-0d8f-4de5-a275-396db8785abe",
   "metadata": {},
   "source": [
    "# 📍 제어문"
   ]
  },
  {
   "cell_type": "markdown",
   "id": "3bd64e2d-362d-4e70-add9-fa10f2ddb626",
   "metadata": {},
   "source": [
    "### ✅ 조건문(if문)\n",
    "\n",
    "```python\n",
    "if <조건식>:\n",
    "    if의 조건식이 참인 경우 실행\n",
    "else:\n",
    "    if의 조건식이 거짓인 경우 실행\n",
    "```"
   ]
  },
  {
   "cell_type": "code",
   "execution_count": 1,
   "id": "0e5cae6f-622f-4b6a-ab40-759eef95fb6e",
   "metadata": {},
   "outputs": [
    {
     "name": "stdout",
     "output_type": "stream",
     "text": [
      "크리스마스입니다.\n"
     ]
    }
   ],
   "source": [
    "my_string = '12/25'\n",
    "\n",
    "if my_string == '12/25':\n",
    "    print('크리스마스입니다.')\n",
    "else:\n",
    "    print('크리스마스가 아닙니다.')"
   ]
  },
  {
   "cell_type": "code",
   "execution_count": 2,
   "id": "c5859906-893d-4434-9d58-3eb914646071",
   "metadata": {},
   "outputs": [
    {
     "name": "stdout",
     "output_type": "stream",
     "text": [
      "홀수입니다.\n"
     ]
    }
   ],
   "source": [
    "num = 5\n",
    "\n",
    "if num % 2 == 0:\n",
    "    print('짝수입니다.')\n",
    "else:\n",
    "    print('홀수입니다.')"
   ]
  },
  {
   "cell_type": "markdown",
   "id": "9337cc03-1831-449e-9703-fbe542091c12",
   "metadata": {},
   "source": [
    "### ✅ 조건문(elif문)\n",
    "\n",
    "```python\n",
    "if <조건식>:\n",
    "    if 조건이 참인 경우 실행\n",
    "elif <조건식>:\n",
    "    elif 조건이 참인 경우 실행\n",
    "...\n",
    "else:\n",
    "    위의 조건식에 하나도 부합하지 않는 경우 실행\n",
    "```"
   ]
  },
  {
   "cell_type": "code",
   "execution_count": 3,
   "id": "e73e40af-7e4c-42d0-8314-38e1160f5bfe",
   "metadata": {},
   "outputs": [
    {
     "name": "stdout",
     "output_type": "stream",
     "text": [
      "C\n"
     ]
    }
   ],
   "source": [
    "# 90점 이상 A (95점 이상이라면 good 추가)\n",
    "# 80점 이상 B\n",
    "# 70점 이상 C\n",
    "# 나머지 F\n",
    "score =75\n",
    "\n",
    "if score >= 90:\n",
    "    print('A')\n",
    "    if score >= 95:\n",
    "        print('good')\n",
    "elif score >= 80:\n",
    "    print('B')\n",
    "elif score >= 70:\n",
    "    print('C')\n",
    "else:\n",
    "    print('F')"
   ]
  },
  {
   "cell_type": "markdown",
   "id": "69a37903-b117-40c6-b6e4-d436d9cc9fa1",
   "metadata": {},
   "source": [
    "### ✅ 조건표현식\n",
    "```python\n",
    "(if의 조건식이 참인 경우 실행) if <조건식> else (if의 조건식이 거짓인 경우 실행)\n",
    "```"
   ]
  },
  {
   "cell_type": "code",
   "execution_count": 4,
   "id": "57d25806-d4ee-4c3d-9275-3b0115d8f5b4",
   "metadata": {},
   "outputs": [
    {
     "name": "stdout",
     "output_type": "stream",
     "text": [
      "0\n"
     ]
    }
   ],
   "source": [
    "num = -5\n",
    "if num >= 0:\n",
    "    print(num)\n",
    "else:\n",
    "    print(0)"
   ]
  },
  {
   "cell_type": "code",
   "execution_count": 5,
   "id": "a652c6b2-8aff-4ce3-8a6e-cdcfbe41a92c",
   "metadata": {},
   "outputs": [
    {
     "name": "stdout",
     "output_type": "stream",
     "text": [
      "0\n"
     ]
    }
   ],
   "source": [
    "num = -5\n",
    "print(num) if num >=0 else print(0)"
   ]
  },
  {
   "cell_type": "code",
   "execution_count": 6,
   "id": "f7053bd7-38a1-4841-845c-374f266c1a89",
   "metadata": {},
   "outputs": [
    {
     "name": "stdout",
     "output_type": "stream",
     "text": [
      "홀수\n"
     ]
    }
   ],
   "source": [
    "num = 5\n",
    "if num % 2 == 1:\n",
    "    print('홀수')\n",
    "else:\n",
    "    print('짝수')"
   ]
  },
  {
   "cell_type": "code",
   "execution_count": 7,
   "id": "98d732ba-9ba6-49db-b543-185d024989a1",
   "metadata": {},
   "outputs": [
    {
     "name": "stdout",
     "output_type": "stream",
     "text": [
      "홀수\n"
     ]
    }
   ],
   "source": [
    "num = 5\n",
    "print('홀수') if num % 2 == 1 else print('짝수')"
   ]
  }
 ],
 "metadata": {
  "kernelspec": {
   "display_name": "Python 3 (ipykernel)",
   "language": "python",
   "name": "python3"
  },
  "language_info": {
   "codemirror_mode": {
    "name": "ipython",
    "version": 3
   },
   "file_extension": ".py",
   "mimetype": "text/x-python",
   "name": "python",
   "nbconvert_exporter": "python",
   "pygments_lexer": "ipython3",
   "version": "3.11.5"
  }
 },
 "nbformat": 4,
 "nbformat_minor": 5
}
