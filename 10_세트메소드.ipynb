{
 "cells": [
  {
   "cell_type": "markdown",
   "id": "16c65ef5-9f40-4a4e-8486-bbdeffd72da9",
   "metadata": {},
   "source": [
    "# 📍 Method(메소드)"
   ]
  },
  {
   "cell_type": "markdown",
   "id": "d52c9f28-b61c-4bb0-ba52-64020bc17106",
   "metadata": {},
   "source": [
    "### ✅ 세트 Method"
   ]
  },
  {
   "cell_type": "markdown",
   "id": "39477c65-6019-49a5-94c0-b5308ae6c686",
   "metadata": {},
   "source": [
    "#### ✔️ add"
   ]
  },
  {
   "cell_type": "code",
   "execution_count": 1,
   "id": "b650d5d8-8c85-4927-a7fd-4fa810a9f144",
   "metadata": {},
   "outputs": [
    {
     "name": "stdout",
     "output_type": "stream",
     "text": [
      "{'banana', 'apple', 'watermelon', 'melon'}\n",
      "{'banana', 'apple', 'watermelon', 'melon'}\n"
     ]
    }
   ],
   "source": [
    "fruits = {'apple', 'banana', 'melon'}\n",
    "\n",
    "# 요소 추가\n",
    "fruits.add('watermelon')\n",
    "print(fruits)\n",
    "fruits.add('watermelon') # 중복된 값은 추가되지 않음\n",
    "print(fruits)"
   ]
  },
  {
   "cell_type": "markdown",
   "id": "295478dc-63a7-43bf-942e-9c3488714e6a",
   "metadata": {},
   "source": [
    "#### ✔️ update"
   ]
  },
  {
   "cell_type": "code",
   "execution_count": 2,
   "id": "b63eb2a1-741f-49c3-80c2-26b2e16d01b1",
   "metadata": {},
   "outputs": [
    {
     "name": "stdout",
     "output_type": "stream",
     "text": [
      "{'melon', 'g', 'a', 'e', 'apple', 'banana', 'r', 'p'}\n"
     ]
    }
   ],
   "source": [
    "fruits = {'apple', 'banana', 'melon'}\n",
    "\n",
    "# add는 하나의 정보, update는 여러 개의 정보를 추가할 때 사용\n",
    "fruits.update('grape') # 글자 하나하나가 들어감\n",
    "print(fruits)"
   ]
  },
  {
   "cell_type": "code",
   "execution_count": 3,
   "id": "1ba41341-5446-4ee5-917a-1cfffb9f1689",
   "metadata": {},
   "outputs": [
    {
     "name": "stdout",
     "output_type": "stream",
     "text": [
      "{'banana', 'grape', 'melon', 'orange', 'apple'}\n"
     ]
    }
   ],
   "source": [
    "fruits = {'apple', 'banana', 'melon'}\n",
    "fruits.update({'grape', 'orange'})\n",
    "print(fruits)"
   ]
  },
  {
   "cell_type": "markdown",
   "id": "d3a1ab63-4850-46d9-9c74-c22632e14ee3",
   "metadata": {},
   "source": [
    "#### ✔️ remove"
   ]
  },
  {
   "cell_type": "code",
   "execution_count": 4,
   "id": "922fdc76-8ce2-4f0d-af79-893b4407e99e",
   "metadata": {},
   "outputs": [
    {
     "name": "stdout",
     "output_type": "stream",
     "text": [
      "{'banana', 'grape', 'melon', 'apple'}\n"
     ]
    }
   ],
   "source": [
    "# 요소 제거\n",
    "fruits.remove('orange')\n",
    "print(fruits)"
   ]
  },
  {
   "cell_type": "markdown",
   "id": "af0f2e4e-9d0d-4b8a-a6c8-263fbf8e9d48",
   "metadata": {},
   "source": [
    "#### ✔️ pop"
   ]
  },
  {
   "cell_type": "code",
   "execution_count": 5,
   "id": "21b8d909-b373-4f3e-8b53-936173a7b657",
   "metadata": {},
   "outputs": [
    {
     "name": "stdout",
     "output_type": "stream",
     "text": [
      "{'grape', 'melon', 'apple'}\n"
     ]
    }
   ],
   "source": [
    "# 요소 랜덤 제거\n",
    "fruits.pop()\n",
    "print(fruits)"
   ]
  },
  {
   "cell_type": "markdown",
   "id": "85f5caf7-e27b-46e7-9b02-444237b9eb6a",
   "metadata": {},
   "source": [
    "#### ✔️ map\n",
    ": ```map(function, iterable)```"
   ]
  },
  {
   "cell_type": "code",
   "execution_count": 6,
   "id": "4796f689-521e-456e-a284-46d987be75e0",
   "metadata": {},
   "outputs": [
    {
     "name": "stdout",
     "output_type": "stream",
     "text": [
      "<map object at 0x106f28580>\n",
      "['1', '2', '3']\n"
     ]
    }
   ],
   "source": [
    "# 반복가능한 객체를 받아 함수 적용\n",
    "a = [1, 2, 3]\n",
    "number_str = map(str, a)\n",
    "print(number_str)\n",
    "print(list(number_str))"
   ]
  },
  {
   "cell_type": "code",
   "execution_count": 7,
   "id": "7a19daaa-a19a-403d-953b-000fdf397012",
   "metadata": {},
   "outputs": [
    {
     "name": "stdout",
     "output_type": "stream",
     "text": [
      "[1, 8, 27]\n"
     ]
    }
   ],
   "source": [
    "# for문\n",
    "result = []\n",
    "for i in a:\n",
    "    result.append(i ** 3)\n",
    "\n",
    "print(result)"
   ]
  },
  {
   "cell_type": "code",
   "execution_count": 8,
   "id": "812b2220-fd6d-4cb2-9b5a-c905a7bf3cd7",
   "metadata": {},
   "outputs": [
    {
     "name": "stdout",
     "output_type": "stream",
     "text": [
      "[1, 8, 27]\n"
     ]
    }
   ],
   "source": [
    "# map 사용\n",
    "def cube(x):\n",
    "    return x ** 3\n",
    "\n",
    "result2 = map(cube, a)\n",
    "print(list(result2))"
   ]
  },
  {
   "cell_type": "code",
   "execution_count": 9,
   "id": "66ec66a4-ec0b-485a-8d9e-91a9c232ebdb",
   "metadata": {},
   "outputs": [
    {
     "name": "stdout",
     "output_type": "stream",
     "text": [
      "[1, 3, 5, 7, 9]\n"
     ]
    }
   ],
   "source": [
    "a = '1 3 5 7 9'\n",
    "numbers = list(map(int, a.split()))\n",
    "print(numbers)"
   ]
  },
  {
   "cell_type": "markdown",
   "id": "544aeca4-551d-4fad-b8f5-b8f55e0d3501",
   "metadata": {},
   "source": [
    "#### ✔️ filter\n",
    ": ```filter(function, iterable)```\\\n",
    "  filter에 들어가는 function은 T/F를 반환해야 함"
   ]
  },
  {
   "cell_type": "code",
   "execution_count": 10,
   "id": "ace2c69a-fe36-4c00-8d27-cb82938f0c90",
   "metadata": {},
   "outputs": [],
   "source": [
    "def is_odd(x):\n",
    "    return bool(x % 2)"
   ]
  },
  {
   "cell_type": "code",
   "execution_count": 11,
   "id": "1b35930a-cd5a-47ad-a947-d87046cae063",
   "metadata": {},
   "outputs": [
    {
     "name": "stdout",
     "output_type": "stream",
     "text": [
      "[1, 3, 5]\n"
     ]
    }
   ],
   "source": [
    "# for문\n",
    "numbers = [1, 2, 3, 4, 5]\n",
    "result = []\n",
    "for number in numbers:\n",
    "    if is_odd(number):\n",
    "        result.append(number)\n",
    "\n",
    "print(result)"
   ]
  },
  {
   "cell_type": "code",
   "execution_count": 12,
   "id": "7f841824-2bd4-412c-a52f-375d57a9bb44",
   "metadata": {},
   "outputs": [
    {
     "name": "stdout",
     "output_type": "stream",
     "text": [
      "[1, 3, 5]\n"
     ]
    }
   ],
   "source": [
    "# filter 사용\n",
    "result2 = filter(is_odd, numbers)\n",
    "print(list(result2))"
   ]
  },
  {
   "cell_type": "markdown",
   "id": "ef3648ac-de8a-4f62-b14c-74beeb7d54e8",
   "metadata": {},
   "source": [
    "#### ✔️ zip"
   ]
  },
  {
   "cell_type": "code",
   "execution_count": 13,
   "id": "3bfa6b2c-c681-4a38-9623-0fc28920ff71",
   "metadata": {},
   "outputs": [],
   "source": [
    "a = [1, 2, 3]\n",
    "b = [100, 200, 300, 400]"
   ]
  },
  {
   "cell_type": "code",
   "execution_count": 14,
   "id": "93ca7a0d-717c-41e8-ad4b-9c5192e059b5",
   "metadata": {},
   "outputs": [
    {
     "name": "stdout",
     "output_type": "stream",
     "text": [
      "<zip object at 0x106bc94c0>\n",
      "[(1, 100), (2, 200), (3, 300)]\n"
     ]
    }
   ],
   "source": [
    "# Tuple(list1요소, list2요소)로 변환\n",
    "result = zip(a, b)\n",
    "print(result) # 두 list의 갯수가 다를 때 갯수가 적은 list 기준\n",
    "print(list(result))"
   ]
  }
 ],
 "metadata": {
  "kernelspec": {
   "display_name": "Python 3 (ipykernel)",
   "language": "python",
   "name": "python3"
  },
  "language_info": {
   "codemirror_mode": {
    "name": "ipython",
    "version": 3
   },
   "file_extension": ".py",
   "mimetype": "text/x-python",
   "name": "python",
   "nbconvert_exporter": "python",
   "pygments_lexer": "ipython3",
   "version": "3.11.5"
  }
 },
 "nbformat": 4,
 "nbformat_minor": 5
}
