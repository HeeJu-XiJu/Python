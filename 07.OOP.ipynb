{
 "cells": [
  {
   "cell_type": "markdown",
   "id": "3ea3ddfc-edb6-4ea1-a876-553cd04294ff",
   "metadata": {},
   "source": [
    "# 객체지향 프로그래밍(OOP)\n",
    "\n",
    "- 클래스(class) : 같은 종류의 집단에 속하는 속성(attribute)과 행위(method)를 **정의**한 것\n",
    "- 인스턴스(instance) : 클래스를 실제로 메모리상에 할당한 것\n",
    "- 속성(attribute) : 클래스/인스턴스가 가지고 있는 **데이터**/값\n",
    "- 행위(method) : 클래스/인스턴스가 가지고 있는 **함수**/기능"
   ]
  },
  {
   "cell_type": "markdown",
   "id": "b8f5b5fc-b95b-4b7f-a32f-15ccc6e43e0f",
   "metadata": {},
   "source": [
    "#### 클래스(class), 인스턴스(instance)"
   ]
  },
  {
   "cell_type": "code",
   "execution_count": 1,
   "id": "afd93d55-ca62-460c-8dbc-4a562ce08d81",
   "metadata": {},
   "outputs": [],
   "source": [
    "number = 1 + 1j"
   ]
  },
  {
   "cell_type": "code",
   "execution_count": 10,
   "id": "dcb69435-a14d-4398-8d35-45851246c61b",
   "metadata": {},
   "outputs": [
    {
     "data": {
      "text/plain": [
       "complex"
      ]
     },
     "execution_count": 10,
     "metadata": {},
     "output_type": "execute_result"
    }
   ],
   "source": [
    "type(number)\n",
    "# 클래스 : 허수는 (실수 + 허수)로 구성하기로 정의\n",
    "# 인스턴스 : number로 할당"
   ]
  },
  {
   "cell_type": "markdown",
   "id": "8471374f-059f-4f72-be42-9524cd428774",
   "metadata": {},
   "source": [
    "#### 속성(attribute)"
   ]
  },
  {
   "cell_type": "code",
   "execution_count": 8,
   "id": "1b53a6f0-a1b4-484d-bb0a-d0c3168d0211",
   "metadata": {},
   "outputs": [
    {
     "name": "stdout",
     "output_type": "stream",
     "text": [
      "1.0\n",
      "1.0\n"
     ]
    }
   ],
   "source": [
    "print(number.real)\n",
    "print(number.imag)\n",
    "# number가 가지고 있는 속성 불러오기 : .real / .image"
   ]
  },
  {
   "cell_type": "markdown",
   "id": "661f76a5-e0f0-4be7-b283-96813a86e4f6",
   "metadata": {},
   "source": [
    "#### 함수(method)"
   ]
  },
  {
   "cell_type": "code",
   "execution_count": 9,
   "id": "71a42cbb-9ef2-4707-955a-fb60bfde9867",
   "metadata": {},
   "outputs": [
    {
     "name": "stdout",
     "output_type": "stream",
     "text": [
      "[4, 3, 2, 1]\n"
     ]
    }
   ],
   "source": [
    "my_list = [1, 2, 3, 4]\n",
    "my_list.reverse()\n",
    "print(my_list)\n",
    "# my_list에 적용할 수 있는 함수 : .reverse()"
   ]
  },
  {
   "cell_type": "markdown",
   "id": "78ec3295-a6d1-4a91-8564-f14751a6ac71",
   "metadata": {},
   "source": [
    "## Class\n",
    "\n",
    "- 클래스 선언\n",
    "```python\n",
    "class ClassName:\n",
    "    attribute = value\n",
    "\n",
    "    def method_name(self):\n",
    "        code\n",
    "```\n",
    "\n",
    "- 인스턴스화\n",
    "```python\n",
    "ClassName()\n",
    "```"
   ]
  },
  {
   "cell_type": "markdown",
   "id": "e2d0d0a8-08e1-4f84-9ca4-fa64f7bf6f65",
   "metadata": {},
   "source": [
    "#### class 선언"
   ]
  },
  {
   "cell_type": "code",
   "execution_count": 16,
   "id": "583e3d16-01a6-4df1-93c6-2e43108e2d38",
   "metadata": {},
   "outputs": [],
   "source": [
    "class MyClass:\n",
    "    name = 'han'\n",
    "\n",
    "    def hello(self):\n",
    "        return 'hello'"
   ]
  },
  {
   "cell_type": "markdown",
   "id": "0cca43bf-85cd-45dc-a755-e7ba557dc65d",
   "metadata": {},
   "source": [
    "#### 인스턴스화"
   ]
  },
  {
   "cell_type": "code",
   "execution_count": 21,
   "id": "34d3ee1d-55bf-47b8-b38a-b1502a0ed811",
   "metadata": {},
   "outputs": [
    {
     "name": "stdout",
     "output_type": "stream",
     "text": [
      "<class '__main__.MyClass'>\n",
      "han\n",
      "hello\n",
      "kim\n",
      "hello\n"
     ]
    }
   ],
   "source": [
    "a = MyClass()\n",
    "print(type(a))\n",
    "\n",
    "print(a.name)\n",
    "print(a.hello())\n",
    "\n",
    "b = MyClass()\n",
    "b.name = 'kim'\n",
    "print(b.name)\n",
    "print(b.hello())"
   ]
  },
  {
   "cell_type": "code",
   "execution_count": 30,
   "id": "af2b774b-74aa-423e-a557-101f678ad326",
   "metadata": {},
   "outputs": [],
   "source": [
    "class Phone:\n",
    "    power = False\n",
    "    number = '010-0000-0000'\n",
    "    book = {}\n",
    "    model = ''\n",
    "\n",
    "    def on(self):\n",
    "        if self.power == False:\n",
    "            self.power = True\n",
    "\n",
    "    def off(self):\n",
    "        if self.power == True:\n",
    "            self.power = False\n",
    "\n",
    "    def call(self, target):\n",
    "        if self.power == True:\n",
    "            print(f'제 번호는 {self.number}입니다.')\n",
    "            print(f'{target}로 전화 거는 중')\n",
    "\n",
    "        else:\n",
    "            print('휴대폰을 켜주세요.')"
   ]
  },
  {
   "cell_type": "code",
   "execution_count": 31,
   "id": "ba1ddf70-a902-4b27-b157-d70d8357bdc3",
   "metadata": {},
   "outputs": [],
   "source": [
    "my_phone = Phone()\n",
    "your_phone = Phone()"
   ]
  },
  {
   "cell_type": "code",
   "execution_count": 32,
   "id": "2b4d3adb-d079-4b7e-b1b0-d64bbae2ca89",
   "metadata": {},
   "outputs": [
    {
     "name": "stdout",
     "output_type": "stream",
     "text": [
      "010-1234-1234\n"
     ]
    }
   ],
   "source": [
    "my_phone.number = '010-1234-1234'\n",
    "print(my_phone.number)"
   ]
  },
  {
   "cell_type": "code",
   "execution_count": 33,
   "id": "1332dee2-21d9-436a-9079-8913d98db7f2",
   "metadata": {},
   "outputs": [
    {
     "name": "stdout",
     "output_type": "stream",
     "text": [
      "010-0000-0000\n"
     ]
    }
   ],
   "source": [
    "print(your_phone.number)"
   ]
  },
  {
   "cell_type": "code",
   "execution_count": 35,
   "id": "0f8afff4-eab3-40bb-8870-1358f2ba8e57",
   "metadata": {},
   "outputs": [
    {
     "name": "stdout",
     "output_type": "stream",
     "text": [
      "True\n",
      "False\n",
      "False\n"
     ]
    }
   ],
   "source": [
    "my_phone.on() # my_phone.on(my_phone) -> self가 가지는 의미\n",
    "print(my_phone.power)\n",
    "print(your_phone.power)\n",
    "\n",
    "my_phone.off()\n",
    "print(my_phone.power)"
   ]
  },
  {
   "cell_type": "code",
   "execution_count": 38,
   "id": "94390a16-5d8f-4fbc-8d43-f3b370ff5cf5",
   "metadata": {},
   "outputs": [
    {
     "name": "stdout",
     "output_type": "stream",
     "text": [
      "제 번호는 010-1234-1234입니다.\n",
      "112로 전화 거는 중\n",
      "휴대폰을 켜주세요.\n"
     ]
    }
   ],
   "source": [
    "my_phone.on()\n",
    "my_phone.call('112')\n",
    "\n",
    "your_phone.call('119')"
   ]
  },
  {
   "cell_type": "code",
   "execution_count": 59,
   "id": "cbd43ca8-ee31-4106-a5c9-b6ad5720bebd",
   "metadata": {},
   "outputs": [],
   "source": [
    "# 연습\n",
    "class MyList:\n",
    "    data = []\n",
    "    \n",
    "    def append(self, num):\n",
    "        self.data = self.data + [num]\n",
    "        print(self.data)\n",
    "\n",
    "    def pop(self):\n",
    "        # self.data.pop()\n",
    "        self.data = self.data[:-1] # -는 리스트 간에 사용 X\n",
    "        print(self.data)"
   ]
  },
  {
   "cell_type": "code",
   "execution_count": 60,
   "id": "002bb872-44a0-43c3-ada4-19abc2d1fb3a",
   "metadata": {},
   "outputs": [
    {
     "name": "stdout",
     "output_type": "stream",
     "text": [
      "[]\n",
      "[5]\n",
      "[5, 10]\n",
      "[5]\n"
     ]
    }
   ],
   "source": [
    "list_a = MyList()\n",
    "print(list_a.data) # []\n",
    "\n",
    "list_a.append(5) # [5]\n",
    "list_a.append(10) # [5, 10]\n",
    "\n",
    "list_a.pop() # [5]"
   ]
  },
  {
   "cell_type": "markdown",
   "id": "8259ea8c-244f-4b29-b739-7cabb0e7335b",
   "metadata": {},
   "source": [
    "## 생성자, 소멸자\n",
    "\n",
    "```python\n",
    "class MyClass:\n",
    "\n",
    "    def __init__(self):\n",
    "        pass\n",
    "    \n",
    "    def __del__(self):\n",
    "        pass\n",
    "```"
   ]
  },
  {
   "cell_type": "code",
   "execution_count": 92,
   "id": "2b00646d-c693-4a68-bef1-6c52c024a0d9",
   "metadata": {},
   "outputs": [],
   "source": [
    "class Person:\n",
    "    name = 'noname'\n",
    "\n",
    "    def __init__(self, name='익명'):\n",
    "        self.name = name\n",
    "        print('생성됨')\n",
    "\n",
    "    def __del__(self):\n",
    "        print('소멸됨')"
   ]
  },
  {
   "cell_type": "code",
   "execution_count": 96,
   "id": "5ee841ad-31c2-4fff-a51a-ceb2a118df86",
   "metadata": {},
   "outputs": [
    {
     "name": "stdout",
     "output_type": "stream",
     "text": [
      "생성됨\n",
      "<__main__.Person object at 0x1134eef50>\n",
      "han\n"
     ]
    }
   ],
   "source": [
    "p1 = Person('han') # Person.__init__이 자동실행(따라서 name을 입력)\n",
    "# 생성됨이 프린트됨\n",
    "print(p1)\n",
    "print(p1.name)"
   ]
  },
  {
   "cell_type": "code",
   "execution_count": 78,
   "id": "e9f66945-7e7e-41f7-82fb-d083dcd30c16",
   "metadata": {},
   "outputs": [
    {
     "name": "stdout",
     "output_type": "stream",
     "text": [
      "생성됨\n",
      "kim\n"
     ]
    }
   ],
   "source": [
    "p2 = Person('kim')\n",
    "print(p2.name)"
   ]
  },
  {
   "cell_type": "code",
   "execution_count": 79,
   "id": "0f69929f-a494-4a99-8fe0-72837738e688",
   "metadata": {},
   "outputs": [
    {
     "name": "stdout",
     "output_type": "stream",
     "text": [
      "생성됨\n",
      "익명\n"
     ]
    }
   ],
   "source": [
    "p3 = Person()\n",
    "print(p3.name)"
   ]
  },
  {
   "cell_type": "code",
   "execution_count": 80,
   "id": "5c1e3128-b839-45f9-9432-0f3569cf6e21",
   "metadata": {},
   "outputs": [
    {
     "name": "stdout",
     "output_type": "stream",
     "text": [
      "noname\n"
     ]
    }
   ],
   "source": [
    "print(Person.name)"
   ]
  },
  {
   "cell_type": "code",
   "execution_count": 74,
   "id": "8023633a-8f4a-40e1-9c05-be50c60f07b2",
   "metadata": {},
   "outputs": [
    {
     "name": "stdout",
     "output_type": "stream",
     "text": [
      "010-1234-1234\n"
     ]
    }
   ],
   "source": [
    "p1.phone = '010-1234-1234'\n",
    "print(p1.phone)\n",
    "# p1 인스턴스에 .phone이라는 속성을 추가\n",
    "# p1 인스턴스는 단일객체이기 때문에 Person classd에 phone 속성이 없어도 추가 가능"
   ]
  },
  {
   "cell_type": "code",
   "execution_count": 94,
   "id": "4f166650-73ff-4dd8-a081-9716036bda0e",
   "metadata": {},
   "outputs": [
    {
     "name": "stdout",
     "output_type": "stream",
     "text": [
      "소멸됨\n"
     ]
    }
   ],
   "source": [
    "del p1"
   ]
  },
  {
   "cell_type": "code",
   "execution_count": 95,
   "id": "a2d21608-7bdf-46ae-bb3d-b02edaa50f48",
   "metadata": {},
   "outputs": [
    {
     "ename": "NameError",
     "evalue": "name 'p1' is not defined",
     "output_type": "error",
     "traceback": [
      "\u001b[0;31m---------------------------------------------------------------------------\u001b[0m",
      "\u001b[0;31mNameError\u001b[0m                                 Traceback (most recent call last)",
      "Cell \u001b[0;32mIn[95], line 1\u001b[0m\n\u001b[0;32m----> 1\u001b[0m \u001b[38;5;28mprint\u001b[39m(\u001b[43mp1\u001b[49m)\n",
      "\u001b[0;31mNameError\u001b[0m: name 'p1' is not defined"
     ]
    }
   ],
   "source": [
    "print(p1)"
   ]
  },
  {
   "cell_type": "code",
   "execution_count": 98,
   "id": "62c7bb0a-bfb0-4c63-93d6-3de8cfafff6f",
   "metadata": {},
   "outputs": [
    {
     "name": "stdout",
     "output_type": "stream",
     "text": [
      "생성됨\n",
      "소멸됨\n",
      "<__main__.Person object at 0x1134febd0>\n",
      "han\n"
     ]
    }
   ],
   "source": [
    "# 2번 실행\n",
    "p1 = Person('han')\n",
    "print(p1)\n",
    "print(p1.name)\n",
    "\n",
    "# p1에 있던 데이터가 소멸된 후 다시 데이터를 저장\n",
    "# 따라서 생성됨, 소멸됨이 모두 프린트됨"
   ]
  },
  {
   "cell_type": "code",
   "execution_count": 123,
   "id": "c24b2ee8-4f8d-47bd-9de2-eb366e018e8f",
   "metadata": {},
   "outputs": [],
   "source": [
    "# Circle\n",
    "\n",
    "class Circle:\n",
    "    pi = 3.14\n",
    "\n",
    "    def __init__(self, r, x=0, y=0):\n",
    "        self.r = r\n",
    "        self.x = x\n",
    "        self.y = y\n",
    "\n",
    "    def area(self):\n",
    "        return self.pi * self.r ** 2\n",
    "\n",
    "    def move(self, x, y):\n",
    "        self.x = x\n",
    "        self.y = y\n",
    "        print(f'원의 중심이 {self.x}, {self.y}로 이동했습니다.')\n",
    "\n",
    "    def center(self):\n",
    "        return (self.x, self.y)\n",
    "\n",
    "    def round(self):\n",
    "        return self.r * self.pi * 2"
   ]
  },
  {
   "cell_type": "code",
   "execution_count": 117,
   "id": "545fb20e-935f-48c1-b558-3aa2aa965d2f",
   "metadata": {},
   "outputs": [
    {
     "name": "stdout",
     "output_type": "stream",
     "text": [
      "(5, 5)\n",
      "5\n",
      "28.26\n",
      "원의 중심이 0, 0로 이동했습니다.\n",
      "(0, 0)\n"
     ]
    }
   ],
   "source": [
    "c1 = Circle(3, 5, 5)\n",
    "print(c1.center())\n",
    "print(c1.x)\n",
    "print(c1.area())\n",
    "c1.move(0, 0)\n",
    "print(c1.center())"
   ]
  },
  {
   "cell_type": "code",
   "execution_count": 106,
   "id": "0e001080-af80-4324-99f8-ba98642b96f1",
   "metadata": {},
   "outputs": [
    {
     "name": "stdout",
     "output_type": "stream",
     "text": [
      "10\n"
     ]
    }
   ],
   "source": [
    "c2 = Circle(10, 0, 0)\n",
    "print(c2.r)"
   ]
  },
  {
   "cell_type": "code",
   "execution_count": 124,
   "id": "d61af17f-53f1-4c76-b351-59206fd83417",
   "metadata": {},
   "outputs": [
    {
     "name": "stdout",
     "output_type": "stream",
     "text": [
      "(0, 0)\n",
      "31.400000000000002\n"
     ]
    }
   ],
   "source": [
    "c3 = Circle(5)\n",
    "print(c3.center())\n",
    "print(c3.round())"
   ]
  },
  {
   "cell_type": "code",
   "execution_count": 140,
   "id": "4fbb01fe-5b8a-4ed6-a6fd-3cd863661c2b",
   "metadata": {},
   "outputs": [],
   "source": [
    "# Point\n",
    "\n",
    "class Point:\n",
    "    def __init__(self, x, y):\n",
    "        self.x = x\n",
    "        self.y = y\n",
    "\n",
    "    def info(self):\n",
    "        return (self.x, self.y)\n",
    "\n",
    "# Circle\n",
    "class Circle:\n",
    "\n",
    "    def __init__(self, point, r):\n",
    "        self.point = point\n",
    "        self.r = r\n",
    "\n",
    "    def info(self):\n",
    "        return (self.point.x, self.point.y, self.r)\n",
    "\n",
    "    def move(self, x, y):\n",
    "        self.point.x = x\n",
    "        self.point.y = y"
   ]
  },
  {
   "cell_type": "code",
   "execution_count": 142,
   "id": "a3740a1b-6664-450f-a87c-fc63f3667a71",
   "metadata": {},
   "outputs": [
    {
     "name": "stdout",
     "output_type": "stream",
     "text": [
      "(3, 3)\n",
      "<__main__.Point object at 0x1134f86d0>\n",
      "(3, 3)\n",
      "(3, 3, 10)\n",
      "(5, 5, 10)\n",
      "(5, 5)\n"
     ]
    }
   ],
   "source": [
    "p1 = Point(3, 3)\n",
    "print(p1.info())\n",
    "\n",
    "c1 = Circle(p1, 10)\n",
    "print(c1.point)\n",
    "print(c1.point.info()) # Point의 info\n",
    "print(c1.info()) # Circle의 info\n",
    "c1.move(5, 5)\n",
    "print(c1.info())\n",
    "print(p1.info())"
   ]
  },
  {
   "cell_type": "markdown",
   "id": "ffebdfbc-7b00-4976-95de-53f90c76e4bb",
   "metadata": {},
   "source": [
    "### 클래스 변수\n",
    "- 클래스 선언 블록 최상단에 위치\n",
    "\n",
    "### 인스턴스 변수\n",
    "- 인스턴스 내부에서 생성한 변수('self.variable = ')\n",
    "\n",
    "```python\n",
    "class MyClass:\n",
    "    class_variable = '클래스변수'\n",
    "\n",
    "    def __init__(self, name):\n",
    "        self.instance_variable = '인스턴스변수'\n",
    "```"
   ]
  },
  {
   "cell_type": "code",
   "execution_count": 143,
   "id": "b96a59e4-0305-44dd-b825-03a3bc7a0cfe",
   "metadata": {},
   "outputs": [],
   "source": [
    "class Person:\n",
    "    name = '홍길동'\n",
    "    phone = '010-1234-1234'\n",
    "\n",
    "    def __init__(self, name):\n",
    "        self.name = name"
   ]
  },
  {
   "cell_type": "code",
   "execution_count": 147,
   "id": "c9fb54f2-1205-473a-b206-73295aa8f4ce",
   "metadata": {},
   "outputs": [
    {
     "name": "stdout",
     "output_type": "stream",
     "text": [
      "한희주\n",
      "홍길동\n",
      "010-1234-1234\n"
     ]
    }
   ],
   "source": [
    "p1 = Person('한희주')\n",
    "print(p1.name) # 인스턴스변수\n",
    "print(Person.name) # 클래스변수\n",
    "\n",
    "print(p1.phone)\n",
    "# print(p1.location) #  p1, Person 모두 데이터가 없으므로 오류"
   ]
  },
  {
   "cell_type": "markdown",
   "id": "80c886ba-5072-4adf-82b0-83cb8a728c3f",
   "metadata": {},
   "source": [
    "### 클래스 메소드, 인스턴스 메소드, 스태틱 메소드\n",
    "```python\n",
    "class MyClass:\n",
    "    def instance_method(self):\n",
    "        pass\n",
    "        \n",
    "    @classmethod\n",
    "    def class_method(cls):\n",
    "        pass\n",
    "        \n",
    "    @staticmethod\n",
    "    def static_method():\n",
    "        pass\n",
    "```"
   ]
  },
  {
   "cell_type": "code",
   "execution_count": 148,
   "id": "d9f7b6ed-9647-47a6-9b23-3aa205fba8b6",
   "metadata": {},
   "outputs": [],
   "source": [
    "class MyClass:\n",
    "    def instance_method(self):\n",
    "        return self\n",
    "        \n",
    "    @classmethod\n",
    "    def class_method(cls):\n",
    "        return cls\n",
    "        \n",
    "    @staticmethod\n",
    "    def static_method():\n",
    "        return 'hello'"
   ]
  },
  {
   "cell_type": "code",
   "execution_count": 151,
   "id": "d95c35c5-0f67-472c-81aa-50fd1d1bba77",
   "metadata": {},
   "outputs": [
    {
     "name": "stdout",
     "output_type": "stream",
     "text": [
      "<__main__.MyClass object at 0x112e10050>\n",
      "<class '__main__.MyClass'>\n",
      "<class '__main__.MyClass'>\n"
     ]
    }
   ],
   "source": [
    "c = MyClass()\n",
    "\n",
    "print(c.instance_method())\n",
    "print(c.class_method())\n",
    "print(MyClass.class_method())"
   ]
  },
  {
   "cell_type": "code",
   "execution_count": 164,
   "id": "b6af9753-c29d-4024-aa38-fcd54a4ce909",
   "metadata": {},
   "outputs": [],
   "source": [
    "class Puppy:\n",
    "    num_of_puppy = 0\n",
    "\n",
    "    def __init__ (self, name):\n",
    "        self.name = name\n",
    "        Puppy.num_of_puppy += 1\n",
    "\n",
    "    @classmethod\n",
    "    def get_status(cls):\n",
    "        print(f'현재 강아지는 {cls.num_of_puppy}마리입니다.')\n",
    "\n",
    "    @staticmethod\n",
    "    def bark(msg):\n",
    "        return msg\n",
    "\n",
    "    def bark2(self, msg):\n",
    "        return f'{self.name}은 {msg}합니다.'"
   ]
  },
  {
   "cell_type": "code",
   "execution_count": 165,
   "id": "8fa5c92a-9a22-40ea-a331-b70bc025c476",
   "metadata": {},
   "outputs": [
    {
     "name": "stdout",
     "output_type": "stream",
     "text": [
      "3\n",
      "현재 강아지는 3마리입니다.\n",
      "멍멍\n",
      "그르릉\n",
      "백구은 멍멍합니다.\n"
     ]
    }
   ],
   "source": [
    "p1 = Puppy('백구')\n",
    "p2 = Puppy('재롱')\n",
    "p3 = Puppy('모카')\n",
    "\n",
    "print(Puppy.num_of_puppy)\n",
    "\n",
    "Puppy.get_status()\n",
    "\n",
    "print(p1.bark('멍멍'))\n",
    "print(p2.bark('그르릉'))\n",
    "\n",
    "print(p1.bark2('멍멍'))"
   ]
  },
  {
   "cell_type": "markdown",
   "id": "64471334-7df5-44ea-9bcf-df3e09c8bb4d",
   "metadata": {},
   "source": [
    "## 상속"
   ]
  },
  {
   "cell_type": "code",
   "execution_count": 192,
   "id": "4ee1a645-dac3-41a5-8cbf-b461b2e47cbe",
   "metadata": {},
   "outputs": [],
   "source": [
    "class Person:\n",
    "\n",
    "    def __init__(self, name):\n",
    "        self.name = name\n",
    "\n",
    "    def greeting(self):\n",
    "        print(f'안녕하세요. {self.name}입니다.')"
   ]
  },
  {
   "cell_type": "code",
   "execution_count": 169,
   "id": "c6715f34-81d5-45cf-8175-bd4856381409",
   "metadata": {},
   "outputs": [
    {
     "name": "stdout",
     "output_type": "stream",
     "text": [
      "안녕하세요. 홍길동입니다.\n"
     ]
    }
   ],
   "source": [
    "p1 = Person('홍길동')\n",
    "p2 = Person('이순신')\n",
    "\n",
    "p1.greeting()"
   ]
  },
  {
   "cell_type": "code",
   "execution_count": 170,
   "id": "8cf00229-7133-4198-85f5-49a585bb7ec7",
   "metadata": {},
   "outputs": [],
   "source": [
    "class Student:\n",
    "\n",
    "    def __init__(self, name, student_id):\n",
    "        self.name = name\n",
    "        self.student_id = student_id\n",
    "\n",
    "    def greeting(self):\n",
    "        print(f'안녕하세요. {self.name}입니다.')"
   ]
  },
  {
   "cell_type": "code",
   "execution_count": 171,
   "id": "7fb49a88-e080-40b2-b7ab-fedcf37323e3",
   "metadata": {},
   "outputs": [
    {
     "name": "stdout",
     "output_type": "stream",
     "text": [
      "안녕하세요. 한희주입니다.\n"
     ]
    }
   ],
   "source": [
    "s1 = Student('한희주', '123123')\n",
    "s1.greeting()"
   ]
  },
  {
   "cell_type": "code",
   "execution_count": 172,
   "id": "986a9892-372c-4651-8cfa-19da8966f2cb",
   "metadata": {},
   "outputs": [],
   "source": [
    "class Soldier:\n",
    "\n",
    "    def __init__(self, name, soldier_id):\n",
    "        self.name = name\n",
    "        self.soldier_id = soldier_id\n",
    "\n",
    "    def greeting(self):\n",
    "        print(f'충성! {self.name}입니다.')"
   ]
  },
  {
   "cell_type": "code",
   "execution_count": 173,
   "id": "fa78212a-f220-4bcb-ba20-2d934c5f5288",
   "metadata": {},
   "outputs": [
    {
     "name": "stdout",
     "output_type": "stream",
     "text": [
      "충성! 국방이입니다.\n"
     ]
    }
   ],
   "source": [
    "s2 = Soldier('국방이', '11-111111')\n",
    "s2.greeting()"
   ]
  },
  {
   "cell_type": "code",
   "execution_count": 193,
   "id": "63e76f5b-cc40-4205-b4f0-5acb36a93cd6",
   "metadata": {},
   "outputs": [],
   "source": [
    "# 아래 주석과 같이 Person정보를 Student에 모두 들고 옴\n",
    "class Student(Person):\n",
    "    # def __init__(self, name):\n",
    "    #     self.name = name\n",
    "\n",
    "    # def greeting(self):\n",
    "    #     print(f'안녕하세요. {self.name}입니다.')\n",
    "\n",
    "    def __init__(self, name, student_id):\n",
    "        self.name = name\n",
    "        self.student_id = student_id"
   ]
  },
  {
   "cell_type": "code",
   "execution_count": 194,
   "id": "86ee285b-cda6-442d-84e6-e3184599d2f1",
   "metadata": {},
   "outputs": [
    {
     "name": "stdout",
     "output_type": "stream",
     "text": [
      "안녕하세요. 한희주입니다.\n"
     ]
    }
   ],
   "source": [
    "s1 = Student('한희주', '123123')\n",
    "s1.greeting()"
   ]
  },
  {
   "cell_type": "code",
   "execution_count": 179,
   "id": "f3142eed-f5e9-4a44-a025-7691b3169cdf",
   "metadata": {},
   "outputs": [],
   "source": [
    "class Person:\n",
    "    def __init__(self, name, email, phone, location):\n",
    "        self.name = name\n",
    "        self.email = email\n",
    "        self.phone = phone\n",
    "        self.loaction = location\n",
    "\n",
    "class Student(Person):\n",
    "    def __init__(self, name, email, phone, location, student_id):\n",
    "        self.name = name\n",
    "        self.email = email\n",
    "        self.phone = phone\n",
    "        self.loaction = location\n",
    "        self.student_id = student_id\n",
    "\n",
    "class Soldier(Person):\n",
    "    def __init__(self, name, email, phone, location, soldier_id):\n",
    "        # super()는 Person (부모클래스) return\n",
    "        super().__init__(name, email, phone, location)\n",
    "        self.soldier_id = soldier_id"
   ]
  },
  {
   "cell_type": "markdown",
   "id": "23b9603d-99cd-4068-8345-e9e080c821a0",
   "metadata": {},
   "source": [
    "### 다중상속"
   ]
  },
  {
   "cell_type": "code",
   "execution_count": 180,
   "id": "d5b6f447-6d75-460f-bf22-b535f7178b0f",
   "metadata": {},
   "outputs": [],
   "source": [
    "class Person:\n",
    "    def __init__(self, name):\n",
    "        self.name = name\n",
    "\n",
    "    def breath(self):\n",
    "        print('후하')"
   ]
  },
  {
   "cell_type": "code",
   "execution_count": 181,
   "id": "21725c0f-1f7e-4910-bee4-47339c56cad8",
   "metadata": {},
   "outputs": [],
   "source": [
    "class Mom(Person):\n",
    "    gene = 'xx'\n",
    "\n",
    "    def swim(self):\n",
    "        print('어푸어푸')\n",
    "    "
   ]
  },
  {
   "cell_type": "code",
   "execution_count": 182,
   "id": "385f53fa-d703-4e55-af44-242d64e5748e",
   "metadata": {},
   "outputs": [],
   "source": [
    "class Dad(Person):\n",
    "    gene = 'xy'\n",
    "\n",
    "    def run(self):\n",
    "        print('다다다')"
   ]
  },
  {
   "cell_type": "code",
   "execution_count": 183,
   "id": "a3093a91-5a13-48b6-b12f-ca6fbb866118",
   "metadata": {},
   "outputs": [],
   "source": [
    "class Baby(Dad, Mom):\n",
    "    pass"
   ]
  },
  {
   "cell_type": "code",
   "execution_count": 189,
   "id": "9e330bbe-47d6-465e-b2c7-240f84d85d9e",
   "metadata": {},
   "outputs": [
    {
     "name": "stdout",
     "output_type": "stream",
     "text": [
      "금쪽이\n",
      "xy\n",
      "어푸어푸\n",
      "다다다\n",
      "후하\n"
     ]
    }
   ],
   "source": [
    "b = Baby('금쪽이')\n",
    "print(b.name)\n",
    "print(b.gene) # 상위 클래스의 순서따라 상속받는 데이터가 다름\n",
    "b.swim()\n",
    "b.run()\n",
    "b.breath()"
   ]
  }
 ],
 "metadata": {
  "kernelspec": {
   "display_name": "Python 3 (ipykernel)",
   "language": "python",
   "name": "python3"
  },
  "language_info": {
   "codemirror_mode": {
    "name": "ipython",
    "version": 3
   },
   "file_extension": ".py",
   "mimetype": "text/x-python",
   "name": "python",
   "nbconvert_exporter": "python",
   "pygments_lexer": "ipython3",
   "version": "3.11.5"
  }
 },
 "nbformat": 4,
 "nbformat_minor": 5
}
