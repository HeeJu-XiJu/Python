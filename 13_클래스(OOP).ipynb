{
 "cells": [
  {
   "cell_type": "markdown",
   "id": "3ea3ddfc-edb6-4ea1-a876-553cd04294ff",
   "metadata": {},
   "source": [
    "# 📍 객체지향 프로그래밍(OOP)\n",
    "\n",
    "- 클래스(class) : 같은 종류의 집단에 속하는 속성(attribute)과 행위(method)를 정의한 것\n",
    "- 인스턴스(instance) : 클래스를 실제로 메모리상에 할당한 것\n",
    "- 속성(attribute) : 클래스/인스턴스가 가지고 있는 데이터/값\n",
    "- 행위(method) : 클래스/인스턴스가 가지고 있는 함수/기능"
   ]
  },
  {
   "cell_type": "code",
   "execution_count": 1,
   "id": "afd93d55-ca62-460c-8dbc-4a562ce08d81",
   "metadata": {},
   "outputs": [],
   "source": [
    "# 클래스 : 허수는 (실수 + 허수)로 구성하기로 정의\n",
    "# 인스턴스 : number로 할당\n",
    "number = 1 + 1j"
   ]
  },
  {
   "cell_type": "code",
   "execution_count": 2,
   "id": "1b53a6f0-a1b4-484d-bb0a-d0c3168d0211",
   "metadata": {},
   "outputs": [
    {
     "name": "stdout",
     "output_type": "stream",
     "text": [
      "1.0\n",
      "1.0\n"
     ]
    }
   ],
   "source": [
    "# number가 가지고 있는 속성 : .real / .image\n",
    "print(number.real)\n",
    "print(number.imag)"
   ]
  },
  {
   "cell_type": "code",
   "execution_count": 3,
   "id": "71a42cbb-9ef2-4707-955a-fb60bfde9867",
   "metadata": {},
   "outputs": [
    {
     "name": "stdout",
     "output_type": "stream",
     "text": [
      "[4, 3, 2, 1]\n"
     ]
    }
   ],
   "source": [
    "# my_list에 적용할 수 있는 행위 : .reverse()\n",
    "my_list = [1, 2, 3, 4]\n",
    "my_list.reverse()\n",
    "print(my_list)"
   ]
  },
  {
   "cell_type": "markdown",
   "id": "78ec3295-a6d1-4a91-8564-f14751a6ac71",
   "metadata": {},
   "source": [
    "# 📍 Class"
   ]
  },
  {
   "cell_type": "markdown",
   "id": "e2d0d0a8-08e1-4f84-9ca4-fa64f7bf6f65",
   "metadata": {},
   "source": [
    "### ✅ class 선언\n",
    "```python\n",
    "class ClassName:\n",
    "    attribute = value\n",
    "\n",
    "    def method_name(self):\n",
    "        code\n",
    "```"
   ]
  },
  {
   "cell_type": "code",
   "execution_count": 4,
   "id": "583e3d16-01a6-4df1-93c6-2e43108e2d38",
   "metadata": {},
   "outputs": [],
   "source": [
    "class MyClass:\n",
    "    name = 'han'\n",
    "\n",
    "    def hello(self):\n",
    "        return 'hello'"
   ]
  },
  {
   "cell_type": "markdown",
   "id": "0cca43bf-85cd-45dc-a755-e7ba557dc65d",
   "metadata": {},
   "source": [
    "### ✅ 인스턴스화\n",
    "```python\n",
    "ClassName()\n",
    "```"
   ]
  },
  {
   "cell_type": "code",
   "execution_count": 5,
   "id": "34d3ee1d-55bf-47b8-b38a-b1502a0ed811",
   "metadata": {},
   "outputs": [
    {
     "name": "stdout",
     "output_type": "stream",
     "text": [
      "han\n",
      "hello\n",
      "kim\n",
      "hello\n"
     ]
    }
   ],
   "source": [
    "a = MyClass()\n",
    "print(a.name)\n",
    "print(a.hello())\n",
    "\n",
    "b = MyClass()\n",
    "b.name = 'kim'\n",
    "print(b.name)\n",
    "print(b.hello())"
   ]
  },
  {
   "cell_type": "markdown",
   "id": "71469dc3-b5c6-4327-93c5-f4658efaf804",
   "metadata": {},
   "source": [
    "#### ✔️ 응용"
   ]
  },
  {
   "cell_type": "code",
   "execution_count": 6,
   "id": "af2b774b-74aa-423e-a557-101f678ad326",
   "metadata": {},
   "outputs": [],
   "source": [
    "class Phone:\n",
    "    power = False\n",
    "    number = '010-0000-0000'\n",
    "    book = {}\n",
    "    model = ''\n",
    "\n",
    "    def on(self):\n",
    "        if self.power == False:\n",
    "            self.power = True\n",
    "\n",
    "    def off(self):\n",
    "        if self.power == True:\n",
    "            self.power = False\n",
    "\n",
    "    def call(self, target):\n",
    "        if self.power == True:\n",
    "            print(f'제 번호는 {self.number}입니다.')\n",
    "            print(f'{target}로 전화 거는 중')\n",
    "\n",
    "        else:\n",
    "            print('휴대폰을 켜주세요.')"
   ]
  },
  {
   "cell_type": "code",
   "execution_count": 7,
   "id": "ba1ddf70-a902-4b27-b157-d70d8357bdc3",
   "metadata": {},
   "outputs": [
    {
     "name": "stdout",
     "output_type": "stream",
     "text": [
      "True\n",
      "제 번호는 010-1234-1234입니다.\n",
      "112로 전화 거는 중\n",
      "False\n",
      "휴대폰을 켜주세요.\n"
     ]
    }
   ],
   "source": [
    "my_phone = Phone()\n",
    "my_phone.number = '010-1234-1234'\n",
    "my_phone.on()\n",
    "print(my_phone.power)\n",
    "my_phone.call('112')\n",
    "\n",
    "your_phone = Phone()\n",
    "print(your_phone.power)\n",
    "your_phone.call('119')"
   ]
  },
  {
   "cell_type": "markdown",
   "id": "8259ea8c-244f-4b29-b739-7cabb0e7335b",
   "metadata": {},
   "source": [
    "### ✅ 생성자, 소멸자\n",
    "\n",
    "```python\n",
    "class MyClass:\n",
    "    # 생성자\n",
    "    def __init__(self):\n",
    "        pass\n",
    "    \n",
    "    # 소멸자\n",
    "    def __del__(self):\n",
    "        pass\n",
    "```"
   ]
  },
  {
   "cell_type": "code",
   "execution_count": 8,
   "id": "2b00646d-c693-4a68-bef1-6c52c024a0d9",
   "metadata": {},
   "outputs": [],
   "source": [
    "class Person:\n",
    "    name = 'noname'\n",
    "\n",
    "    def __init__(self, name='익명'):\n",
    "        self.name = name\n",
    "        print('생성됨')\n",
    "\n",
    "    def __del__(self):\n",
    "        print('소멸됨')"
   ]
  },
  {
   "cell_type": "code",
   "execution_count": 9,
   "id": "5ee841ad-31c2-4fff-a51a-ceb2a118df86",
   "metadata": {},
   "outputs": [
    {
     "name": "stdout",
     "output_type": "stream",
     "text": [
      "생성됨\n",
      "han\n",
      "noname\n"
     ]
    }
   ],
   "source": [
    "# p1이 생성됨에 따라 Person.__init__이 자동실행(따라서 name을 입력)\n",
    "# '생성됨'이 p1 생성과 동시에 프린트\n",
    "p1 = Person('han')\n",
    "print(p1.name)\n",
    "\n",
    "# Person 기본값\n",
    "print(Person.name)"
   ]
  },
  {
   "cell_type": "code",
   "execution_count": 10,
   "id": "8023633a-8f4a-40e1-9c05-be50c60f07b2",
   "metadata": {},
   "outputs": [
    {
     "name": "stdout",
     "output_type": "stream",
     "text": [
      "010-1234-1234\n"
     ]
    }
   ],
   "source": [
    "# p1 인스턴스에 .phone이라는 속성을 추가\n",
    "# p1 인스턴스는 단일객체이기 때문에 Person class에 phone 속성이 없어도 추가 가능\n",
    "p1.phone = '010-1234-1234'\n",
    "print(p1.phone)"
   ]
  },
  {
   "cell_type": "code",
   "execution_count": 11,
   "id": "4f166650-73ff-4dd8-a081-9716036bda0e",
   "metadata": {},
   "outputs": [
    {
     "name": "stdout",
     "output_type": "stream",
     "text": [
      "소멸됨\n"
     ]
    }
   ],
   "source": [
    "del p1"
   ]
  },
  {
   "cell_type": "code",
   "execution_count": 12,
   "id": "a2d21608-7bdf-46ae-bb3d-b02edaa50f48",
   "metadata": {},
   "outputs": [
    {
     "ename": "NameError",
     "evalue": "name 'p1' is not defined",
     "output_type": "error",
     "traceback": [
      "\u001b[0;31m---------------------------------------------------------------------------\u001b[0m",
      "\u001b[0;31mNameError\u001b[0m                                 Traceback (most recent call last)",
      "Cell \u001b[0;32mIn[12], line 2\u001b[0m\n\u001b[1;32m      1\u001b[0m \u001b[38;5;66;03m# p1은 소멸되었기 때문에 error\u001b[39;00m\n\u001b[0;32m----> 2\u001b[0m \u001b[38;5;28mprint\u001b[39m(p1)\n",
      "\u001b[0;31mNameError\u001b[0m: name 'p1' is not defined"
     ]
    }
   ],
   "source": [
    "# p1은 소멸되었기 때문에 error\n",
    "print(p1)"
   ]
  },
  {
   "cell_type": "code",
   "execution_count": 13,
   "id": "62c7bb0a-bfb0-4c63-93d6-3de8cfafff6f",
   "metadata": {},
   "outputs": [
    {
     "name": "stdout",
     "output_type": "stream",
     "text": [
      "생성됨\n",
      "생성됨\n",
      "소멸됨\n",
      "han\n"
     ]
    }
   ],
   "source": [
    "# 2번 실행할 경우\n",
    "# p1에 있던 데이터가 소멸된 후 다시 데이터를 저장\n",
    "# 따라서 생성됨, 소멸됨이 모두 프린트됨\n",
    "p1 = Person('han')\n",
    "p1 = Person('han')\n",
    "print(p1.name)"
   ]
  },
  {
   "cell_type": "code",
   "execution_count": 14,
   "id": "4fbb01fe-5b8a-4ed6-a6fd-3cd863661c2b",
   "metadata": {},
   "outputs": [],
   "source": [
    "# Point\n",
    "class Point:\n",
    "    def __init__(self, x, y):\n",
    "        self.x = x\n",
    "        self.y = y\n",
    "\n",
    "    def info(self):\n",
    "        return (self.x, self.y)\n",
    "\n",
    "# Circle\n",
    "class Circle:\n",
    "    def __init__(self, point, r):\n",
    "        self.point = point\n",
    "        self.r = r\n",
    "\n",
    "    def info(self):\n",
    "        return (self.point.x, self.point.y, self.r)\n",
    "\n",
    "    def move(self, x, y):\n",
    "        self.point.x = x\n",
    "        self.point.y = y"
   ]
  },
  {
   "cell_type": "code",
   "execution_count": 15,
   "id": "a3740a1b-6664-450f-a87c-fc63f3667a71",
   "metadata": {},
   "outputs": [
    {
     "name": "stdout",
     "output_type": "stream",
     "text": [
      "소멸됨\n",
      "(3, 3)\n",
      "<__main__.Point object at 0x1068e73d0>\n",
      "(3, 3)\n",
      "(3, 3, 10)\n"
     ]
    }
   ],
   "source": [
    "p1 = Point(3, 3)\n",
    "print(p1.info())\n",
    "\n",
    "c1 = Circle(p1, 10)\n",
    "print(c1.point)\n",
    "print(c1.point.info()) # Point의 info\n",
    "print(c1.info()) # Circle의 info"
   ]
  },
  {
   "cell_type": "markdown",
   "id": "ffebdfbc-7b00-4976-95de-53f90c76e4bb",
   "metadata": {},
   "source": [
    "### ✅ 클래스 변수\n",
    "- 클래스 선언 블록 최상단에 위치\n",
    "\n",
    "### ✅ 인스턴스 변수\n",
    "- 인스턴스 내부에서 생성한 변수('self.variable = ')\n",
    "\n",
    "```python\n",
    "class MyClass:\n",
    "    class_variable = '클래스변수'\n",
    "\n",
    "    def __init__(self, name):\n",
    "        self.instance_variable = '인스턴스변수'\n",
    "```"
   ]
  },
  {
   "cell_type": "code",
   "execution_count": 16,
   "id": "b96a59e4-0305-44dd-b825-03a3bc7a0cfe",
   "metadata": {},
   "outputs": [],
   "source": [
    "class Person:\n",
    "    name = '홍길동'\n",
    "    phone = '010-1234-1234'\n",
    "\n",
    "    def __init__(self, name):\n",
    "        self.name = name"
   ]
  },
  {
   "cell_type": "code",
   "execution_count": 17,
   "id": "c9fb54f2-1205-473a-b206-73295aa8f4ce",
   "metadata": {},
   "outputs": [
    {
     "name": "stdout",
     "output_type": "stream",
     "text": [
      "한희주\n",
      "홍길동\n",
      "010-1234-1234\n"
     ]
    }
   ],
   "source": [
    "p1 = Person('한희주')\n",
    "print(p1.name) # 인스턴스변수\n",
    "print(Person.name) # 클래스변수\n",
    "\n",
    "print(p1.phone)"
   ]
  },
  {
   "cell_type": "markdown",
   "id": "80c886ba-5072-4adf-82b0-83cb8a728c3f",
   "metadata": {},
   "source": [
    "### ✅ 클래스 메소드, 인스턴스 메소드, 스태틱 메소드\n",
    "- 클래스 메소드 : self가 아닌 cls 파라미터 사용\\\n",
    "    클래스 자체에서 직접 호출\n",
    "- 인스턴스 메소드 : self 파라미터 사용\n",
    "- 스태틱 메소드 : self 파라미터 X, 객체와 독립적\\\n",
    "    인스턴스 변수에 접근 불가\n",
    "```python\n",
    "class MyClass:\n",
    "    def instance_method(self):\n",
    "        pass\n",
    "        \n",
    "    @classmethod\n",
    "    def class_method(cls):\n",
    "        pass\n",
    "        \n",
    "    @staticmethod\n",
    "    def static_method():\n",
    "        pass\n",
    "```"
   ]
  },
  {
   "cell_type": "code",
   "execution_count": 18,
   "id": "b6af9753-c29d-4024-aa38-fcd54a4ce909",
   "metadata": {},
   "outputs": [],
   "source": [
    "class Puppy:\n",
    "    num_of_puppy = 0\n",
    "\n",
    "    def __init__ (self, name):\n",
    "        self.name = name\n",
    "        Puppy.num_of_puppy += 1\n",
    "\n",
    "    @classmethod\n",
    "    def get_status(cls):\n",
    "        print(f'현재 강아지는 {cls.num_of_puppy}마리입니다.')\n",
    "\n",
    "    @staticmethod\n",
    "    def bark(msg):\n",
    "        return msg\n",
    "\n",
    "    def bark2(self, msg):\n",
    "        return f'{self.name}은 {msg}합니다.'"
   ]
  },
  {
   "cell_type": "code",
   "execution_count": 19,
   "id": "8fa5c92a-9a22-40ea-a331-b70bc025c476",
   "metadata": {},
   "outputs": [
    {
     "name": "stdout",
     "output_type": "stream",
     "text": [
      "2\n",
      "현재 강아지는 2마리입니다.\n",
      "멍멍\n",
      "그르릉\n",
      "백구은 멍멍합니다.\n"
     ]
    }
   ],
   "source": [
    "p1 = Puppy('백구')\n",
    "p2 = Puppy('재롱')\n",
    "\n",
    "print(Puppy.num_of_puppy)\n",
    "\n",
    "Puppy.get_status() # 클래스 메소드\n",
    "\n",
    "print(p1.bark('멍멍')) # 스태틱 메소드\n",
    "print(p2.bark('그르릉')) # 스태틱 메소드\n",
    "\n",
    "print(p1.bark2('멍멍')) # 스태틱 메소드"
   ]
  },
  {
   "cell_type": "markdown",
   "id": "64471334-7df5-44ea-9bcf-df3e09c8bb4d",
   "metadata": {},
   "source": [
    "### ✅ 상속"
   ]
  },
  {
   "cell_type": "markdown",
   "id": "933cc899-0cf7-4664-bf5a-4a8adf672b7b",
   "metadata": {},
   "source": [
    "#### ✔️ 상속 전"
   ]
  },
  {
   "cell_type": "code",
   "execution_count": 20,
   "id": "4ee1a645-dac3-41a5-8cbf-b461b2e47cbe",
   "metadata": {},
   "outputs": [],
   "source": [
    "class Person:\n",
    "    def __init__(self, name):\n",
    "        self.name = name\n",
    "\n",
    "    def greeting(self):\n",
    "        print(f'안녕하세요. {self.name}입니다.')"
   ]
  },
  {
   "cell_type": "code",
   "execution_count": 21,
   "id": "c6715f34-81d5-45cf-8175-bd4856381409",
   "metadata": {},
   "outputs": [
    {
     "name": "stdout",
     "output_type": "stream",
     "text": [
      "안녕하세요. 홍길동입니다.\n"
     ]
    }
   ],
   "source": [
    "p1 = Person('홍길동')\n",
    "p1.greeting()"
   ]
  },
  {
   "cell_type": "code",
   "execution_count": 22,
   "id": "8cf00229-7133-4198-85f5-49a585bb7ec7",
   "metadata": {},
   "outputs": [],
   "source": [
    "class Student:\n",
    "    def __init__(self, name, student_id):\n",
    "        self.name = name\n",
    "        self.student_id = student_id\n",
    "\n",
    "    def greeting(self):\n",
    "        print(f'안녕하세요. {self.name}입니다.')"
   ]
  },
  {
   "cell_type": "code",
   "execution_count": 23,
   "id": "7fb49a88-e080-40b2-b7ab-fedcf37323e3",
   "metadata": {},
   "outputs": [
    {
     "name": "stdout",
     "output_type": "stream",
     "text": [
      "안녕하세요. 한희주입니다.\n"
     ]
    }
   ],
   "source": [
    "s1 = Student('한희주', '123123')\n",
    "s1.greeting()"
   ]
  },
  {
   "cell_type": "markdown",
   "id": "02fd3e92-09a7-4187-83de-fcbb1fe65768",
   "metadata": {},
   "source": [
    "#### ✔️ 상속 후"
   ]
  },
  {
   "cell_type": "code",
   "execution_count": 24,
   "id": "63e76f5b-cc40-4205-b4f0-5acb36a93cd6",
   "metadata": {},
   "outputs": [],
   "source": [
    "# 아래 주석과 같이 Person정보를 Student에 모두 들고 옴\n",
    "class Student(Person):\n",
    "    # def __init__(self, name):\n",
    "    #     self.name = name\n",
    "\n",
    "    # def greeting(self):\n",
    "    #     print(f'안녕하세요. {self.name}입니다.')\n",
    "\n",
    "    def __init__(self, name, student_id):\n",
    "        self.name = name\n",
    "        self.student_id = student_id"
   ]
  },
  {
   "cell_type": "code",
   "execution_count": 25,
   "id": "86ee285b-cda6-442d-84e6-e3184599d2f1",
   "metadata": {},
   "outputs": [
    {
     "name": "stdout",
     "output_type": "stream",
     "text": [
      "안녕하세요. 한희주입니다.\n"
     ]
    }
   ],
   "source": [
    "s1 = Student('한희주', '123123')\n",
    "s1.greeting()"
   ]
  },
  {
   "cell_type": "markdown",
   "id": "23b9603d-99cd-4068-8345-e9e080c821a0",
   "metadata": {},
   "source": [
    "### ✅ 다중상속"
   ]
  },
  {
   "cell_type": "code",
   "execution_count": 26,
   "id": "d5b6f447-6d75-460f-bf22-b535f7178b0f",
   "metadata": {},
   "outputs": [],
   "source": [
    "class Person:\n",
    "    def __init__(self, name):\n",
    "        self.name = name\n",
    "\n",
    "    def breath(self):\n",
    "        print('후하')\n",
    "\n",
    "# Person 상속\n",
    "class Mom(Person):\n",
    "    gene = 'xx'\n",
    "\n",
    "    def swim(self):\n",
    "        print('어푸어푸')\n",
    "        \n",
    "# Person 상속\n",
    "class Dad(Person):\n",
    "    gene = 'xy'\n",
    "\n",
    "    def run(self):\n",
    "        print('다다다')\n",
    "        \n",
    "# Dad, Mom 상속\n",
    "class Baby(Dad, Mom):\n",
    "    pass"
   ]
  },
  {
   "cell_type": "code",
   "execution_count": 27,
   "id": "9e330bbe-47d6-465e-b2c7-240f84d85d9e",
   "metadata": {
    "tags": []
   },
   "outputs": [
    {
     "name": "stdout",
     "output_type": "stream",
     "text": [
      "금쪽이\n",
      "xy\n",
      "어푸어푸\n",
      "다다다\n",
      "후하\n"
     ]
    }
   ],
   "source": [
    "b = Baby('금쪽이')\n",
    "print(b.name)\n",
    "print(b.gene) # 상위 클래스의 순서따라 상속받는 데이터가 다름\n",
    "b.swim()\n",
    "b.run()\n",
    "b.breath()"
   ]
  }
 ],
 "metadata": {
  "kernelspec": {
   "display_name": "Python 3 (ipykernel)",
   "language": "python",
   "name": "python3"
  },
  "language_info": {
   "codemirror_mode": {
    "name": "ipython",
    "version": 3
   },
   "file_extension": ".py",
   "mimetype": "text/x-python",
   "name": "python",
   "nbconvert_exporter": "python",
   "pygments_lexer": "ipython3",
   "version": "3.11.5"
  }
 },
 "nbformat": 4,
 "nbformat_minor": 5
}
