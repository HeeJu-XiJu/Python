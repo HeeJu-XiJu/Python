{
 "cells": [
  {
   "cell_type": "markdown",
   "id": "b4e58741-81af-41a7-a68a-8ef57a7ae5fb",
   "metadata": {},
   "source": [
    "# 📍 반복문"
   ]
  },
  {
   "cell_type": "markdown",
   "id": "0441e446-5c2a-4e64-9ece-75204dbc6387",
   "metadata": {},
   "source": [
    "### ✅ while문\n",
    "```python\n",
    "while <조건식>:\n",
    "실행할 코드\n",
    "```"
   ]
  },
  {
   "cell_type": "code",
   "execution_count": 1,
   "id": "b1b80c12-9e16-4ef3-9585-776975d5a4a0",
   "metadata": {},
   "outputs": [
    {
     "name": "stdout",
     "output_type": "stream",
     "text": [
      "0\n",
      "1\n",
      "2\n",
      "3\n",
      "4\n"
     ]
    }
   ],
   "source": [
    "a = 0\n",
    "\n",
    "while a <5:\n",
    "    print(a)\n",
    "    a += 1"
   ]
  },
  {
   "cell_type": "markdown",
   "id": "1cd2b24b-df74-4074-a7cc-8549a8767839",
   "metadata": {},
   "source": [
    "### ✅ for문\n",
    ": 정해진 범위 내의 반복\n",
    "\n",
    "```python\n",
    "for variable in sequence:\n",
    "    실행할 코드\n",
    "```"
   ]
  },
  {
   "cell_type": "code",
   "execution_count": 2,
   "id": "7a0ae148-23b5-4bbb-8c64-c1ce125d0ff4",
   "metadata": {},
   "outputs": [
    {
     "name": "stdout",
     "output_type": "stream",
     "text": [
      "1\n",
      "2\n",
      "3\n",
      "4\n",
      "5\n"
     ]
    }
   ],
   "source": [
    "numbers = [1, 2, 3, 4, 5]\n",
    "\n",
    "for number in numbers:\n",
    "    print(number)"
   ]
  },
  {
   "cell_type": "code",
   "execution_count": 3,
   "id": "855444c2-5094-406c-a1f4-6fb469e1d7d6",
   "metadata": {},
   "outputs": [
    {
     "name": "stdout",
     "output_type": "stream",
     "text": [
      "[1, 3, 5, 7, 9, 11, 13, 15, 17, 19, 21, 23, 25, 27, 29]\n"
     ]
    }
   ],
   "source": [
    "# 1~30까지 숫자 중에서 홀수를 모아서 리스트로 출력\n",
    "numbers = range(1,30)\n",
    "list = []\n",
    "for answer in numbers:\n",
    "    if answer % 2 == 1:\n",
    "        list.append(answer) # list로 출력하는 명령\n",
    "        \n",
    "print(list)"
   ]
  },
  {
   "cell_type": "code",
   "execution_count": 4,
   "id": "f1984305-d64b-40ec-958b-dfe2c0b725b8",
   "metadata": {
    "tags": []
   },
   "outputs": [],
   "source": [
    "menus = ['라면', '김밥', '떡볶이', '돈까스', '튀김']"
   ]
  },
  {
   "cell_type": "code",
   "execution_count": 5,
   "id": "bf78f783-1bca-4705-89a8-7ea504147583",
   "metadata": {},
   "outputs": [
    {
     "name": "stdout",
     "output_type": "stream",
     "text": [
      "라면\n",
      "김밥\n",
      "떡볶이\n",
      "돈까스\n",
      "튀김\n"
     ]
    }
   ],
   "source": [
    "# index 접근\n",
    "for i in range(len(menus)):\n",
    "    print(menus[i])"
   ]
  },
  {
   "cell_type": "code",
   "execution_count": 6,
   "id": "be93102a-b9bc-424b-b72b-c157083a2dd3",
   "metadata": {},
   "outputs": [
    {
     "name": "stdout",
     "output_type": "stream",
     "text": [
      "(0, '라면')\n",
      "(1, '김밥')\n",
      "(2, '떡볶이')\n",
      "(3, '돈까스')\n",
      "(4, '튀김')\n"
     ]
    }
   ],
   "source": [
    "# enumerate : index번호와 value를 tuple로 출력\n",
    "for item in enumerate(menus):\n",
    "    print(item)"
   ]
  },
  {
   "cell_type": "code",
   "execution_count": 7,
   "id": "f3e0ce0e-6e8f-497e-8ca6-4cefb6dc513b",
   "metadata": {},
   "outputs": [
    {
     "name": "stdout",
     "output_type": "stream",
     "text": [
      "0 라면\n",
      "1 김밥\n",
      "2 떡볶이\n",
      "3 돈까스\n",
      "4 튀김\n"
     ]
    }
   ],
   "source": [
    "for index, menu in enumerate(menus):\n",
    "    print(index, menu)"
   ]
  },
  {
   "cell_type": "markdown",
   "id": "8327461b-b37c-42c9-8562-abbb33379d75",
   "metadata": {},
   "source": [
    "### ✅ Dictionary 반복문\n",
    "\n",
    "- for key in dict:\n",
    "- for key in dict.keys():\n",
    "- for value in dict.values():\n",
    "- for key, value in dict.items():"
   ]
  },
  {
   "cell_type": "code",
   "execution_count": 8,
   "id": "43fdf0a0-e539-444e-bea7-9b31a3821f94",
   "metadata": {},
   "outputs": [],
   "source": [
    "blood_type = {\n",
    "    'A': 5,\n",
    "    'B': 4,\n",
    "    'O': 2,\n",
    "    'AB': 3,\n",
    "}"
   ]
  },
  {
   "cell_type": "code",
   "execution_count": 9,
   "id": "aceeb1ce-427a-4e1b-85de-8da80dc5abd8",
   "metadata": {
    "tags": []
   },
   "outputs": [
    {
     "name": "stdout",
     "output_type": "stream",
     "text": [
      "A 5\n",
      "B 4\n",
      "O 2\n",
      "AB 3\n"
     ]
    }
   ],
   "source": [
    "for key in blood_type:\n",
    "    print(key, blood_type[key])"
   ]
  },
  {
   "cell_type": "code",
   "execution_count": 10,
   "id": "441585e9-0427-4d31-8101-c16d08b41dff",
   "metadata": {},
   "outputs": [
    {
     "name": "stdout",
     "output_type": "stream",
     "text": [
      "혈액형 목록은 다음과 같습니다.\n",
      "A\n",
      "B\n",
      "O\n",
      "AB\n"
     ]
    }
   ],
   "source": [
    "print('혈액형 목록은 다음과 같습니다.')\n",
    "for key in blood_type.keys(): # dict의 key를 sequence로 출력\n",
    "    print(key)"
   ]
  },
  {
   "cell_type": "code",
   "execution_count": 11,
   "id": "3cb9e53c-3e2e-4260-96ad-573bed439672",
   "metadata": {},
   "outputs": [
    {
     "name": "stdout",
     "output_type": "stream",
     "text": [
      "총 인원은 14명입니다.\n"
     ]
    }
   ],
   "source": [
    "result = 0\n",
    "\n",
    "for value in blood_type.values():\n",
    "    result += value\n",
    "\n",
    "print(f'총 인원은 {result}명입니다.')"
   ]
  },
  {
   "cell_type": "code",
   "execution_count": 12,
   "id": "7f508510-1351-4d31-8044-6593c2f76521",
   "metadata": {},
   "outputs": [
    {
     "name": "stdout",
     "output_type": "stream",
     "text": [
      "A형은 5명입니다.\n",
      "B형은 4명입니다.\n",
      "O형은 2명입니다.\n",
      "AB형은 3명입니다.\n"
     ]
    }
   ],
   "source": [
    "# items : Tuple 형식\n",
    "for key, value in blood_type.items():\n",
    "    print(f'{key}형은 {value}명입니다.')"
   ]
  },
  {
   "cell_type": "markdown",
   "id": "15f991cc-f4f1-446d-b0bd-ec35793672f7",
   "metadata": {},
   "source": [
    "### ✅ break\n",
    ": 반복문을 종료시키는 키워드"
   ]
  },
  {
   "cell_type": "code",
   "execution_count": 13,
   "id": "1df22456-5c08-4f08-a7ec-082b5fa22c0d",
   "metadata": {},
   "outputs": [
    {
     "name": "stdout",
     "output_type": "stream",
     "text": [
      "보리\n",
      "보리\n",
      "보리\n",
      "보리\n",
      "쌀\n",
      "잡았다!\n"
     ]
    }
   ],
   "source": [
    "# 쌀보리 게임\n",
    "rice = ['보리', '보리', '보리', '보리', '쌀', '보리', '보리', '보리']\n",
    "for answer in rice:\n",
    "    print(answer)\n",
    "    if answer == '쌀':\n",
    "        print('잡았다!')\n",
    "        break"
   ]
  },
  {
   "cell_type": "markdown",
   "id": "31d8797a-9e21-411a-944a-342b15070a7b",
   "metadata": {},
   "source": [
    "### ✅ continue\n",
    ": continue 이후의 코드를 실행하지 않고 다음 반복을 실행"
   ]
  },
  {
   "cell_type": "code",
   "execution_count": 14,
   "id": "713373df-18dd-47c7-a7e2-363074c8e541",
   "metadata": {},
   "outputs": [
    {
     "name": "stdout",
     "output_type": "stream",
     "text": [
      "0\n",
      "2\n",
      "4\n",
      "6\n",
      "8\n"
     ]
    }
   ],
   "source": [
    "for i in range(10):\n",
    "    if i % 2:\n",
    "        continue\n",
    "\n",
    "    print(i)"
   ]
  },
  {
   "cell_type": "markdown",
   "id": "97e54cfc-30d4-4373-be70-a506cb4ee04f",
   "metadata": {},
   "source": [
    "### ✅ else\n",
    ": 끝까지 반복이 진행된 후 실행 (break를 만나지 않은 경우)"
   ]
  },
  {
   "cell_type": "code",
   "execution_count": 15,
   "id": "c40b6e8a-4b3e-4d15-8842-48b483f676dc",
   "metadata": {},
   "outputs": [
    {
     "name": "stdout",
     "output_type": "stream",
     "text": [
      "True\n"
     ]
    }
   ],
   "source": [
    "numbers = [1, 2, 3, 4, 5]\n",
    "target = 1\n",
    "\n",
    "# numbers를 반복하다 target이 있으면 True 출력, 없으면 False 출력\n",
    "for answer in numbers:\n",
    "    if answer == target:\n",
    "        print('True')\n",
    "        break\n",
    "\n",
    "else:\n",
    "    print('False')"
   ]
  },
  {
   "cell_type": "markdown",
   "id": "36665c1b-6272-4f65-9757-9e7b719eaa77",
   "metadata": {},
   "source": [
    "### ✅ pass\n",
    ": 실행할 코드가 없는 것으로 다음 행동을 계속해서 진행"
   ]
  },
  {
   "cell_type": "code",
   "execution_count": 16,
   "id": "4fb09103-e46e-44b6-9104-b5f6f934a64d",
   "metadata": {},
   "outputs": [],
   "source": [
    "if True:\n",
    "    pass"
   ]
  },
  {
   "cell_type": "markdown",
   "id": "b21de1f5-e96d-46aa-b11f-970313f368bc",
   "metadata": {},
   "source": [
    "### ✅ match\n",
    "```python\n",
    "match value:\n",
    "    case 조건:\n",
    "        실행할 코드\n",
    "    case 조건:\n",
    "        실행할 코드\n",
    "    case _:\n",
    "        실행할 코드\n",
    "```"
   ]
  },
  {
   "cell_type": "code",
   "execution_count": 17,
   "id": "1618ae3a-c985-411c-9441-627b7c2276cb",
   "metadata": {},
   "outputs": [
    {
     "name": "stdout",
     "output_type": "stream",
     "text": [
      "something\n"
     ]
    }
   ],
   "source": [
    "status = 100\n",
    "\n",
    "match status:\n",
    "    case 400:\n",
    "        print('bad request')\n",
    "    case 404:\n",
    "        print('not found')\n",
    "    case 418:\n",
    "        print('teapot')\n",
    "    case _:\n",
    "        print('something')"
   ]
  }
 ],
 "metadata": {
  "kernelspec": {
   "display_name": "Python 3 (ipykernel)",
   "language": "python",
   "name": "python3"
  },
  "language_info": {
   "codemirror_mode": {
    "name": "ipython",
    "version": 3
   },
   "file_extension": ".py",
   "mimetype": "text/x-python",
   "name": "python",
   "nbconvert_exporter": "python",
   "pygments_lexer": "ipython3",
   "version": "3.11.5"
  }
 },
 "nbformat": 4,
 "nbformat_minor": 5
}
