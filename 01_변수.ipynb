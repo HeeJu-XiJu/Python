{
 "cells": [
  {
   "cell_type": "markdown",
   "id": "ad3dfacf-8555-4eb5-b9bf-35d41471d8b9",
   "metadata": {},
   "source": [
    "# 📍 변수\n",
    ": 변수이름 = 값"
   ]
  },
  {
   "cell_type": "markdown",
   "id": "5a46ce1a-90bc-4551-bde8-5020a181f9af",
   "metadata": {},
   "source": [
    "### ✅ Number\n",
    "- int : 정수\n",
    "- float : 소수\n",
    "- complex : 허수\n",
    "    - 변수.imag : 허수부분\n",
    "    - 변수.real : 실수부분"
   ]
  },
  {
   "cell_type": "markdown",
   "id": "26d5fd9d-dbb9-4238-ad3a-90863930cd9b",
   "metadata": {},
   "source": [
    ": ```type()``` 변수타입 출력"
   ]
  },
  {
   "cell_type": "code",
   "execution_count": 1,
   "id": "0a31ce7b-5279-487c-9a5e-20df4097f6b3",
   "metadata": {},
   "outputs": [
    {
     "data": {
      "text/plain": [
       "int"
      ]
     },
     "execution_count": 1,
     "metadata": {},
     "output_type": "execute_result"
    }
   ],
   "source": [
    "a = 1000\n",
    "type(a)"
   ]
  },
  {
   "cell_type": "code",
   "execution_count": 2,
   "id": "fd2ac622-b677-4958-944f-a0c82bb6c672",
   "metadata": {},
   "outputs": [
    {
     "data": {
      "text/plain": [
       "float"
      ]
     },
     "execution_count": 2,
     "metadata": {},
     "output_type": "execute_result"
    }
   ],
   "source": [
    "b = 1.1\n",
    "type(b)"
   ]
  },
  {
   "cell_type": "code",
   "execution_count": 3,
   "id": "00fc476d-47b4-43cd-a17f-56fb9783edab",
   "metadata": {},
   "outputs": [
    {
     "data": {
      "text/plain": [
       "complex"
      ]
     },
     "execution_count": 3,
     "metadata": {},
     "output_type": "execute_result"
    }
   ],
   "source": [
    "c = 1 - 4j\n",
    "type(c)"
   ]
  },
  {
   "cell_type": "code",
   "execution_count": 4,
   "id": "a7f00dd0-a9ba-4ca6-884e-2ae1aeb77cbf",
   "metadata": {},
   "outputs": [
    {
     "data": {
      "text/plain": [
       "-4.0"
      ]
     },
     "execution_count": 4,
     "metadata": {},
     "output_type": "execute_result"
    }
   ],
   "source": [
    "c.imag"
   ]
  },
  {
   "cell_type": "code",
   "execution_count": 5,
   "id": "ac94435e-4eb6-48e6-bf69-32cc3321cf04",
   "metadata": {},
   "outputs": [
    {
     "data": {
      "text/plain": [
       "1.0"
      ]
     },
     "execution_count": 5,
     "metadata": {},
     "output_type": "execute_result"
    }
   ],
   "source": [
    "c.real"
   ]
  },
  {
   "cell_type": "markdown",
   "id": "0b585d6f-4992-4800-abaa-c4ab62a23527",
   "metadata": {},
   "source": [
    "### ✅ Boolean\n",
    ": True(1), False(0)로 이루어진 타입"
   ]
  },
  {
   "cell_type": "code",
   "execution_count": 6,
   "id": "d6f10ca2-3f60-4ead-a9b8-3d8b8ea1b71d",
   "metadata": {},
   "outputs": [
    {
     "data": {
      "text/plain": [
       "(bool, bool)"
      ]
     },
     "execution_count": 6,
     "metadata": {},
     "output_type": "execute_result"
    }
   ],
   "source": [
    "a = True\n",
    "b = False\n",
    "type(a), type(b)"
   ]
  },
  {
   "cell_type": "markdown",
   "id": "23c2eccb-6183-4720-be4f-41b90b1cd94f",
   "metadata": {},
   "source": [
    "### ✅ None\n",
    ": 데이터가 없음을 의미"
   ]
  },
  {
   "cell_type": "code",
   "execution_count": 7,
   "id": "a89e9073-1880-461d-8cc4-348664644ff8",
   "metadata": {},
   "outputs": [
    {
     "data": {
      "text/plain": [
       "NoneType"
      ]
     },
     "execution_count": 7,
     "metadata": {},
     "output_type": "execute_result"
    }
   ],
   "source": [
    "a = None\n",
    "type(a)"
   ]
  },
  {
   "cell_type": "markdown",
   "id": "08f12a3c-0621-457a-abcf-e60b3338aa43",
   "metadata": {},
   "source": [
    "### ✅ String\n",
    ": 문자열은 `'`, `\"`를 이용하여 표현"
   ]
  },
  {
   "cell_type": "code",
   "execution_count": 8,
   "id": "8f2493ef-cb87-4b81-8163-13cb21fb2a5f",
   "metadata": {},
   "outputs": [
    {
     "data": {
      "text/plain": [
       "str"
      ]
     },
     "execution_count": 8,
     "metadata": {},
     "output_type": "execute_result"
    }
   ],
   "source": [
    "a = 'hello'\n",
    "type(a)"
   ]
  },
  {
   "cell_type": "markdown",
   "id": "3d07cc7f-7864-4ba2-ac8c-695c028d8980",
   "metadata": {},
   "source": [
    "#### ✔️ string interpolation\n",
    "\n",
    "- % formatting\n",
    "- .format()\n",
    "- f-string"
   ]
  },
  {
   "cell_type": "code",
   "execution_count": 9,
   "id": "c643cf62-3b2b-48c3-a4a4-cef99318ec78",
   "metadata": {},
   "outputs": [],
   "source": [
    "age = 10"
   ]
  },
  {
   "cell_type": "code",
   "execution_count": 10,
   "id": "a8dc92ae-a692-4721-901b-e494f84b9746",
   "metadata": {},
   "outputs": [
    {
     "name": "stdout",
     "output_type": "stream",
     "text": [
      "홍길동은 10살입니다.\n"
     ]
    }
   ],
   "source": [
    "print('홍길동은 %s살입니다.'% age)"
   ]
  },
  {
   "cell_type": "code",
   "execution_count": 11,
   "id": "584a430c-89d8-4fd8-a73d-3712e80c39ce",
   "metadata": {},
   "outputs": [
    {
     "name": "stdout",
     "output_type": "stream",
     "text": [
      "홍길동은 10살입니다.\n"
     ]
    }
   ],
   "source": [
    "print('홍길동은 {}살입니다.' .format(age))"
   ]
  },
  {
   "cell_type": "code",
   "execution_count": 12,
   "id": "589cd7d5-c681-435f-bfe8-ab3e32e4b176",
   "metadata": {},
   "outputs": [
    {
     "name": "stdout",
     "output_type": "stream",
     "text": [
      "홍길동은 10살입니다.\n"
     ]
    }
   ],
   "source": [
    "print(f'홍길동은 {age}살입니다.')"
   ]
  }
 ],
 "metadata": {
  "kernelspec": {
   "display_name": "Python 3 (ipykernel)",
   "language": "python",
   "name": "python3"
  },
  "language_info": {
   "codemirror_mode": {
    "name": "ipython",
    "version": 3
   },
   "file_extension": ".py",
   "mimetype": "text/x-python",
   "name": "python",
   "nbconvert_exporter": "python",
   "pygments_lexer": "ipython3",
   "version": "3.11.5"
  }
 },
 "nbformat": 4,
 "nbformat_minor": 5
}
